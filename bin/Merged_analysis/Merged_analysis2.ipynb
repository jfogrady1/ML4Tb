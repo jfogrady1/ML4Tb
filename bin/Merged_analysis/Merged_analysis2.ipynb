{
 "cells": [
  {
   "cell_type": "markdown",
   "metadata": {},
   "source": [
    "# ML4TB project\n",
    "# Code for MLP, NN, GBM ML models"
   ]
  },
  {
   "cell_type": "code",
   "execution_count": 1,
   "metadata": {},
   "outputs": [
    {
     "name": "stderr",
     "output_type": "stream",
     "text": [
      "2025-04-24 18:47:27.186665: E external/local_xla/xla/stream_executor/cuda/cuda_fft.cc:467] Unable to register cuFFT factory: Attempting to register factory for plugin cuFFT when one has already been registered\n",
      "WARNING: All log messages before absl::InitializeLog() is called are written to STDERR\n",
      "E0000 00:00:1745516847.205222  630433 cuda_dnn.cc:8579] Unable to register cuDNN factory: Attempting to register factory for plugin cuDNN when one has already been registered\n",
      "E0000 00:00:1745516847.210919  630433 cuda_blas.cc:1407] Unable to register cuBLAS factory: Attempting to register factory for plugin cuBLAS when one has already been registered\n",
      "W0000 00:00:1745516847.226712  630433 computation_placer.cc:177] computation placer already registered. Please check linkage and avoid linking the same target more than once.\n",
      "W0000 00:00:1745516847.226726  630433 computation_placer.cc:177] computation placer already registered. Please check linkage and avoid linking the same target more than once.\n",
      "W0000 00:00:1745516847.226728  630433 computation_placer.cc:177] computation placer already registered. Please check linkage and avoid linking the same target more than once.\n",
      "W0000 00:00:1745516847.226730  630433 computation_placer.cc:177] computation placer already registered. Please check linkage and avoid linking the same target more than once.\n",
      "2025-04-24 18:47:27.231866: I tensorflow/core/platform/cpu_feature_guard.cc:210] This TensorFlow binary is optimized to use available CPU instructions in performance-critical operations.\n",
      "To enable the following instructions: AVX2 FMA, in other operations, rebuild TensorFlow with the appropriate compiler flags.\n"
     ]
    }
   ],
   "source": [
    "import os\n",
    "import warnings\n",
    "warnings.filterwarnings(\"ignore\", category=UserWarning, module='tensorflow.keras.wrappers.scikit_learn')\n",
    "\n",
    "\n",
    "import tensorflow as tf\n",
    "\n",
    "\n",
    "\n",
    "tf.config.threading.set_intra_op_parallelism_threads(2)\n",
    "tf.config.threading.set_inter_op_parallelism_threads(1)\n",
    "\n",
    "\n",
    "import pandas as pd\n",
    "import numpy as np\n",
    "import matplotlib.pyplot as plt\n",
    "import seaborn as sns\n",
    "from sklearn.neural_network import MLPClassifier\n",
    "from scipy import stats\n",
    "from scipy.stats import kurtosis\n",
    "\n",
    "\n",
    "\n",
    "\n",
    "from sklearn.linear_model import LogisticRegression\n",
    "from sklearn.metrics import classification_report, confusion_matrix, ConfusionMatrixDisplay,roc_curve,auc, make_scorer,mean_squared_error\n",
    "from sklearn.preprocessing import StandardScaler\n",
    "from sklearn.model_selection import KFold, GridSearchCV, cross_val_score\n",
    "from sklearn.decomposition import PCA, NMF, FastICA\n",
    "from sklearn.metrics import accuracy_score, f1_score, precision_score, recall_score\n",
    "from sklearn.pipeline import Pipeline\n",
    "import warnings\n",
    "import pickle\n",
    "from sklearn.pipeline import Pipeline\n",
    "\n",
    "\n",
    "\n",
    "import math\n",
    "from tensorflow.keras.utils import to_categorical\n",
    "from tensorflow.keras.models import Sequential\n",
    "from tensorflow.keras.layers import Input, Dense, Activation, Dropout\n",
    "\n",
    "from scikeras.wrappers import KerasClassifier\n",
    "\n",
    "from sklearn.model_selection import GridSearchCV, RandomizedSearchCV\n",
    "\n",
    "tf.get_logger().setLevel('ERROR')\n",
    "os.environ['CUDA_VISIBLE_DEVICES'] = \"0\"\n",
    "os.environ['TF_CPP_MIN_LOG_LEVEL'] = \"3\"\n",
    "os.environ[\"PYCARET_CUSTOM_LOGGING_LEVEL\"] = \"CRITICAL\""
   ]
  },
  {
   "cell_type": "code",
   "execution_count": 2,
   "metadata": {},
   "outputs": [],
   "source": [
    "def create_nn_model(neurons1, neurons2, neurons3, optimizer):\n",
    "    model = Sequential()\n",
    "    model.add(Input(shape=(train_data.shape[1],)))  # Input layer\n",
    "    model.add(Dense(neurons1, activation = \"relu\"))\n",
    "    model.add(Dense(neurons2, activation = \"relu\"))\n",
    "    model.add(Dense(neurons3, activation = \"relu\"))\n",
    "    model.add(Dense(1, activation = \"sigmoid\"))\n",
    "    model.compile(loss = \"binary_crossentropy\",\n",
    "                  optimizer = optimizer,\n",
    "                  metrics = [\"accuracy\"])\n",
    "    return model\n",
    "\n",
    "\n",
    "nn_param_grid = {\"model__neurons1\": [2,4,8,16,32, 64, 128, 256, 512, 1024],\n",
    "                 \"model__neurons2\": [2,4,8,16,32, 64, 128, 256, 512, 1024],\n",
    "                 \"model__neurons3\": [2,4,8,16,32, 64, 128, 256, 512, 1024],\n",
    "                 \"model__optimizer\": [\"SGD\", \"RMSprop\", \"Adam\"]}"
   ]
  },
  {
   "cell_type": "code",
   "execution_count": 3,
   "metadata": {},
   "outputs": [],
   "source": [
    "train_data = pd.read_csv(\"/home/workspace/jogrady/ML4TB/work/merged/Temp_files/train_normalised_filtered_counts.txt\", sep = \"\\t\")\n",
    "train_data_F1 = pd.read_csv(\"/home/workspace/jogrady/ML4TB/work/merged/Temp_files/train_normalised_filtered_counts_Fold1.txt\", sep = \"\\t\")\n",
    "train_data_F2 = pd.read_csv(\"/home/workspace/jogrady/ML4TB/work/merged/Temp_files/train_normalised_filtered_counts_Fold2.txt\", sep = \"\\t\")\n",
    "train_data_F3 = pd.read_csv(\"/home/workspace/jogrady/ML4TB/work/merged/Temp_files/train_normalised_filtered_counts_Fold3.txt\", sep = \"\\t\")\n",
    "train_data_F4 = pd.read_csv(\"/home/workspace/jogrady/ML4TB/work/merged/Temp_files/train_normalised_filtered_counts_Fold4.txt\", sep = \"\\t\")\n",
    "train_data_F5 = pd.read_csv(\"/home/workspace/jogrady/ML4TB/work/merged/Temp_files/train_normalised_filtered_counts_Fold5.txt\", sep = \"\\t\")\n",
    "fold1_array = np.array(pd.read_csv(\"/home/workspace/jogrady/ML4TB/work/merged/Temp_files/Fold1_integers.txt\",header=None)).ravel() -1\n",
    "fold2_array = np.array(pd.read_csv(\"/home/workspace/jogrady/ML4TB/work/merged/Temp_files/Fold2_integers.txt\",header=None)).ravel() -1\n",
    "fold3_array = np.array(pd.read_csv(\"/home/workspace/jogrady/ML4TB/work/merged/Temp_files/Fold3_integers.txt\",header=None)).ravel() -1\n",
    "fold4_array = np.array(pd.read_csv(\"/home/workspace/jogrady/ML4TB/work/merged/Temp_files/Fold4_integers.txt\",header=None)).ravel() -1\n",
    "fold5_array = np.array(pd.read_csv(\"/home/workspace/jogrady/ML4TB/work/merged/Temp_files/Fold5_integers.txt\",header=None)).ravel() -1\n",
    "\n",
    "all_indices = np.arange(train_data.shape[0] -1)\n",
    "fold1_array_test = np.setdiff1d(all_indices, fold1_array)\n",
    "fold2_array_test = np.setdiff1d(all_indices, fold2_array)\n",
    "fold3_array_test = np.setdiff1d(all_indices, fold3_array)\n",
    "fold4_array_test = np.setdiff1d(all_indices, fold4_array)\n",
    "fold5_array_test = np.setdiff1d(all_indices, fold5_array)\n",
    "\n",
    "cv_splits = [(np.array(fold1_array), np.array(fold1_array_test)),\n",
    "(np.array(fold2_array), np.array(fold2_array_test)),\n",
    "(np.array(fold3_array), np.array(fold3_array_test)),\n",
    "(np.array(fold4_array), np.array(fold4_array_test)),\n",
    "(np.array(fold5_array), np.array(fold5_array_test))]\n",
    "\n",
    "# labels\n",
    "train_labels = train_data[\"Condition\"].map({\"Control\": 0, \"Infected\": 1}).to_numpy()\n",
    "train_data = train_data.drop(\"Condition\", axis=1)\n",
    "\n",
    "test_data = pd.read_csv(\"/home/workspace/jogrady/ML4TB/work/merged/Temp_files/test_normalised_filtered_counts.txt\", sep = \"\\t\")\n",
    "test_labels = np.array(pd.read_csv(\"/home/workspace/jogrady/ML4TB/work/merged/Temp_files/Test_set_labels.txt\", header = None)).ravel()\n",
    "test_labels = np.where(test_labels == \"Control\", 0, 1)"
   ]
  },
  {
   "cell_type": "code",
   "execution_count": 16,
   "metadata": {},
   "outputs": [
    {
     "data": {
      "text/plain": [
       "[(32, 16, 8),\n",
       " (64, 16, 8),\n",
       " (64, 32, 8),\n",
       " (64, 32, 16),\n",
       " (128, 16, 8),\n",
       " (128, 32, 8),\n",
       " (128, 32, 16),\n",
       " (128, 64, 8),\n",
       " (128, 64, 16),\n",
       " (128, 64, 32),\n",
       " (256, 16, 8),\n",
       " (256, 32, 8),\n",
       " (256, 32, 16),\n",
       " (256, 64, 8),\n",
       " (256, 64, 16),\n",
       " (256, 64, 32),\n",
       " (256, 128, 8),\n",
       " (256, 128, 16),\n",
       " (256, 128, 32),\n",
       " (256, 128, 64),\n",
       " (512, 16, 8),\n",
       " (512, 32, 8),\n",
       " (512, 32, 16),\n",
       " (512, 64, 8),\n",
       " (512, 64, 16),\n",
       " (512, 64, 32),\n",
       " (512, 128, 8),\n",
       " (512, 128, 16),\n",
       " (512, 128, 32),\n",
       " (512, 128, 64),\n",
       " (512, 256, 8),\n",
       " (512, 256, 16),\n",
       " (512, 256, 32),\n",
       " (512, 256, 64),\n",
       " (512, 256, 128)]"
      ]
     },
     "execution_count": 16,
     "metadata": {},
     "output_type": "execute_result"
    }
   ],
   "source": [
    "from itertools import product, permutations\n",
    "\n",
    "# Define the hidden layer sizes you want to combine\n",
    "layer_sizes = [8, 16, 32, 64, 128, 256, 512]\n",
    "\n",
    "# Generate all 3-layer combinations, then filter to keep only decreasing ones\n",
    "# permutations will generate all combinations, we filter those that are strictly decreasing\n",
    "hidden_layer_combinations = [\n",
    "    combo for combo in permutations(layer_sizes, 3)\n",
    "    if combo[0] > combo[1] > combo[2] or combo[0] == combo[1] == combo[2]\n",
    "]\n",
    "hidden_layer_combinations"
   ]
  },
  {
   "cell_type": "code",
   "execution_count": 17,
   "metadata": {},
   "outputs": [
    {
     "name": "stdout",
     "output_type": "stream",
     "text": [
      "Fitting 5 folds for each of 480 candidates, totalling 2400 fits\n"
     ]
    },
    {
     "name": "stderr",
     "output_type": "stream",
     "text": [
      "/home/workspace/jogrady/env/lib/python3.9/site-packages/sklearn/neural_network/_multilayer_perceptron.py:690: ConvergenceWarning: Stochastic Optimizer: Maximum iterations (5000) reached and the optimization hasn't converged yet.\n",
      "  warnings.warn(\n",
      "/home/workspace/jogrady/env/lib/python3.9/site-packages/sklearn/neural_network/_multilayer_perceptron.py:690: ConvergenceWarning: Stochastic Optimizer: Maximum iterations (5000) reached and the optimization hasn't converged yet.\n",
      "  warnings.warn(\n",
      "/home/workspace/jogrady/env/lib/python3.9/site-packages/sklearn/neural_network/_multilayer_perceptron.py:690: ConvergenceWarning: Stochastic Optimizer: Maximum iterations (5000) reached and the optimization hasn't converged yet.\n",
      "  warnings.warn(\n",
      "/home/workspace/jogrady/env/lib/python3.9/site-packages/sklearn/neural_network/_multilayer_perceptron.py:690: ConvergenceWarning: Stochastic Optimizer: Maximum iterations (5000) reached and the optimization hasn't converged yet.\n",
      "  warnings.warn(\n",
      "/home/workspace/jogrady/env/lib/python3.9/site-packages/sklearn/neural_network/_multilayer_perceptron.py:690: ConvergenceWarning: Stochastic Optimizer: Maximum iterations (5000) reached and the optimization hasn't converged yet.\n",
      "  warnings.warn(\n",
      "/home/workspace/jogrady/env/lib/python3.9/site-packages/sklearn/neural_network/_multilayer_perceptron.py:690: ConvergenceWarning: Stochastic Optimizer: Maximum iterations (5000) reached and the optimization hasn't converged yet.\n",
      "  warnings.warn(\n",
      "/home/workspace/jogrady/env/lib/python3.9/site-packages/sklearn/neural_network/_multilayer_perceptron.py:690: ConvergenceWarning: Stochastic Optimizer: Maximum iterations (5000) reached and the optimization hasn't converged yet.\n",
      "  warnings.warn(\n",
      "/home/workspace/jogrady/env/lib/python3.9/site-packages/sklearn/neural_network/_multilayer_perceptron.py:690: ConvergenceWarning: Stochastic Optimizer: Maximum iterations (5000) reached and the optimization hasn't converged yet.\n",
      "  warnings.warn(\n",
      "/home/workspace/jogrady/env/lib/python3.9/site-packages/sklearn/neural_network/_multilayer_perceptron.py:690: ConvergenceWarning: Stochastic Optimizer: Maximum iterations (5000) reached and the optimization hasn't converged yet.\n",
      "  warnings.warn(\n",
      "/home/workspace/jogrady/env/lib/python3.9/site-packages/sklearn/neural_network/_multilayer_perceptron.py:690: ConvergenceWarning: Stochastic Optimizer: Maximum iterations (5000) reached and the optimization hasn't converged yet.\n",
      "  warnings.warn(\n",
      "/home/workspace/jogrady/env/lib/python3.9/site-packages/sklearn/neural_network/_multilayer_perceptron.py:690: ConvergenceWarning: Stochastic Optimizer: Maximum iterations (5000) reached and the optimization hasn't converged yet.\n",
      "  warnings.warn(\n",
      "/home/workspace/jogrady/env/lib/python3.9/site-packages/sklearn/neural_network/_multilayer_perceptron.py:690: ConvergenceWarning: Stochastic Optimizer: Maximum iterations (5000) reached and the optimization hasn't converged yet.\n",
      "  warnings.warn(\n",
      "/home/workspace/jogrady/env/lib/python3.9/site-packages/sklearn/neural_network/_multilayer_perceptron.py:690: ConvergenceWarning: Stochastic Optimizer: Maximum iterations (5000) reached and the optimization hasn't converged yet.\n",
      "  warnings.warn(\n",
      "/home/workspace/jogrady/env/lib/python3.9/site-packages/sklearn/neural_network/_multilayer_perceptron.py:690: ConvergenceWarning: Stochastic Optimizer: Maximum iterations (5000) reached and the optimization hasn't converged yet.\n",
      "  warnings.warn(\n",
      "/home/workspace/jogrady/env/lib/python3.9/site-packages/sklearn/neural_network/_multilayer_perceptron.py:690: ConvergenceWarning: Stochastic Optimizer: Maximum iterations (5000) reached and the optimization hasn't converged yet.\n",
      "  warnings.warn(\n",
      "/home/workspace/jogrady/env/lib/python3.9/site-packages/sklearn/neural_network/_multilayer_perceptron.py:690: ConvergenceWarning: Stochastic Optimizer: Maximum iterations (5000) reached and the optimization hasn't converged yet.\n",
      "  warnings.warn(\n",
      "/home/workspace/jogrady/env/lib/python3.9/site-packages/sklearn/neural_network/_multilayer_perceptron.py:690: ConvergenceWarning: Stochastic Optimizer: Maximum iterations (5000) reached and the optimization hasn't converged yet.\n",
      "  warnings.warn(\n",
      "/home/workspace/jogrady/env/lib/python3.9/site-packages/sklearn/neural_network/_multilayer_perceptron.py:690: ConvergenceWarning: Stochastic Optimizer: Maximum iterations (5000) reached and the optimization hasn't converged yet.\n",
      "  warnings.warn(\n",
      "/home/workspace/jogrady/env/lib/python3.9/site-packages/sklearn/neural_network/_multilayer_perceptron.py:690: ConvergenceWarning: Stochastic Optimizer: Maximum iterations (5000) reached and the optimization hasn't converged yet.\n",
      "  warnings.warn(\n",
      "/home/workspace/jogrady/env/lib/python3.9/site-packages/sklearn/neural_network/_multilayer_perceptron.py:690: ConvergenceWarning: Stochastic Optimizer: Maximum iterations (5000) reached and the optimization hasn't converged yet.\n",
      "  warnings.warn(\n",
      "/home/workspace/jogrady/env/lib/python3.9/site-packages/sklearn/neural_network/_multilayer_perceptron.py:690: ConvergenceWarning: Stochastic Optimizer: Maximum iterations (5000) reached and the optimization hasn't converged yet.\n",
      "  warnings.warn(\n",
      "/home/workspace/jogrady/env/lib/python3.9/site-packages/sklearn/neural_network/_multilayer_perceptron.py:690: ConvergenceWarning: Stochastic Optimizer: Maximum iterations (5000) reached and the optimization hasn't converged yet.\n",
      "  warnings.warn(\n",
      "/home/workspace/jogrady/env/lib/python3.9/site-packages/sklearn/neural_network/_multilayer_perceptron.py:690: ConvergenceWarning: Stochastic Optimizer: Maximum iterations (5000) reached and the optimization hasn't converged yet.\n",
      "  warnings.warn(\n",
      "/home/workspace/jogrady/env/lib/python3.9/site-packages/sklearn/neural_network/_multilayer_perceptron.py:690: ConvergenceWarning: Stochastic Optimizer: Maximum iterations (5000) reached and the optimization hasn't converged yet.\n",
      "  warnings.warn(\n",
      "/home/workspace/jogrady/env/lib/python3.9/site-packages/sklearn/neural_network/_multilayer_perceptron.py:690: ConvergenceWarning: Stochastic Optimizer: Maximum iterations (5000) reached and the optimization hasn't converged yet.\n",
      "  warnings.warn(\n",
      "/home/workspace/jogrady/env/lib/python3.9/site-packages/sklearn/neural_network/_multilayer_perceptron.py:690: ConvergenceWarning: Stochastic Optimizer: Maximum iterations (5000) reached and the optimization hasn't converged yet.\n",
      "  warnings.warn(\n",
      "/home/workspace/jogrady/env/lib/python3.9/site-packages/sklearn/neural_network/_multilayer_perceptron.py:690: ConvergenceWarning: Stochastic Optimizer: Maximum iterations (5000) reached and the optimization hasn't converged yet.\n",
      "  warnings.warn(\n",
      "/home/workspace/jogrady/env/lib/python3.9/site-packages/sklearn/neural_network/_multilayer_perceptron.py:690: ConvergenceWarning: Stochastic Optimizer: Maximum iterations (5000) reached and the optimization hasn't converged yet.\n",
      "  warnings.warn(\n",
      "/home/workspace/jogrady/env/lib/python3.9/site-packages/sklearn/neural_network/_multilayer_perceptron.py:690: ConvergenceWarning: Stochastic Optimizer: Maximum iterations (5000) reached and the optimization hasn't converged yet.\n",
      "  warnings.warn(\n",
      "/home/workspace/jogrady/env/lib/python3.9/site-packages/sklearn/neural_network/_multilayer_perceptron.py:690: ConvergenceWarning: Stochastic Optimizer: Maximum iterations (5000) reached and the optimization hasn't converged yet.\n",
      "  warnings.warn(\n",
      "/home/workspace/jogrady/env/lib/python3.9/site-packages/sklearn/neural_network/_multilayer_perceptron.py:690: ConvergenceWarning: Stochastic Optimizer: Maximum iterations (5000) reached and the optimization hasn't converged yet.\n",
      "  warnings.warn(\n",
      "/home/workspace/jogrady/env/lib/python3.9/site-packages/sklearn/neural_network/_multilayer_perceptron.py:690: ConvergenceWarning: Stochastic Optimizer: Maximum iterations (5000) reached and the optimization hasn't converged yet.\n",
      "  warnings.warn(\n",
      "/home/workspace/jogrady/env/lib/python3.9/site-packages/sklearn/neural_network/_multilayer_perceptron.py:690: ConvergenceWarning: Stochastic Optimizer: Maximum iterations (5000) reached and the optimization hasn't converged yet.\n",
      "  warnings.warn(\n",
      "/home/workspace/jogrady/env/lib/python3.9/site-packages/sklearn/neural_network/_multilayer_perceptron.py:690: ConvergenceWarning: Stochastic Optimizer: Maximum iterations (5000) reached and the optimization hasn't converged yet.\n",
      "  warnings.warn(\n",
      "/home/workspace/jogrady/env/lib/python3.9/site-packages/sklearn/neural_network/_multilayer_perceptron.py:690: ConvergenceWarning: Stochastic Optimizer: Maximum iterations (5000) reached and the optimization hasn't converged yet.\n",
      "  warnings.warn(\n",
      "/home/workspace/jogrady/env/lib/python3.9/site-packages/sklearn/neural_network/_multilayer_perceptron.py:697: UserWarning: Training interrupted by user.\n",
      "  warnings.warn(\"Training interrupted by user.\")\n",
      "/home/workspace/jogrady/env/lib/python3.9/site-packages/sklearn/neural_network/_multilayer_perceptron.py:697: UserWarning: Training interrupted by user.\n",
      "  warnings.warn(\"Training interrupted by user.\")\n",
      "/home/workspace/jogrady/env/lib/python3.9/site-packages/sklearn/neural_network/_multilayer_perceptron.py:697: UserWarning: Training interrupted by user.\n",
      "  warnings.warn(\"Training interrupted by user.\")\n",
      "/home/workspace/jogrady/env/lib/python3.9/site-packages/sklearn/neural_network/_multilayer_perceptron.py:697: UserWarning: Training interrupted by user.\n",
      "  warnings.warn(\"Training interrupted by user.\")\n",
      "/home/workspace/jogrady/env/lib/python3.9/site-packages/sklearn/neural_network/_multilayer_perceptron.py:697: UserWarning: Training interrupted by user.\n",
      "  warnings.warn(\"Training interrupted by user.\")\n",
      "/home/workspace/jogrady/env/lib/python3.9/site-packages/sklearn/neural_network/_multilayer_perceptron.py:697: UserWarning: Training interrupted by user.\n",
      "  warnings.warn(\"Training interrupted by user.\")\n",
      "/home/workspace/jogrady/env/lib/python3.9/site-packages/sklearn/neural_network/_multilayer_perceptron.py:697: UserWarning: Training interrupted by user.\n",
      "  warnings.warn(\"Training interrupted by user.\")\n",
      "/home/workspace/jogrady/env/lib/python3.9/site-packages/sklearn/neural_network/_multilayer_perceptron.py:697: UserWarning: Training interrupted by user.\n",
      "  warnings.warn(\"Training interrupted by user.\")\n",
      "/home/workspace/jogrady/env/lib/python3.9/site-packages/sklearn/neural_network/_multilayer_perceptron.py:697: UserWarning: Training interrupted by user.\n",
      "  warnings.warn(\"Training interrupted by user.\")\n",
      "/home/workspace/jogrady/env/lib/python3.9/site-packages/sklearn/neural_network/_multilayer_perceptron.py:697: UserWarning: Training interrupted by user.\n",
      "  warnings.warn(\"Training interrupted by user.\")\n",
      "/home/workspace/jogrady/env/lib/python3.9/site-packages/sklearn/neural_network/_multilayer_perceptron.py:697: UserWarning: Training interrupted by user.\n",
      "  warnings.warn(\"Training interrupted by user.\")\n",
      "/home/workspace/jogrady/env/lib/python3.9/site-packages/sklearn/neural_network/_multilayer_perceptron.py:697: UserWarning: Training interrupted by user.\n",
      "  warnings.warn(\"Training interrupted by user.\")\n",
      "/home/workspace/jogrady/env/lib/python3.9/site-packages/sklearn/neural_network/_multilayer_perceptron.py:697: UserWarning: Training interrupted by user.\n",
      "  warnings.warn(\"Training interrupted by user.\")\n",
      "/home/workspace/jogrady/env/lib/python3.9/site-packages/sklearn/neural_network/_multilayer_perceptron.py:697: UserWarning: Training interrupted by user.\n",
      "  warnings.warn(\"Training interrupted by user.\")\n",
      "/home/workspace/jogrady/env/lib/python3.9/site-packages/sklearn/neural_network/_multilayer_perceptron.py:697: UserWarning: Training interrupted by user.\n",
      "  warnings.warn(\"Training interrupted by user.\")\n",
      "/home/workspace/jogrady/env/lib/python3.9/site-packages/sklearn/neural_network/_multilayer_perceptron.py:697: UserWarning: Training interrupted by user.\n",
      "  warnings.warn(\"Training interrupted by user.\")\n",
      "/home/workspace/jogrady/env/lib/python3.9/site-packages/sklearn/neural_network/_multilayer_perceptron.py:697: UserWarning: Training interrupted by user.\n",
      "  warnings.warn(\"Training interrupted by user.\")\n",
      "/home/workspace/jogrady/env/lib/python3.9/site-packages/sklearn/neural_network/_multilayer_perceptron.py:697: UserWarning: Training interrupted by user.\n",
      "  warnings.warn(\"Training interrupted by user.\")\n",
      "/home/workspace/jogrady/env/lib/python3.9/site-packages/sklearn/neural_network/_multilayer_perceptron.py:697: UserWarning: Training interrupted by user.\n",
      "  warnings.warn(\"Training interrupted by user.\")\n",
      "/home/workspace/jogrady/env/lib/python3.9/site-packages/sklearn/neural_network/_multilayer_perceptron.py:697: UserWarning: Training interrupted by user.\n",
      "  warnings.warn(\"Training interrupted by user.\")\n",
      "/home/workspace/jogrady/env/lib/python3.9/site-packages/sklearn/neural_network/_multilayer_perceptron.py:697: UserWarning: Training interrupted by user.\n",
      "  warnings.warn(\"Training interrupted by user.\")\n",
      "/home/workspace/jogrady/env/lib/python3.9/site-packages/sklearn/neural_network/_multilayer_perceptron.py:697: UserWarning: Training interrupted by user.\n",
      "  warnings.warn(\"Training interrupted by user.\")\n",
      "/home/workspace/jogrady/env/lib/python3.9/site-packages/sklearn/neural_network/_multilayer_perceptron.py:697: UserWarning: Training interrupted by user.\n",
      "  warnings.warn(\"Training interrupted by user.\")\n",
      "/home/workspace/jogrady/env/lib/python3.9/site-packages/sklearn/neural_network/_multilayer_perceptron.py:697: UserWarning: Training interrupted by user.\n",
      "  warnings.warn(\"Training interrupted by user.\")\n",
      "/home/workspace/jogrady/env/lib/python3.9/site-packages/sklearn/neural_network/_multilayer_perceptron.py:697: UserWarning: Training interrupted by user.\n",
      "  warnings.warn(\"Training interrupted by user.\")\n",
      "/home/workspace/jogrady/env/lib/python3.9/site-packages/sklearn/neural_network/_multilayer_perceptron.py:697: UserWarning: Training interrupted by user.\n",
      "  warnings.warn(\"Training interrupted by user.\")\n",
      "/home/workspace/jogrady/env/lib/python3.9/site-packages/sklearn/neural_network/_multilayer_perceptron.py:697: UserWarning: Training interrupted by user.\n",
      "  warnings.warn(\"Training interrupted by user.\")\n",
      "/home/workspace/jogrady/env/lib/python3.9/site-packages/sklearn/neural_network/_multilayer_perceptron.py:697: UserWarning: Training interrupted by user.\n",
      "  warnings.warn(\"Training interrupted by user.\")\n",
      "/home/workspace/jogrady/env/lib/python3.9/site-packages/sklearn/neural_network/_multilayer_perceptron.py:697: UserWarning: Training interrupted by user.\n",
      "  warnings.warn(\"Training interrupted by user.\")\n",
      "/home/workspace/jogrady/env/lib/python3.9/site-packages/sklearn/neural_network/_multilayer_perceptron.py:697: UserWarning: Training interrupted by user.\n",
      "  warnings.warn(\"Training interrupted by user.\")\n"
     ]
    },
    {
     "ename": "KeyboardInterrupt",
     "evalue": "",
     "output_type": "error",
     "traceback": [
      "\u001b[0;31m---------------------------------------------------------------------------\u001b[0m",
      "\u001b[0;31mKeyboardInterrupt\u001b[0m                         Traceback (most recent call last)",
      "Cell \u001b[0;32mIn[17], line 39\u001b[0m\n\u001b[1;32m     32\u001b[0m \u001b[38;5;66;03m# Model CV process \u001b[39;00m\n\u001b[1;32m     33\u001b[0m mlpc_cv_model \u001b[38;5;241m=\u001b[39m GridSearchCV(mlpc, mlpc_params, \n\u001b[1;32m     34\u001b[0m                          cv \u001b[38;5;241m=\u001b[39m cv_splits, \u001b[38;5;66;03m# To make a 5-fold CV\u001b[39;00m\n\u001b[1;32m     35\u001b[0m                          n_jobs \u001b[38;5;241m=\u001b[39m \u001b[38;5;241m50\u001b[39m, \u001b[38;5;66;03m# Number of jobs to be run in parallel (-1: means to use all processors)\u001b[39;00m\n\u001b[1;32m     36\u001b[0m                          verbose \u001b[38;5;241m=\u001b[39m \u001b[38;5;241m1\u001b[39m,\n\u001b[1;32m     37\u001b[0m                          scoring\u001b[38;5;241m=\u001b[39mroc_auc_scorer) \u001b[38;5;66;03m# Controls the level of detail: higher means more messages gets value as integer.\u001b[39;00m\n\u001b[0;32m---> 39\u001b[0m \u001b[43mmlpc_cv_model\u001b[49m\u001b[38;5;241;43m.\u001b[39;49m\u001b[43mfit\u001b[49m\u001b[43m(\u001b[49m\u001b[43mtrain_data\u001b[49m\u001b[43m,\u001b[49m\u001b[43m \u001b[49m\u001b[43mtrain_labels\u001b[49m\u001b[38;5;241;43m.\u001b[39;49m\u001b[43mravel\u001b[49m\u001b[43m(\u001b[49m\u001b[43m)\u001b[49m\u001b[43m)\u001b[49m \n",
      "File \u001b[0;32m~/env/lib/python3.9/site-packages/sklearn/base.py:1473\u001b[0m, in \u001b[0;36m_fit_context.<locals>.decorator.<locals>.wrapper\u001b[0;34m(estimator, *args, **kwargs)\u001b[0m\n\u001b[1;32m   1466\u001b[0m     estimator\u001b[38;5;241m.\u001b[39m_validate_params()\n\u001b[1;32m   1468\u001b[0m \u001b[38;5;28;01mwith\u001b[39;00m config_context(\n\u001b[1;32m   1469\u001b[0m     skip_parameter_validation\u001b[38;5;241m=\u001b[39m(\n\u001b[1;32m   1470\u001b[0m         prefer_skip_nested_validation \u001b[38;5;129;01mor\u001b[39;00m global_skip_validation\n\u001b[1;32m   1471\u001b[0m     )\n\u001b[1;32m   1472\u001b[0m ):\n\u001b[0;32m-> 1473\u001b[0m     \u001b[38;5;28;01mreturn\u001b[39;00m \u001b[43mfit_method\u001b[49m\u001b[43m(\u001b[49m\u001b[43mestimator\u001b[49m\u001b[43m,\u001b[49m\u001b[43m \u001b[49m\u001b[38;5;241;43m*\u001b[39;49m\u001b[43margs\u001b[49m\u001b[43m,\u001b[49m\u001b[43m \u001b[49m\u001b[38;5;241;43m*\u001b[39;49m\u001b[38;5;241;43m*\u001b[39;49m\u001b[43mkwargs\u001b[49m\u001b[43m)\u001b[49m\n",
      "File \u001b[0;32m~/env/lib/python3.9/site-packages/sklearn/model_selection/_search.py:1019\u001b[0m, in \u001b[0;36mBaseSearchCV.fit\u001b[0;34m(self, X, y, **params)\u001b[0m\n\u001b[1;32m   1013\u001b[0m     results \u001b[38;5;241m=\u001b[39m \u001b[38;5;28mself\u001b[39m\u001b[38;5;241m.\u001b[39m_format_results(\n\u001b[1;32m   1014\u001b[0m         all_candidate_params, n_splits, all_out, all_more_results\n\u001b[1;32m   1015\u001b[0m     )\n\u001b[1;32m   1017\u001b[0m     \u001b[38;5;28;01mreturn\u001b[39;00m results\n\u001b[0;32m-> 1019\u001b[0m \u001b[38;5;28;43mself\u001b[39;49m\u001b[38;5;241;43m.\u001b[39;49m\u001b[43m_run_search\u001b[49m\u001b[43m(\u001b[49m\u001b[43mevaluate_candidates\u001b[49m\u001b[43m)\u001b[49m\n\u001b[1;32m   1021\u001b[0m \u001b[38;5;66;03m# multimetric is determined here because in the case of a callable\u001b[39;00m\n\u001b[1;32m   1022\u001b[0m \u001b[38;5;66;03m# self.scoring the return type is only known after calling\u001b[39;00m\n\u001b[1;32m   1023\u001b[0m first_test_score \u001b[38;5;241m=\u001b[39m all_out[\u001b[38;5;241m0\u001b[39m][\u001b[38;5;124m\"\u001b[39m\u001b[38;5;124mtest_scores\u001b[39m\u001b[38;5;124m\"\u001b[39m]\n",
      "File \u001b[0;32m~/env/lib/python3.9/site-packages/sklearn/model_selection/_search.py:1573\u001b[0m, in \u001b[0;36mGridSearchCV._run_search\u001b[0;34m(self, evaluate_candidates)\u001b[0m\n\u001b[1;32m   1571\u001b[0m \u001b[38;5;28;01mdef\u001b[39;00m \u001b[38;5;21m_run_search\u001b[39m(\u001b[38;5;28mself\u001b[39m, evaluate_candidates):\n\u001b[1;32m   1572\u001b[0m \u001b[38;5;250m    \u001b[39m\u001b[38;5;124;03m\"\"\"Search all candidates in param_grid\"\"\"\u001b[39;00m\n\u001b[0;32m-> 1573\u001b[0m     \u001b[43mevaluate_candidates\u001b[49m\u001b[43m(\u001b[49m\u001b[43mParameterGrid\u001b[49m\u001b[43m(\u001b[49m\u001b[38;5;28;43mself\u001b[39;49m\u001b[38;5;241;43m.\u001b[39;49m\u001b[43mparam_grid\u001b[49m\u001b[43m)\u001b[49m\u001b[43m)\u001b[49m\n",
      "File \u001b[0;32m~/env/lib/python3.9/site-packages/sklearn/model_selection/_search.py:965\u001b[0m, in \u001b[0;36mBaseSearchCV.fit.<locals>.evaluate_candidates\u001b[0;34m(candidate_params, cv, more_results)\u001b[0m\n\u001b[1;32m    957\u001b[0m \u001b[38;5;28;01mif\u001b[39;00m \u001b[38;5;28mself\u001b[39m\u001b[38;5;241m.\u001b[39mverbose \u001b[38;5;241m>\u001b[39m \u001b[38;5;241m0\u001b[39m:\n\u001b[1;32m    958\u001b[0m     \u001b[38;5;28mprint\u001b[39m(\n\u001b[1;32m    959\u001b[0m         \u001b[38;5;124m\"\u001b[39m\u001b[38;5;124mFitting \u001b[39m\u001b[38;5;132;01m{0}\u001b[39;00m\u001b[38;5;124m folds for each of \u001b[39m\u001b[38;5;132;01m{1}\u001b[39;00m\u001b[38;5;124m candidates,\u001b[39m\u001b[38;5;124m\"\u001b[39m\n\u001b[1;32m    960\u001b[0m         \u001b[38;5;124m\"\u001b[39m\u001b[38;5;124m totalling \u001b[39m\u001b[38;5;132;01m{2}\u001b[39;00m\u001b[38;5;124m fits\u001b[39m\u001b[38;5;124m\"\u001b[39m\u001b[38;5;241m.\u001b[39mformat(\n\u001b[1;32m    961\u001b[0m             n_splits, n_candidates, n_candidates \u001b[38;5;241m*\u001b[39m n_splits\n\u001b[1;32m    962\u001b[0m         )\n\u001b[1;32m    963\u001b[0m     )\n\u001b[0;32m--> 965\u001b[0m out \u001b[38;5;241m=\u001b[39m \u001b[43mparallel\u001b[49m\u001b[43m(\u001b[49m\n\u001b[1;32m    966\u001b[0m \u001b[43m    \u001b[49m\u001b[43mdelayed\u001b[49m\u001b[43m(\u001b[49m\u001b[43m_fit_and_score\u001b[49m\u001b[43m)\u001b[49m\u001b[43m(\u001b[49m\n\u001b[1;32m    967\u001b[0m \u001b[43m        \u001b[49m\u001b[43mclone\u001b[49m\u001b[43m(\u001b[49m\u001b[43mbase_estimator\u001b[49m\u001b[43m)\u001b[49m\u001b[43m,\u001b[49m\n\u001b[1;32m    968\u001b[0m \u001b[43m        \u001b[49m\u001b[43mX\u001b[49m\u001b[43m,\u001b[49m\n\u001b[1;32m    969\u001b[0m \u001b[43m        \u001b[49m\u001b[43my\u001b[49m\u001b[43m,\u001b[49m\n\u001b[1;32m    970\u001b[0m \u001b[43m        \u001b[49m\u001b[43mtrain\u001b[49m\u001b[38;5;241;43m=\u001b[39;49m\u001b[43mtrain\u001b[49m\u001b[43m,\u001b[49m\n\u001b[1;32m    971\u001b[0m \u001b[43m        \u001b[49m\u001b[43mtest\u001b[49m\u001b[38;5;241;43m=\u001b[39;49m\u001b[43mtest\u001b[49m\u001b[43m,\u001b[49m\n\u001b[1;32m    972\u001b[0m \u001b[43m        \u001b[49m\u001b[43mparameters\u001b[49m\u001b[38;5;241;43m=\u001b[39;49m\u001b[43mparameters\u001b[49m\u001b[43m,\u001b[49m\n\u001b[1;32m    973\u001b[0m \u001b[43m        \u001b[49m\u001b[43msplit_progress\u001b[49m\u001b[38;5;241;43m=\u001b[39;49m\u001b[43m(\u001b[49m\u001b[43msplit_idx\u001b[49m\u001b[43m,\u001b[49m\u001b[43m \u001b[49m\u001b[43mn_splits\u001b[49m\u001b[43m)\u001b[49m\u001b[43m,\u001b[49m\n\u001b[1;32m    974\u001b[0m \u001b[43m        \u001b[49m\u001b[43mcandidate_progress\u001b[49m\u001b[38;5;241;43m=\u001b[39;49m\u001b[43m(\u001b[49m\u001b[43mcand_idx\u001b[49m\u001b[43m,\u001b[49m\u001b[43m \u001b[49m\u001b[43mn_candidates\u001b[49m\u001b[43m)\u001b[49m\u001b[43m,\u001b[49m\n\u001b[1;32m    975\u001b[0m \u001b[43m        \u001b[49m\u001b[38;5;241;43m*\u001b[39;49m\u001b[38;5;241;43m*\u001b[39;49m\u001b[43mfit_and_score_kwargs\u001b[49m\u001b[43m,\u001b[49m\n\u001b[1;32m    976\u001b[0m \u001b[43m    \u001b[49m\u001b[43m)\u001b[49m\n\u001b[1;32m    977\u001b[0m \u001b[43m    \u001b[49m\u001b[38;5;28;43;01mfor\u001b[39;49;00m\u001b[43m \u001b[49m\u001b[43m(\u001b[49m\u001b[43mcand_idx\u001b[49m\u001b[43m,\u001b[49m\u001b[43m \u001b[49m\u001b[43mparameters\u001b[49m\u001b[43m)\u001b[49m\u001b[43m,\u001b[49m\u001b[43m \u001b[49m\u001b[43m(\u001b[49m\u001b[43msplit_idx\u001b[49m\u001b[43m,\u001b[49m\u001b[43m \u001b[49m\u001b[43m(\u001b[49m\u001b[43mtrain\u001b[49m\u001b[43m,\u001b[49m\u001b[43m \u001b[49m\u001b[43mtest\u001b[49m\u001b[43m)\u001b[49m\u001b[43m)\u001b[49m\u001b[43m \u001b[49m\u001b[38;5;129;43;01min\u001b[39;49;00m\u001b[43m \u001b[49m\u001b[43mproduct\u001b[49m\u001b[43m(\u001b[49m\n\u001b[1;32m    978\u001b[0m \u001b[43m        \u001b[49m\u001b[38;5;28;43menumerate\u001b[39;49m\u001b[43m(\u001b[49m\u001b[43mcandidate_params\u001b[49m\u001b[43m)\u001b[49m\u001b[43m,\u001b[49m\n\u001b[1;32m    979\u001b[0m \u001b[43m        \u001b[49m\u001b[38;5;28;43menumerate\u001b[39;49m\u001b[43m(\u001b[49m\u001b[43mcv\u001b[49m\u001b[38;5;241;43m.\u001b[39;49m\u001b[43msplit\u001b[49m\u001b[43m(\u001b[49m\u001b[43mX\u001b[49m\u001b[43m,\u001b[49m\u001b[43m \u001b[49m\u001b[43my\u001b[49m\u001b[43m,\u001b[49m\u001b[43m \u001b[49m\u001b[38;5;241;43m*\u001b[39;49m\u001b[38;5;241;43m*\u001b[39;49m\u001b[43mrouted_params\u001b[49m\u001b[38;5;241;43m.\u001b[39;49m\u001b[43msplitter\u001b[49m\u001b[38;5;241;43m.\u001b[39;49m\u001b[43msplit\u001b[49m\u001b[43m)\u001b[49m\u001b[43m)\u001b[49m\u001b[43m,\u001b[49m\n\u001b[1;32m    980\u001b[0m \u001b[43m    \u001b[49m\u001b[43m)\u001b[49m\n\u001b[1;32m    981\u001b[0m \u001b[43m\u001b[49m\u001b[43m)\u001b[49m\n\u001b[1;32m    983\u001b[0m \u001b[38;5;28;01mif\u001b[39;00m \u001b[38;5;28mlen\u001b[39m(out) \u001b[38;5;241m<\u001b[39m \u001b[38;5;241m1\u001b[39m:\n\u001b[1;32m    984\u001b[0m     \u001b[38;5;28;01mraise\u001b[39;00m \u001b[38;5;167;01mValueError\u001b[39;00m(\n\u001b[1;32m    985\u001b[0m         \u001b[38;5;124m\"\u001b[39m\u001b[38;5;124mNo fits were performed. \u001b[39m\u001b[38;5;124m\"\u001b[39m\n\u001b[1;32m    986\u001b[0m         \u001b[38;5;124m\"\u001b[39m\u001b[38;5;124mWas the CV iterator empty? \u001b[39m\u001b[38;5;124m\"\u001b[39m\n\u001b[1;32m    987\u001b[0m         \u001b[38;5;124m\"\u001b[39m\u001b[38;5;124mWere there no candidates?\u001b[39m\u001b[38;5;124m\"\u001b[39m\n\u001b[1;32m    988\u001b[0m     )\n",
      "File \u001b[0;32m~/env/lib/python3.9/site-packages/sklearn/utils/parallel.py:74\u001b[0m, in \u001b[0;36mParallel.__call__\u001b[0;34m(self, iterable)\u001b[0m\n\u001b[1;32m     69\u001b[0m config \u001b[38;5;241m=\u001b[39m get_config()\n\u001b[1;32m     70\u001b[0m iterable_with_config \u001b[38;5;241m=\u001b[39m (\n\u001b[1;32m     71\u001b[0m     (_with_config(delayed_func, config), args, kwargs)\n\u001b[1;32m     72\u001b[0m     \u001b[38;5;28;01mfor\u001b[39;00m delayed_func, args, kwargs \u001b[38;5;129;01min\u001b[39;00m iterable\n\u001b[1;32m     73\u001b[0m )\n\u001b[0;32m---> 74\u001b[0m \u001b[38;5;28;01mreturn\u001b[39;00m \u001b[38;5;28;43msuper\u001b[39;49m\u001b[43m(\u001b[49m\u001b[43m)\u001b[49m\u001b[38;5;241;43m.\u001b[39;49m\u001b[38;5;21;43m__call__\u001b[39;49m\u001b[43m(\u001b[49m\u001b[43miterable_with_config\u001b[49m\u001b[43m)\u001b[49m\n",
      "File \u001b[0;32m~/env/lib/python3.9/site-packages/joblib/parallel.py:1952\u001b[0m, in \u001b[0;36mParallel.__call__\u001b[0;34m(self, iterable)\u001b[0m\n\u001b[1;32m   1946\u001b[0m \u001b[38;5;66;03m# The first item from the output is blank, but it makes the interpreter\u001b[39;00m\n\u001b[1;32m   1947\u001b[0m \u001b[38;5;66;03m# progress until it enters the Try/Except block of the generator and\u001b[39;00m\n\u001b[1;32m   1948\u001b[0m \u001b[38;5;66;03m# reach the first `yield` statement. This starts the aynchronous\u001b[39;00m\n\u001b[1;32m   1949\u001b[0m \u001b[38;5;66;03m# dispatch of the tasks to the workers.\u001b[39;00m\n\u001b[1;32m   1950\u001b[0m \u001b[38;5;28mnext\u001b[39m(output)\n\u001b[0;32m-> 1952\u001b[0m \u001b[38;5;28;01mreturn\u001b[39;00m output \u001b[38;5;28;01mif\u001b[39;00m \u001b[38;5;28mself\u001b[39m\u001b[38;5;241m.\u001b[39mreturn_generator \u001b[38;5;28;01melse\u001b[39;00m \u001b[38;5;28;43mlist\u001b[39;49m\u001b[43m(\u001b[49m\u001b[43moutput\u001b[49m\u001b[43m)\u001b[49m\n",
      "File \u001b[0;32m~/env/lib/python3.9/site-packages/joblib/parallel.py:1595\u001b[0m, in \u001b[0;36mParallel._get_outputs\u001b[0;34m(self, iterator, pre_dispatch)\u001b[0m\n\u001b[1;32m   1592\u001b[0m     \u001b[38;5;28;01myield\u001b[39;00m\n\u001b[1;32m   1594\u001b[0m     \u001b[38;5;28;01mwith\u001b[39;00m \u001b[38;5;28mself\u001b[39m\u001b[38;5;241m.\u001b[39m_backend\u001b[38;5;241m.\u001b[39mretrieval_context():\n\u001b[0;32m-> 1595\u001b[0m         \u001b[38;5;28;01myield from\u001b[39;00m \u001b[38;5;28mself\u001b[39m\u001b[38;5;241m.\u001b[39m_retrieve()\n\u001b[1;32m   1597\u001b[0m \u001b[38;5;28;01mexcept\u001b[39;00m \u001b[38;5;167;01mGeneratorExit\u001b[39;00m:\n\u001b[1;32m   1598\u001b[0m     \u001b[38;5;66;03m# The generator has been garbage collected before being fully\u001b[39;00m\n\u001b[1;32m   1599\u001b[0m     \u001b[38;5;66;03m# consumed. This aborts the remaining tasks if possible and warn\u001b[39;00m\n\u001b[1;32m   1600\u001b[0m     \u001b[38;5;66;03m# the user if necessary.\u001b[39;00m\n\u001b[1;32m   1601\u001b[0m     \u001b[38;5;28mself\u001b[39m\u001b[38;5;241m.\u001b[39m_exception \u001b[38;5;241m=\u001b[39m \u001b[38;5;28;01mTrue\u001b[39;00m\n",
      "File \u001b[0;32m~/env/lib/python3.9/site-packages/joblib/parallel.py:1707\u001b[0m, in \u001b[0;36mParallel._retrieve\u001b[0;34m(self)\u001b[0m\n\u001b[1;32m   1702\u001b[0m \u001b[38;5;66;03m# If the next job is not ready for retrieval yet, we just wait for\u001b[39;00m\n\u001b[1;32m   1703\u001b[0m \u001b[38;5;66;03m# async callbacks to progress.\u001b[39;00m\n\u001b[1;32m   1704\u001b[0m \u001b[38;5;28;01mif\u001b[39;00m ((\u001b[38;5;28mlen\u001b[39m(\u001b[38;5;28mself\u001b[39m\u001b[38;5;241m.\u001b[39m_jobs) \u001b[38;5;241m==\u001b[39m \u001b[38;5;241m0\u001b[39m) \u001b[38;5;129;01mor\u001b[39;00m\n\u001b[1;32m   1705\u001b[0m     (\u001b[38;5;28mself\u001b[39m\u001b[38;5;241m.\u001b[39m_jobs[\u001b[38;5;241m0\u001b[39m]\u001b[38;5;241m.\u001b[39mget_status(\n\u001b[1;32m   1706\u001b[0m         timeout\u001b[38;5;241m=\u001b[39m\u001b[38;5;28mself\u001b[39m\u001b[38;5;241m.\u001b[39mtimeout) \u001b[38;5;241m==\u001b[39m TASK_PENDING)):\n\u001b[0;32m-> 1707\u001b[0m     \u001b[43mtime\u001b[49m\u001b[38;5;241;43m.\u001b[39;49m\u001b[43msleep\u001b[49m\u001b[43m(\u001b[49m\u001b[38;5;241;43m0.01\u001b[39;49m\u001b[43m)\u001b[49m\n\u001b[1;32m   1708\u001b[0m     \u001b[38;5;28;01mcontinue\u001b[39;00m\n\u001b[1;32m   1710\u001b[0m \u001b[38;5;66;03m# We need to be careful: the job list can be filling up as\u001b[39;00m\n\u001b[1;32m   1711\u001b[0m \u001b[38;5;66;03m# we empty it and Python list are not thread-safe by\u001b[39;00m\n\u001b[1;32m   1712\u001b[0m \u001b[38;5;66;03m# default hence the use of the lock\u001b[39;00m\n",
      "\u001b[0;31mKeyboardInterrupt\u001b[0m: "
     ]
    }
   ],
   "source": [
    "\n",
    "mlpc_params = {\"alpha\": [1,0.1, 0.01, 0.0001,0.00001],\n",
    "              \"hidden_layer_sizes\": [(8),\n",
    "                                     (16),\n",
    "                                     (32),\n",
    "                                     (64),\n",
    "                                     (128),\n",
    "                                     (256),\n",
    "                                     (512),\n",
    "                                     (1024)],\n",
    "              \"solver\" : [\"lbfgs\",\"adam\",\"sgd\"],\n",
    "              \"activation\": [\"identity\", \"logistic\", \"tanh\", \"relu\"],\n",
    "              \"max_iter\": [(5000)],\n",
    "              \"n_iter_no_change\": [(250)],\n",
    "              \"tol\": [(0.00001)],\n",
    "              \"shuffle\": [False],\n",
    "              \"learning_rate_init\": [(0.0001)]}\n",
    "from sklearn.model_selection import GridSearchCV\n",
    "\n",
    "\n",
    "precision_scorer = make_scorer(precision_score, zero_division=1)  # had to modify zero_division as it was giving problems\n",
    "f1_scorer = make_scorer(f1_score)\n",
    "accuracy_scorer = make_scorer(accuracy_score)\n",
    "recall_scorer = make_scorer(recall_score)\n",
    "\n",
    "from sklearn.metrics import make_scorer\n",
    "from sklearn.metrics import roc_auc_score\n",
    "roc_auc_scorer = make_scorer(roc_auc_score, greater_is_better=True, response_method=\"predict_proba\")\n",
    "\n",
    "# Define scoring dictionary for GridSearchCV\n",
    "mlpc = MLPClassifier(random_state = 42) # ANN model object created\n",
    "\n",
    "# Model CV process \n",
    "mlpc_cv_model = GridSearchCV(mlpc, mlpc_params, \n",
    "                         cv = cv_splits, # To make a 5-fold CV\n",
    "                         n_jobs = 50, # Number of jobs to be run in parallel (-1: means to use all processors)\n",
    "                         verbose = 1,\n",
    "                         scoring=roc_auc_scorer) # Controls the level of detail: higher means more messages gets value as integer.\n",
    "\n",
    "mlpc_cv_model.fit(train_data, train_labels.ravel()) "
   ]
  },
  {
   "cell_type": "code",
   "execution_count": 6,
   "metadata": {},
   "outputs": [
    {
     "name": "stdout",
     "output_type": "stream",
     "text": [
      "[0.         0.         0.         0.07142857 0.07142857 0.42857143\n",
      " 0.42857143 1.        ] [0.   0.05 0.85 0.85 0.95 0.95 1.   1.  ]\n",
      "[0.         0.         0.         0.         0.05882353 0.05882353\n",
      " 0.17647059 0.17647059 1.        ] [0.         0.21052632 0.31578947 0.36842105 0.36842105 0.73684211\n",
      " 0.73684211 1.         1.        ]\n",
      "[0.     0.     0.     0.0625 0.0625 0.1875 0.1875 0.25   0.25   0.4375\n",
      " 0.4375 1.    ] [0.     0.3125 0.375  0.375  0.625  0.625  0.8125 0.8125 0.875  0.875\n",
      " 1.     1.    ]\n",
      "[0.  0.  0.  0.1 0.1 0.6 0.6 1. ] [0.         0.04166667 0.91666667 0.91666667 0.95833333 0.95833333\n",
      " 1.         1.        ]\n",
      "[0.         0.         0.         0.08333333 0.08333333 0.25\n",
      " 0.25       1.        ] [0.         0.38461538 0.84615385 0.84615385 0.92307692 0.92307692\n",
      " 1.         1.        ]\n"
     ]
    },
    {
     "data": {
      "image/png": "[encoded data removed]",
      "text/plain": [
       "<Figure size 640x480 with 1 Axes>"
      ]
     },
     "metadata": {},
     "output_type": "display_data"
    },
    {
     "name": "stdout",
     "output_type": "stream",
     "text": [
      "Best Parameters found:  {'activation': 'relu', 'alpha': 0.1, 'hidden_layer_sizes': 1024, 'learning_rate_init': 0.0001, 'max_iter': 5000, 'n_iter_no_change': 250, 'shuffle': False, 'solver': 'lbfgs', 'tol': 1e-05}\n"
     ]
    }
   ],
   "source": [
    "# Retrieve the best model from GridSearchCV\n",
    "best_model = mlpc_cv_model.best_estimator_\n",
    "\n",
    "roc_data = []\n",
    "\n",
    "\n",
    "# Plot ROC curves for each fold using custom cv_splits\n",
    "for fold, (train_idx, test_idx) in enumerate(cv_splits):\n",
    "    X_train, X_test = train_data.iloc[train_idx], train_data.iloc[test_idx]\n",
    "    y_train, y_test = train_labels[train_idx], train_labels[test_idx]\n",
    "\n",
    "    # Fit the best model from GridSearchCV on the fold's training data\n",
    "    best_model.fit(X_train, y_train)\n",
    "    \n",
    "    # Get predicted probabilities for the test set\n",
    "    y_prob = best_model.predict_proba(X_test)[:, 1]\n",
    "    \n",
    "    # Compute ROC curve\n",
    "    fpr, tpr, _ = roc_curve(y_test, y_prob)\n",
    "    roc_auc = auc(fpr, tpr)\n",
    "    print(fpr,tpr)\n",
    "    # Plot ROC curve for this fold\n",
    "    plt.plot(fpr, tpr, label=f'Fold {fold+1} (AUC = {roc_auc:.2f})')\n",
    "        \n",
    "    for f, t in zip(fpr, tpr):\n",
    "        roc_data.append({'Fold': fold + 1, 'FPR': f, 'TPR': t})\n",
    "\n",
    "# Plot settings\n",
    "plt.plot([0, 1], [0, 1], 'k--')\n",
    "plt.xlim([0.0, 1.0])\n",
    "plt.ylim([0.0, 1.05])\n",
    "plt.xlabel('False Positive Rate')\n",
    "plt.ylabel('True Positive Rate')\n",
    "plt.title('ROC Curve for Each Fold')\n",
    "plt.legend(loc='lower right')\n",
    "\n",
    "# Show the plot\n",
    "plt.show()\n",
    "\n",
    "\n",
    "# Convert the list of dicts to a DataFrame\n",
    "roc_df = pd.DataFrame(roc_data)\n",
    "\n",
    "# Save to CSV for R use\n",
    "roc_df.to_csv(\"/home/workspace/jogrady/ML4TB/work/merged/Temp_files/MLP_CV_ROC_Results.txt\", sep = \"\\t\", index=False)\n",
    "\n",
    "# Optionally, print the best parameters found\n",
    "print(\"Best Parameters found: \", mlpc_cv_model.best_params_)"
   ]
  },
  {
   "cell_type": "code",
   "execution_count": 7,
   "metadata": {},
   "outputs": [
    {
     "data": {
      "text/html": [
       "<style>#sk-container-id-2 {\n",
       "  /* Definition of color scheme common for light and dark mode */\n",
       "  --sklearn-color-text: black;\n",
       "  --sklearn-color-line: gray;\n",
       "  /* Definition of color scheme for unfitted estimators */\n",
       "  --sklearn-color-unfitted-level-0: #fff5e6;\n",
       "  --sklearn-color-unfitted-level-1: #f6e4d2;\n",
       "  --sklearn-color-unfitted-level-2: #ffe0b3;\n",
       "  --sklearn-color-unfitted-level-3: chocolate;\n",
       "  /* Definition of color scheme for fitted estimators */\n",
       "  --sklearn-color-fitted-level-0: #f0f8ff;\n",
       "  --sklearn-color-fitted-level-1: #d4ebff;\n",
       "  --sklearn-color-fitted-level-2: #b3dbfd;\n",
       "  --sklearn-color-fitted-level-3: cornflowerblue;\n",
       "\n",
       "  /* Specific color for light theme */\n",
       "  --sklearn-color-text-on-default-background: var(--sg-text-color, var(--theme-code-foreground, var(--jp-content-font-color1, black)));\n",
       "  --sklearn-color-background: var(--sg-background-color, var(--theme-background, var(--jp-layout-color0, white)));\n",
       "  --sklearn-color-border-box: var(--sg-text-color, var(--theme-code-foreground, var(--jp-content-font-color1, black)));\n",
       "  --sklearn-color-icon: #696969;\n",
       "\n",
       "  @media (prefers-color-scheme: dark) {\n",
       "    /* Redefinition of color scheme for dark theme */\n",
       "    --sklearn-color-text-on-default-background: var(--sg-text-color, var(--theme-code-foreground, var(--jp-content-font-color1, white)));\n",
       "    --sklearn-color-background: var(--sg-background-color, var(--theme-background, var(--jp-layout-color0, #111)));\n",
       "    --sklearn-color-border-box: var(--sg-text-color, var(--theme-code-foreground, var(--jp-content-font-color1, white)));\n",
       "    --sklearn-color-icon: #878787;\n",
       "  }\n",
       "}\n",
       "\n",
       "#sk-container-id-2 {\n",
       "  color: var(--sklearn-color-text);\n",
       "}\n",
       "\n",
       "#sk-container-id-2 pre {\n",
       "  padding: 0;\n",
       "}\n",
       "\n",
       "#sk-container-id-2 input.sk-hidden--visually {\n",
       "  border: 0;\n",
       "  clip: rect(1px 1px 1px 1px);\n",
       "  clip: rect(1px, 1px, 1px, 1px);\n",
       "  height: 1px;\n",
       "  margin: -1px;\n",
       "  overflow: hidden;\n",
       "  padding: 0;\n",
       "  position: absolute;\n",
       "  width: 1px;\n",
       "}\n",
       "\n",
       "#sk-container-id-2 div.sk-dashed-wrapped {\n",
       "  border: 1px dashed var(--sklearn-color-line);\n",
       "  margin: 0 0.4em 0.5em 0.4em;\n",
       "  box-sizing: border-box;\n",
       "  padding-bottom: 0.4em;\n",
       "  background-color: var(--sklearn-color-background);\n",
       "}\n",
       "\n",
       "#sk-container-id-2 div.sk-container {\n",
       "  /* jupyter's `normalize.less` sets `[hidden] { display: none; }`\n",
       "     but bootstrap.min.css set `[hidden] { display: none !important; }`\n",
       "     so we also need the `!important` here to be able to override the\n",
       "     default hidden behavior on the sphinx rendered scikit-learn.org.\n",
       "     See: https://github.com/scikit-learn/scikit-learn/issues/21755 */\n",
       "  display: inline-block !important;\n",
       "  position: relative;\n",
       "}\n",
       "\n",
       "#sk-container-id-2 div.sk-text-repr-fallback {\n",
       "  display: none;\n",
       "}\n",
       "\n",
       "div.sk-parallel-item,\n",
       "div.sk-serial,\n",
       "div.sk-item {\n",
       "  /* draw centered vertical line to link estimators */\n",
       "  background-image: linear-gradient(var(--sklearn-color-text-on-default-background), var(--sklearn-color-text-on-default-background));\n",
       "  background-size: 2px 100%;\n",
       "  background-repeat: no-repeat;\n",
       "  background-position: center center;\n",
       "}\n",
       "\n",
       "/* Parallel-specific style estimator block */\n",
       "\n",
       "#sk-container-id-2 div.sk-parallel-item::after {\n",
       "  content: \"\";\n",
       "  width: 100%;\n",
       "  border-bottom: 2px solid var(--sklearn-color-text-on-default-background);\n",
       "  flex-grow: 1;\n",
       "}\n",
       "\n",
       "#sk-container-id-2 div.sk-parallel {\n",
       "  display: flex;\n",
       "  align-items: stretch;\n",
       "  justify-content: center;\n",
       "  background-color: var(--sklearn-color-background);\n",
       "  position: relative;\n",
       "}\n",
       "\n",
       "#sk-container-id-2 div.sk-parallel-item {\n",
       "  display: flex;\n",
       "  flex-direction: column;\n",
       "}\n",
       "\n",
       "#sk-container-id-2 div.sk-parallel-item:first-child::after {\n",
       "  align-self: flex-end;\n",
       "  width: 50%;\n",
       "}\n",
       "\n",
       "#sk-container-id-2 div.sk-parallel-item:last-child::after {\n",
       "  align-self: flex-start;\n",
       "  width: 50%;\n",
       "}\n",
       "\n",
       "#sk-container-id-2 div.sk-parallel-item:only-child::after {\n",
       "  width: 0;\n",
       "}\n",
       "\n",
       "/* Serial-specific style estimator block */\n",
       "\n",
       "#sk-container-id-2 div.sk-serial {\n",
       "  display: flex;\n",
       "  flex-direction: column;\n",
       "  align-items: center;\n",
       "  background-color: var(--sklearn-color-background);\n",
       "  padding-right: 1em;\n",
       "  padding-left: 1em;\n",
       "}\n",
       "\n",
       "\n",
       "/* Toggleable style: style used for estimator/Pipeline/ColumnTransformer box that is\n",
       "clickable and can be expanded/collapsed.\n",
       "- Pipeline and ColumnTransformer use this feature and define the default style\n",
       "- Estimators will overwrite some part of the style using the `sk-estimator` class\n",
       "*/\n",
       "\n",
       "/* Pipeline and ColumnTransformer style (default) */\n",
       "\n",
       "#sk-container-id-2 div.sk-toggleable {\n",
       "  /* Default theme specific background. It is overwritten whether we have a\n",
       "  specific estimator or a Pipeline/ColumnTransformer */\n",
       "  background-color: var(--sklearn-color-background);\n",
       "}\n",
       "\n",
       "/* Toggleable label */\n",
       "#sk-container-id-2 label.sk-toggleable__label {\n",
       "  cursor: pointer;\n",
       "  display: block;\n",
       "  width: 100%;\n",
       "  margin-bottom: 0;\n",
       "  padding: 0.5em;\n",
       "  box-sizing: border-box;\n",
       "  text-align: center;\n",
       "}\n",
       "\n",
       "#sk-container-id-2 label.sk-toggleable__label-arrow:before {\n",
       "  /* Arrow on the left of the label */\n",
       "  content: \"▸\";\n",
       "  float: left;\n",
       "  margin-right: 0.25em;\n",
       "  color: var(--sklearn-color-icon);\n",
       "}\n",
       "\n",
       "#sk-container-id-2 label.sk-toggleable__label-arrow:hover:before {\n",
       "  color: var(--sklearn-color-text);\n",
       "}\n",
       "\n",
       "/* Toggleable content - dropdown */\n",
       "\n",
       "#sk-container-id-2 div.sk-toggleable__content {\n",
       "  max-height: 0;\n",
       "  max-width: 0;\n",
       "  overflow: hidden;\n",
       "  text-align: left;\n",
       "  /* unfitted */\n",
       "  background-color: var(--sklearn-color-unfitted-level-0);\n",
       "}\n",
       "\n",
       "#sk-container-id-2 div.sk-toggleable__content.fitted {\n",
       "  /* fitted */\n",
       "  background-color: var(--sklearn-color-fitted-level-0);\n",
       "}\n",
       "\n",
       "#sk-container-id-2 div.sk-toggleable__content pre {\n",
       "  margin: 0.2em;\n",
       "  border-radius: 0.25em;\n",
       "  color: var(--sklearn-color-text);\n",
       "  /* unfitted */\n",
       "  background-color: var(--sklearn-color-unfitted-level-0);\n",
       "}\n",
       "\n",
       "#sk-container-id-2 div.sk-toggleable__content.fitted pre {\n",
       "  /* unfitted */\n",
       "  background-color: var(--sklearn-color-fitted-level-0);\n",
       "}\n",
       "\n",
       "#sk-container-id-2 input.sk-toggleable__control:checked~div.sk-toggleable__content {\n",
       "  /* Expand drop-down */\n",
       "  max-height: 200px;\n",
       "  max-width: 100%;\n",
       "  overflow: auto;\n",
       "}\n",
       "\n",
       "#sk-container-id-2 input.sk-toggleable__control:checked~label.sk-toggleable__label-arrow:before {\n",
       "  content: \"▾\";\n",
       "}\n",
       "\n",
       "/* Pipeline/ColumnTransformer-specific style */\n",
       "\n",
       "#sk-container-id-2 div.sk-label input.sk-toggleable__control:checked~label.sk-toggleable__label {\n",
       "  color: var(--sklearn-color-text);\n",
       "  background-color: var(--sklearn-color-unfitted-level-2);\n",
       "}\n",
       "\n",
       "#sk-container-id-2 div.sk-label.fitted input.sk-toggleable__control:checked~label.sk-toggleable__label {\n",
       "  background-color: var(--sklearn-color-fitted-level-2);\n",
       "}\n",
       "\n",
       "/* Estimator-specific style */\n",
       "\n",
       "/* Colorize estimator box */\n",
       "#sk-container-id-2 div.sk-estimator input.sk-toggleable__control:checked~label.sk-toggleable__label {\n",
       "  /* unfitted */\n",
       "  background-color: var(--sklearn-color-unfitted-level-2);\n",
       "}\n",
       "\n",
       "#sk-container-id-2 div.sk-estimator.fitted input.sk-toggleable__control:checked~label.sk-toggleable__label {\n",
       "  /* fitted */\n",
       "  background-color: var(--sklearn-color-fitted-level-2);\n",
       "}\n",
       "\n",
       "#sk-container-id-2 div.sk-label label.sk-toggleable__label,\n",
       "#sk-container-id-2 div.sk-label label {\n",
       "  /* The background is the default theme color */\n",
       "  color: var(--sklearn-color-text-on-default-background);\n",
       "}\n",
       "\n",
       "/* On hover, darken the color of the background */\n",
       "#sk-container-id-2 div.sk-label:hover label.sk-toggleable__label {\n",
       "  color: var(--sklearn-color-text);\n",
       "  background-color: var(--sklearn-color-unfitted-level-2);\n",
       "}\n",
       "\n",
       "/* Label box, darken color on hover, fitted */\n",
       "#sk-container-id-2 div.sk-label.fitted:hover label.sk-toggleable__label.fitted {\n",
       "  color: var(--sklearn-color-text);\n",
       "  background-color: var(--sklearn-color-fitted-level-2);\n",
       "}\n",
       "\n",
       "/* Estimator label */\n",
       "\n",
       "#sk-container-id-2 div.sk-label label {\n",
       "  font-family: monospace;\n",
       "  font-weight: bold;\n",
       "  display: inline-block;\n",
       "  line-height: 1.2em;\n",
       "}\n",
       "\n",
       "#sk-container-id-2 div.sk-label-container {\n",
       "  text-align: center;\n",
       "}\n",
       "\n",
       "/* Estimator-specific */\n",
       "#sk-container-id-2 div.sk-estimator {\n",
       "  font-family: monospace;\n",
       "  border: 1px dotted var(--sklearn-color-border-box);\n",
       "  border-radius: 0.25em;\n",
       "  box-sizing: border-box;\n",
       "  margin-bottom: 0.5em;\n",
       "  /* unfitted */\n",
       "  background-color: var(--sklearn-color-unfitted-level-0);\n",
       "}\n",
       "\n",
       "#sk-container-id-2 div.sk-estimator.fitted {\n",
       "  /* fitted */\n",
       "  background-color: var(--sklearn-color-fitted-level-0);\n",
       "}\n",
       "\n",
       "/* on hover */\n",
       "#sk-container-id-2 div.sk-estimator:hover {\n",
       "  /* unfitted */\n",
       "  background-color: var(--sklearn-color-unfitted-level-2);\n",
       "}\n",
       "\n",
       "#sk-container-id-2 div.sk-estimator.fitted:hover {\n",
       "  /* fitted */\n",
       "  background-color: var(--sklearn-color-fitted-level-2);\n",
       "}\n",
       "\n",
       "/* Specification for estimator info (e.g. \"i\" and \"?\") */\n",
       "\n",
       "/* Common style for \"i\" and \"?\" */\n",
       "\n",
       ".sk-estimator-doc-link,\n",
       "a:link.sk-estimator-doc-link,\n",
       "a:visited.sk-estimator-doc-link {\n",
       "  float: right;\n",
       "  font-size: smaller;\n",
       "  line-height: 1em;\n",
       "  font-family: monospace;\n",
       "  background-color: var(--sklearn-color-background);\n",
       "  border-radius: 1em;\n",
       "  height: 1em;\n",
       "  width: 1em;\n",
       "  text-decoration: none !important;\n",
       "  margin-left: 1ex;\n",
       "  /* unfitted */\n",
       "  border: var(--sklearn-color-unfitted-level-1) 1pt solid;\n",
       "  color: var(--sklearn-color-unfitted-level-1);\n",
       "}\n",
       "\n",
       ".sk-estimator-doc-link.fitted,\n",
       "a:link.sk-estimator-doc-link.fitted,\n",
       "a:visited.sk-estimator-doc-link.fitted {\n",
       "  /* fitted */\n",
       "  border: var(--sklearn-color-fitted-level-1) 1pt solid;\n",
       "  color: var(--sklearn-color-fitted-level-1);\n",
       "}\n",
       "\n",
       "/* On hover */\n",
       "div.sk-estimator:hover .sk-estimator-doc-link:hover,\n",
       ".sk-estimator-doc-link:hover,\n",
       "div.sk-label-container:hover .sk-estimator-doc-link:hover,\n",
       ".sk-estimator-doc-link:hover {\n",
       "  /* unfitted */\n",
       "  background-color: var(--sklearn-color-unfitted-level-3);\n",
       "  color: var(--sklearn-color-background);\n",
       "  text-decoration: none;\n",
       "}\n",
       "\n",
       "div.sk-estimator.fitted:hover .sk-estimator-doc-link.fitted:hover,\n",
       ".sk-estimator-doc-link.fitted:hover,\n",
       "div.sk-label-container:hover .sk-estimator-doc-link.fitted:hover,\n",
       ".sk-estimator-doc-link.fitted:hover {\n",
       "  /* fitted */\n",
       "  background-color: var(--sklearn-color-fitted-level-3);\n",
       "  color: var(--sklearn-color-background);\n",
       "  text-decoration: none;\n",
       "}\n",
       "\n",
       "/* Span, style for the box shown on hovering the info icon */\n",
       ".sk-estimator-doc-link span {\n",
       "  display: none;\n",
       "  z-index: 9999;\n",
       "  position: relative;\n",
       "  font-weight: normal;\n",
       "  right: .2ex;\n",
       "  padding: .5ex;\n",
       "  margin: .5ex;\n",
       "  width: min-content;\n",
       "  min-width: 20ex;\n",
       "  max-width: 50ex;\n",
       "  color: var(--sklearn-color-text);\n",
       "  box-shadow: 2pt 2pt 4pt #999;\n",
       "  /* unfitted */\n",
       "  background: var(--sklearn-color-unfitted-level-0);\n",
       "  border: .5pt solid var(--sklearn-color-unfitted-level-3);\n",
       "}\n",
       "\n",
       ".sk-estimator-doc-link.fitted span {\n",
       "  /* fitted */\n",
       "  background: var(--sklearn-color-fitted-level-0);\n",
       "  border: var(--sklearn-color-fitted-level-3);\n",
       "}\n",
       "\n",
       ".sk-estimator-doc-link:hover span {\n",
       "  display: block;\n",
       "}\n",
       "\n",
       "/* \"?\"-specific style due to the `<a>` HTML tag */\n",
       "\n",
       "#sk-container-id-2 a.estimator_doc_link {\n",
       "  float: right;\n",
       "  font-size: 1rem;\n",
       "  line-height: 1em;\n",
       "  font-family: monospace;\n",
       "  background-color: var(--sklearn-color-background);\n",
       "  border-radius: 1rem;\n",
       "  height: 1rem;\n",
       "  width: 1rem;\n",
       "  text-decoration: none;\n",
       "  /* unfitted */\n",
       "  color: var(--sklearn-color-unfitted-level-1);\n",
       "  border: var(--sklearn-color-unfitted-level-1) 1pt solid;\n",
       "}\n",
       "\n",
       "#sk-container-id-2 a.estimator_doc_link.fitted {\n",
       "  /* fitted */\n",
       "  border: var(--sklearn-color-fitted-level-1) 1pt solid;\n",
       "  color: var(--sklearn-color-fitted-level-1);\n",
       "}\n",
       "\n",
       "/* On hover */\n",
       "#sk-container-id-2 a.estimator_doc_link:hover {\n",
       "  /* unfitted */\n",
       "  background-color: var(--sklearn-color-unfitted-level-3);\n",
       "  color: var(--sklearn-color-background);\n",
       "  text-decoration: none;\n",
       "}\n",
       "\n",
       "#sk-container-id-2 a.estimator_doc_link.fitted:hover {\n",
       "  /* fitted */\n",
       "  background-color: var(--sklearn-color-fitted-level-3);\n",
       "}\n",
       "</style><div id=\"sk-container-id-2\" class=\"sk-top-container\"><div class=\"sk-text-repr-fallback\"><pre>MLPClassifier(alpha=0.1, hidden_layer_sizes=1024, learning_rate_init=0.0001,\n",
       "              max_iter=5000, n_iter_no_change=250, random_state=42,\n",
       "              shuffle=False, solver=&#x27;lbfgs&#x27;, tol=1e-05)</pre><b>In a Jupyter environment, please rerun this cell to show the HTML representation or trust the notebook. <br />On GitHub, the HTML representation is unable to render, please try loading this page with nbviewer.org.</b></div><div class=\"sk-container\" hidden><div class=\"sk-item\"><div class=\"sk-estimator fitted sk-toggleable\"><input class=\"sk-toggleable__control sk-hidden--visually\" id=\"sk-estimator-id-4\" type=\"checkbox\" checked><label for=\"sk-estimator-id-4\" class=\"sk-toggleable__label fitted sk-toggleable__label-arrow fitted\">&nbsp;&nbsp;MLPClassifier<a class=\"sk-estimator-doc-link fitted\" rel=\"noreferrer\" target=\"_blank\" href=\"https://scikit-learn.org/1.5/modules/generated/sklearn.neural_network.MLPClassifier.html\">?<span>Documentation for MLPClassifier</span></a><span class=\"sk-estimator-doc-link fitted\">i<span>Fitted</span></span></label><div class=\"sk-toggleable__content fitted\"><pre>MLPClassifier(alpha=0.1, hidden_layer_sizes=1024, learning_rate_init=0.0001,\n",
       "              max_iter=5000, n_iter_no_change=250, random_state=42,\n",
       "              shuffle=False, solver=&#x27;lbfgs&#x27;, tol=1e-05)</pre></div> </div></div></div></div>"
      ],
      "text/plain": [
       "MLPClassifier(alpha=0.1, hidden_layer_sizes=1024, learning_rate_init=0.0001,\n",
       "              max_iter=5000, n_iter_no_change=250, random_state=42,\n",
       "              shuffle=False, solver='lbfgs', tol=1e-05)"
      ]
     },
     "execution_count": 7,
     "metadata": {},
     "output_type": "execute_result"
    }
   ],
   "source": [
    "mlpc_cv_model.best_estimator_"
   ]
  },
  {
   "cell_type": "code",
   "execution_count": 8,
   "metadata": {},
   "outputs": [],
   "source": [
    "results_models = pd.DataFrame(mlpc_cv_model.cv_results_)\n",
    "results_models.to_csv(\"/home/workspace/jogrady/ML4TB/work/merged/Temp_files/MLP_CV_Results.txt\", sep = \"\\t\", index=False)\n",
    "\n",
    "with open('/home/workspace/jogrady/ML4TB/work/models/Logistic_regression/MLP_Classifier.pkl', 'wb') as f:\n",
    "    pickle.dump(mlpc_cv_model, f)"
   ]
  },
  {
   "cell_type": "code",
   "execution_count": 9,
   "metadata": {},
   "outputs": [],
   "source": [
    "# Now onto predicting in the test data set\n",
    "target_names = ['Control', 'Infected']\n",
    "report = classification_report(test_labels.ravel(), mlpc_cv_model.predict(test_data), target_names=target_names, output_dict=True)\n",
    "df_report = pd.DataFrame(report).transpose()\n",
    "Gene_cm_display = ConfusionMatrixDisplay(confusion_matrix = confusion_matrix(test_labels.ravel(), mlpc_cv_model.predict(test_data)), display_labels = [\"Control\", \"Infected\"])"
   ]
  },
  {
   "cell_type": "code",
   "execution_count": 10,
   "metadata": {},
   "outputs": [
    {
     "data": {
      "text/plain": [
       "<matplotlib.legend.Legend at 0x7f13c6fbbe50>"
      ]
     },
     "execution_count": 10,
     "metadata": {},
     "output_type": "execute_result"
    },
    {
     "data": {
      "image/png": "[encoded data removed]",
      "text/plain": [
       "<Figure size 640x480 with 1 Axes>"
      ]
     },
     "metadata": {},
     "output_type": "display_data"
    }
   ],
   "source": [
    "# predict continuous value\n",
    "# For different decision thresholds\n",
    "y_score_gene = mlpc_cv_model.predict_proba(test_data)\n",
    "fprG_gene, tprG_gene, t_gene = roc_curve(test_labels.ravel(), y_score_gene[:,1])\n",
    "roc_aucG_gene = auc(fprG_gene, tprG_gene)\n",
    "plt.figure()\n",
    "lw = 2\n",
    "plt.plot(fprG_gene, tprG_gene, color='red',\n",
    "         lw=lw, label='ROC Gene (area = %0.3f)' % roc_aucG_gene)\n",
    "plt.plot([0, 1], [0, 1], color='black', lw=lw, linestyle='--')\n",
    "plt.xlim([0.0, 1.0])\n",
    "plt.ylim([0.0, 1.0])\n",
    "plt.xlabel('False Positive Rate')\n",
    "plt.ylabel('True Positive Rate')\n",
    "plt.title('ROC Analysis Different models')\n",
    "plt.legend(loc=\"lower right\")"
   ]
  },
  {
   "cell_type": "code",
   "execution_count": 11,
   "metadata": {},
   "outputs": [
    {
     "data": {
      "application/vnd.microsoft.datawrangler.viewer.v0+json": {
       "columns": [
        {
         "name": "index",
         "rawType": "int64",
         "type": "integer"
        },
        {
         "name": "Sample_id",
         "rawType": "object",
         "type": "string"
        },
        {
         "name": "Original_labels",
         "rawType": "int64",
         "type": "integer"
        },
        {
         "name": "MLP_prediction",
         "rawType": "int64",
         "type": "integer"
        }
       ],
       "conversionMethod": "pd.DataFrame",
       "ref": "d0ec4883-aaef-477d-9ef2-261fff8d059b",
       "rows": [
        [
         "0",
         "C007",
         "0",
         "0"
        ],
        [
         "1",
         "C008",
         "0",
         "0"
        ],
        [
         "2",
         "C011",
         "0",
         "0"
        ],
        [
         "3",
         "C012",
         "0",
         "0"
        ],
        [
         "4",
         "C014",
         "0",
         "0"
        ],
        [
         "5",
         "C015",
         "0",
         "0"
        ],
        [
         "6",
         "C019",
         "0",
         "1"
        ],
        [
         "7",
         "C022",
         "0",
         "0"
        ],
        [
         "8",
         "C023",
         "0",
         "1"
        ],
        [
         "9",
         "C028",
         "0",
         "0"
        ],
        [
         "10",
         "C030",
         "0",
         "1"
        ],
        [
         "11",
         "C031",
         "0",
         "0"
        ],
        [
         "12",
         "C035",
         "0",
         "0"
        ],
        [
         "13",
         "C038",
         "0",
         "0"
        ],
        [
         "14",
         "C040",
         "0",
         "1"
        ],
        [
         "15",
         "C045",
         "0",
         "0"
        ],
        [
         "16",
         "C046",
         "0",
         "1"
        ],
        [
         "17",
         "C049",
         "0",
         "1"
        ],
        [
         "18",
         "C053",
         "0",
         "0"
        ],
        [
         "19",
         "C062",
         "0",
         "0"
        ],
        [
         "20",
         "C063",
         "0",
         "0"
        ],
        [
         "21",
         "C064",
         "0",
         "1"
        ],
        [
         "22",
         "T001",
         "1",
         "1"
        ],
        [
         "23",
         "T003",
         "1",
         "1"
        ],
        [
         "24",
         "T004",
         "1",
         "1"
        ],
        [
         "25",
         "T013",
         "1",
         "1"
        ],
        [
         "26",
         "T015",
         "1",
         "0"
        ],
        [
         "27",
         "T016",
         "1",
         "1"
        ],
        [
         "28",
         "T018",
         "1",
         "1"
        ],
        [
         "29",
         "T022",
         "1",
         "1"
        ],
        [
         "30",
         "T031",
         "1",
         "1"
        ],
        [
         "31",
         "T035",
         "1",
         "1"
        ],
        [
         "32",
         "T037",
         "1",
         "1"
        ],
        [
         "33",
         "T042",
         "1",
         "1"
        ],
        [
         "34",
         "T046",
         "1",
         "1"
        ],
        [
         "35",
         "T053",
         "1",
         "1"
        ],
        [
         "36",
         "T059",
         "1",
         "0"
        ],
        [
         "37",
         "T062",
         "1",
         "1"
        ],
        [
         "38",
         "T064",
         "1",
         "1"
        ],
        [
         "39",
         "846_Control_W0",
         "0",
         "0"
        ],
        [
         "40",
         "849_Control_W0",
         "0",
         "0"
        ],
        [
         "41",
         "846_Control_W4",
         "0",
         "0"
        ],
        [
         "42",
         "849_Control_W4",
         "0",
         "1"
        ],
        [
         "43",
         "846_Control_W10",
         "0",
         "0"
        ],
        [
         "44",
         "849_Control_W10",
         "0",
         "1"
        ],
        [
         "45",
         "A6635_W-1",
         "0",
         "0"
        ],
        [
         "46",
         "A6636_W-1",
         "0",
         "0"
        ],
        [
         "47",
         "A6637_W-1",
         "0",
         "1"
        ],
        [
         "48",
         "A6635_W1",
         "1",
         "1"
        ],
        [
         "49",
         "A6636_W1",
         "1",
         "1"
        ]
       ],
       "shape": {
        "columns": 3,
        "rows": 68
       }
      },
      "text/html": [
       "<div>\n",
       "<style scoped>\n",
       "    .dataframe tbody tr th:only-of-type {\n",
       "        vertical-align: middle;\n",
       "    }\n",
       "\n",
       "    .dataframe tbody tr th {\n",
       "        vertical-align: top;\n",
       "    }\n",
       "\n",
       "    .dataframe thead th {\n",
       "        text-align: right;\n",
       "    }\n",
       "</style>\n",
       "<table border=\"1\" class=\"dataframe\">\n",
       "  <thead>\n",
       "    <tr style=\"text-align: right;\">\n",
       "      <th></th>\n",
       "      <th>Sample_id</th>\n",
       "      <th>Original_labels</th>\n",
       "      <th>MLP_prediction</th>\n",
       "    </tr>\n",
       "  </thead>\n",
       "  <tbody>\n",
       "    <tr>\n",
       "      <th>0</th>\n",
       "      <td>C007</td>\n",
       "      <td>0</td>\n",
       "      <td>0</td>\n",
       "    </tr>\n",
       "    <tr>\n",
       "      <th>1</th>\n",
       "      <td>C008</td>\n",
       "      <td>0</td>\n",
       "      <td>0</td>\n",
       "    </tr>\n",
       "    <tr>\n",
       "      <th>2</th>\n",
       "      <td>C011</td>\n",
       "      <td>0</td>\n",
       "      <td>0</td>\n",
       "    </tr>\n",
       "    <tr>\n",
       "      <th>3</th>\n",
       "      <td>C012</td>\n",
       "      <td>0</td>\n",
       "      <td>0</td>\n",
       "    </tr>\n",
       "    <tr>\n",
       "      <th>4</th>\n",
       "      <td>C014</td>\n",
       "      <td>0</td>\n",
       "      <td>0</td>\n",
       "    </tr>\n",
       "    <tr>\n",
       "      <th>...</th>\n",
       "      <td>...</td>\n",
       "      <td>...</td>\n",
       "      <td>...</td>\n",
       "    </tr>\n",
       "    <tr>\n",
       "      <th>63</th>\n",
       "      <td>A017_CON</td>\n",
       "      <td>0</td>\n",
       "      <td>1</td>\n",
       "    </tr>\n",
       "    <tr>\n",
       "      <th>64</th>\n",
       "      <td>A018_CON</td>\n",
       "      <td>0</td>\n",
       "      <td>0</td>\n",
       "    </tr>\n",
       "    <tr>\n",
       "      <th>65</th>\n",
       "      <td>A023_CON</td>\n",
       "      <td>0</td>\n",
       "      <td>0</td>\n",
       "    </tr>\n",
       "    <tr>\n",
       "      <th>66</th>\n",
       "      <td>A037_TB</td>\n",
       "      <td>1</td>\n",
       "      <td>1</td>\n",
       "    </tr>\n",
       "    <tr>\n",
       "      <th>67</th>\n",
       "      <td>A038_TB</td>\n",
       "      <td>1</td>\n",
       "      <td>1</td>\n",
       "    </tr>\n",
       "  </tbody>\n",
       "</table>\n",
       "<p>68 rows × 3 columns</p>\n",
       "</div>"
      ],
      "text/plain": [
       "   Sample_id  Original_labels  MLP_prediction\n",
       "0       C007                0               0\n",
       "1       C008                0               0\n",
       "2       C011                0               0\n",
       "3       C012                0               0\n",
       "4       C014                0               0\n",
       "..       ...              ...             ...\n",
       "63  A017_CON                0               1\n",
       "64  A018_CON                0               0\n",
       "65  A023_CON                0               0\n",
       "66   A037_TB                1               1\n",
       "67   A038_TB                1               1\n",
       "\n",
       "[68 rows x 3 columns]"
      ]
     },
     "execution_count": 11,
     "metadata": {},
     "output_type": "execute_result"
    }
   ],
   "source": [
    "\n",
    "grady_master_df_predictions = pd.DataFrame({\"Sample_id\": test_data.index, \"Original_labels\": test_labels.ravel(), \"MLP_prediction\": mlpc_cv_model.predict(test_data)})\n",
    "\n",
    "grady_master_df_predictions"
   ]
  },
  {
   "cell_type": "markdown",
   "metadata": {},
   "source": [
    "## GBM"
   ]
  },
  {
   "cell_type": "code",
   "execution_count": 12,
   "metadata": {},
   "outputs": [
    {
     "name": "stdout",
     "output_type": "stream",
     "text": [
      "Fitting 5 folds for each of 18000 candidates, totalling 90000 fits\n"
     ]
    },
    {
     "data": {
      "text/html": [
       "<style>#sk-container-id-3 {\n",
       "  /* Definition of color scheme common for light and dark mode */\n",
       "  --sklearn-color-text: black;\n",
       "  --sklearn-color-line: gray;\n",
       "  /* Definition of color scheme for unfitted estimators */\n",
       "  --sklearn-color-unfitted-level-0: #fff5e6;\n",
       "  --sklearn-color-unfitted-level-1: #f6e4d2;\n",
       "  --sklearn-color-unfitted-level-2: #ffe0b3;\n",
       "  --sklearn-color-unfitted-level-3: chocolate;\n",
       "  /* Definition of color scheme for fitted estimators */\n",
       "  --sklearn-color-fitted-level-0: #f0f8ff;\n",
       "  --sklearn-color-fitted-level-1: #d4ebff;\n",
       "  --sklearn-color-fitted-level-2: #b3dbfd;\n",
       "  --sklearn-color-fitted-level-3: cornflowerblue;\n",
       "\n",
       "  /* Specific color for light theme */\n",
       "  --sklearn-color-text-on-default-background: var(--sg-text-color, var(--theme-code-foreground, var(--jp-content-font-color1, black)));\n",
       "  --sklearn-color-background: var(--sg-background-color, var(--theme-background, var(--jp-layout-color0, white)));\n",
       "  --sklearn-color-border-box: var(--sg-text-color, var(--theme-code-foreground, var(--jp-content-font-color1, black)));\n",
       "  --sklearn-color-icon: #696969;\n",
       "\n",
       "  @media (prefers-color-scheme: dark) {\n",
       "    /* Redefinition of color scheme for dark theme */\n",
       "    --sklearn-color-text-on-default-background: var(--sg-text-color, var(--theme-code-foreground, var(--jp-content-font-color1, white)));\n",
       "    --sklearn-color-background: var(--sg-background-color, var(--theme-background, var(--jp-layout-color0, #111)));\n",
       "    --sklearn-color-border-box: var(--sg-text-color, var(--theme-code-foreground, var(--jp-content-font-color1, white)));\n",
       "    --sklearn-color-icon: #878787;\n",
       "  }\n",
       "}\n",
       "\n",
       "#sk-container-id-3 {\n",
       "  color: var(--sklearn-color-text);\n",
       "}\n",
       "\n",
       "#sk-container-id-3 pre {\n",
       "  padding: 0;\n",
       "}\n",
       "\n",
       "#sk-container-id-3 input.sk-hidden--visually {\n",
       "  border: 0;\n",
       "  clip: rect(1px 1px 1px 1px);\n",
       "  clip: rect(1px, 1px, 1px, 1px);\n",
       "  height: 1px;\n",
       "  margin: -1px;\n",
       "  overflow: hidden;\n",
       "  padding: 0;\n",
       "  position: absolute;\n",
       "  width: 1px;\n",
       "}\n",
       "\n",
       "#sk-container-id-3 div.sk-dashed-wrapped {\n",
       "  border: 1px dashed var(--sklearn-color-line);\n",
       "  margin: 0 0.4em 0.5em 0.4em;\n",
       "  box-sizing: border-box;\n",
       "  padding-bottom: 0.4em;\n",
       "  background-color: var(--sklearn-color-background);\n",
       "}\n",
       "\n",
       "#sk-container-id-3 div.sk-container {\n",
       "  /* jupyter's `normalize.less` sets `[hidden] { display: none; }`\n",
       "     but bootstrap.min.css set `[hidden] { display: none !important; }`\n",
       "     so we also need the `!important` here to be able to override the\n",
       "     default hidden behavior on the sphinx rendered scikit-learn.org.\n",
       "     See: https://github.com/scikit-learn/scikit-learn/issues/21755 */\n",
       "  display: inline-block !important;\n",
       "  position: relative;\n",
       "}\n",
       "\n",
       "#sk-container-id-3 div.sk-text-repr-fallback {\n",
       "  display: none;\n",
       "}\n",
       "\n",
       "div.sk-parallel-item,\n",
       "div.sk-serial,\n",
       "div.sk-item {\n",
       "  /* draw centered vertical line to link estimators */\n",
       "  background-image: linear-gradient(var(--sklearn-color-text-on-default-background), var(--sklearn-color-text-on-default-background));\n",
       "  background-size: 2px 100%;\n",
       "  background-repeat: no-repeat;\n",
       "  background-position: center center;\n",
       "}\n",
       "\n",
       "/* Parallel-specific style estimator block */\n",
       "\n",
       "#sk-container-id-3 div.sk-parallel-item::after {\n",
       "  content: \"\";\n",
       "  width: 100%;\n",
       "  border-bottom: 2px solid var(--sklearn-color-text-on-default-background);\n",
       "  flex-grow: 1;\n",
       "}\n",
       "\n",
       "#sk-container-id-3 div.sk-parallel {\n",
       "  display: flex;\n",
       "  align-items: stretch;\n",
       "  justify-content: center;\n",
       "  background-color: var(--sklearn-color-background);\n",
       "  position: relative;\n",
       "}\n",
       "\n",
       "#sk-container-id-3 div.sk-parallel-item {\n",
       "  display: flex;\n",
       "  flex-direction: column;\n",
       "}\n",
       "\n",
       "#sk-container-id-3 div.sk-parallel-item:first-child::after {\n",
       "  align-self: flex-end;\n",
       "  width: 50%;\n",
       "}\n",
       "\n",
       "#sk-container-id-3 div.sk-parallel-item:last-child::after {\n",
       "  align-self: flex-start;\n",
       "  width: 50%;\n",
       "}\n",
       "\n",
       "#sk-container-id-3 div.sk-parallel-item:only-child::after {\n",
       "  width: 0;\n",
       "}\n",
       "\n",
       "/* Serial-specific style estimator block */\n",
       "\n",
       "#sk-container-id-3 div.sk-serial {\n",
       "  display: flex;\n",
       "  flex-direction: column;\n",
       "  align-items: center;\n",
       "  background-color: var(--sklearn-color-background);\n",
       "  padding-right: 1em;\n",
       "  padding-left: 1em;\n",
       "}\n",
       "\n",
       "\n",
       "/* Toggleable style: style used for estimator/Pipeline/ColumnTransformer box that is\n",
       "clickable and can be expanded/collapsed.\n",
       "- Pipeline and ColumnTransformer use this feature and define the default style\n",
       "- Estimators will overwrite some part of the style using the `sk-estimator` class\n",
       "*/\n",
       "\n",
       "/* Pipeline and ColumnTransformer style (default) */\n",
       "\n",
       "#sk-container-id-3 div.sk-toggleable {\n",
       "  /* Default theme specific background. It is overwritten whether we have a\n",
       "  specific estimator or a Pipeline/ColumnTransformer */\n",
       "  background-color: var(--sklearn-color-background);\n",
       "}\n",
       "\n",
       "/* Toggleable label */\n",
       "#sk-container-id-3 label.sk-toggleable__label {\n",
       "  cursor: pointer;\n",
       "  display: block;\n",
       "  width: 100%;\n",
       "  margin-bottom: 0;\n",
       "  padding: 0.5em;\n",
       "  box-sizing: border-box;\n",
       "  text-align: center;\n",
       "}\n",
       "\n",
       "#sk-container-id-3 label.sk-toggleable__label-arrow:before {\n",
       "  /* Arrow on the left of the label */\n",
       "  content: \"▸\";\n",
       "  float: left;\n",
       "  margin-right: 0.25em;\n",
       "  color: var(--sklearn-color-icon);\n",
       "}\n",
       "\n",
       "#sk-container-id-3 label.sk-toggleable__label-arrow:hover:before {\n",
       "  color: var(--sklearn-color-text);\n",
       "}\n",
       "\n",
       "/* Toggleable content - dropdown */\n",
       "\n",
       "#sk-container-id-3 div.sk-toggleable__content {\n",
       "  max-height: 0;\n",
       "  max-width: 0;\n",
       "  overflow: hidden;\n",
       "  text-align: left;\n",
       "  /* unfitted */\n",
       "  background-color: var(--sklearn-color-unfitted-level-0);\n",
       "}\n",
       "\n",
       "#sk-container-id-3 div.sk-toggleable__content.fitted {\n",
       "  /* fitted */\n",
       "  background-color: var(--sklearn-color-fitted-level-0);\n",
       "}\n",
       "\n",
       "#sk-container-id-3 div.sk-toggleable__content pre {\n",
       "  margin: 0.2em;\n",
       "  border-radius: 0.25em;\n",
       "  color: var(--sklearn-color-text);\n",
       "  /* unfitted */\n",
       "  background-color: var(--sklearn-color-unfitted-level-0);\n",
       "}\n",
       "\n",
       "#sk-container-id-3 div.sk-toggleable__content.fitted pre {\n",
       "  /* unfitted */\n",
       "  background-color: var(--sklearn-color-fitted-level-0);\n",
       "}\n",
       "\n",
       "#sk-container-id-3 input.sk-toggleable__control:checked~div.sk-toggleable__content {\n",
       "  /* Expand drop-down */\n",
       "  max-height: 200px;\n",
       "  max-width: 100%;\n",
       "  overflow: auto;\n",
       "}\n",
       "\n",
       "#sk-container-id-3 input.sk-toggleable__control:checked~label.sk-toggleable__label-arrow:before {\n",
       "  content: \"▾\";\n",
       "}\n",
       "\n",
       "/* Pipeline/ColumnTransformer-specific style */\n",
       "\n",
       "#sk-container-id-3 div.sk-label input.sk-toggleable__control:checked~label.sk-toggleable__label {\n",
       "  color: var(--sklearn-color-text);\n",
       "  background-color: var(--sklearn-color-unfitted-level-2);\n",
       "}\n",
       "\n",
       "#sk-container-id-3 div.sk-label.fitted input.sk-toggleable__control:checked~label.sk-toggleable__label {\n",
       "  background-color: var(--sklearn-color-fitted-level-2);\n",
       "}\n",
       "\n",
       "/* Estimator-specific style */\n",
       "\n",
       "/* Colorize estimator box */\n",
       "#sk-container-id-3 div.sk-estimator input.sk-toggleable__control:checked~label.sk-toggleable__label {\n",
       "  /* unfitted */\n",
       "  background-color: var(--sklearn-color-unfitted-level-2);\n",
       "}\n",
       "\n",
       "#sk-container-id-3 div.sk-estimator.fitted input.sk-toggleable__control:checked~label.sk-toggleable__label {\n",
       "  /* fitted */\n",
       "  background-color: var(--sklearn-color-fitted-level-2);\n",
       "}\n",
       "\n",
       "#sk-container-id-3 div.sk-label label.sk-toggleable__label,\n",
       "#sk-container-id-3 div.sk-label label {\n",
       "  /* The background is the default theme color */\n",
       "  color: var(--sklearn-color-text-on-default-background);\n",
       "}\n",
       "\n",
       "/* On hover, darken the color of the background */\n",
       "#sk-container-id-3 div.sk-label:hover label.sk-toggleable__label {\n",
       "  color: var(--sklearn-color-text);\n",
       "  background-color: var(--sklearn-color-unfitted-level-2);\n",
       "}\n",
       "\n",
       "/* Label box, darken color on hover, fitted */\n",
       "#sk-container-id-3 div.sk-label.fitted:hover label.sk-toggleable__label.fitted {\n",
       "  color: var(--sklearn-color-text);\n",
       "  background-color: var(--sklearn-color-fitted-level-2);\n",
       "}\n",
       "\n",
       "/* Estimator label */\n",
       "\n",
       "#sk-container-id-3 div.sk-label label {\n",
       "  font-family: monospace;\n",
       "  font-weight: bold;\n",
       "  display: inline-block;\n",
       "  line-height: 1.2em;\n",
       "}\n",
       "\n",
       "#sk-container-id-3 div.sk-label-container {\n",
       "  text-align: center;\n",
       "}\n",
       "\n",
       "/* Estimator-specific */\n",
       "#sk-container-id-3 div.sk-estimator {\n",
       "  font-family: monospace;\n",
       "  border: 1px dotted var(--sklearn-color-border-box);\n",
       "  border-radius: 0.25em;\n",
       "  box-sizing: border-box;\n",
       "  margin-bottom: 0.5em;\n",
       "  /* unfitted */\n",
       "  background-color: var(--sklearn-color-unfitted-level-0);\n",
       "}\n",
       "\n",
       "#sk-container-id-3 div.sk-estimator.fitted {\n",
       "  /* fitted */\n",
       "  background-color: var(--sklearn-color-fitted-level-0);\n",
       "}\n",
       "\n",
       "/* on hover */\n",
       "#sk-container-id-3 div.sk-estimator:hover {\n",
       "  /* unfitted */\n",
       "  background-color: var(--sklearn-color-unfitted-level-2);\n",
       "}\n",
       "\n",
       "#sk-container-id-3 div.sk-estimator.fitted:hover {\n",
       "  /* fitted */\n",
       "  background-color: var(--sklearn-color-fitted-level-2);\n",
       "}\n",
       "\n",
       "/* Specification for estimator info (e.g. \"i\" and \"?\") */\n",
       "\n",
       "/* Common style for \"i\" and \"?\" */\n",
       "\n",
       ".sk-estimator-doc-link,\n",
       "a:link.sk-estimator-doc-link,\n",
       "a:visited.sk-estimator-doc-link {\n",
       "  float: right;\n",
       "  font-size: smaller;\n",
       "  line-height: 1em;\n",
       "  font-family: monospace;\n",
       "  background-color: var(--sklearn-color-background);\n",
       "  border-radius: 1em;\n",
       "  height: 1em;\n",
       "  width: 1em;\n",
       "  text-decoration: none !important;\n",
       "  margin-left: 1ex;\n",
       "  /* unfitted */\n",
       "  border: var(--sklearn-color-unfitted-level-1) 1pt solid;\n",
       "  color: var(--sklearn-color-unfitted-level-1);\n",
       "}\n",
       "\n",
       ".sk-estimator-doc-link.fitted,\n",
       "a:link.sk-estimator-doc-link.fitted,\n",
       "a:visited.sk-estimator-doc-link.fitted {\n",
       "  /* fitted */\n",
       "  border: var(--sklearn-color-fitted-level-1) 1pt solid;\n",
       "  color: var(--sklearn-color-fitted-level-1);\n",
       "}\n",
       "\n",
       "/* On hover */\n",
       "div.sk-estimator:hover .sk-estimator-doc-link:hover,\n",
       ".sk-estimator-doc-link:hover,\n",
       "div.sk-label-container:hover .sk-estimator-doc-link:hover,\n",
       ".sk-estimator-doc-link:hover {\n",
       "  /* unfitted */\n",
       "  background-color: var(--sklearn-color-unfitted-level-3);\n",
       "  color: var(--sklearn-color-background);\n",
       "  text-decoration: none;\n",
       "}\n",
       "\n",
       "div.sk-estimator.fitted:hover .sk-estimator-doc-link.fitted:hover,\n",
       ".sk-estimator-doc-link.fitted:hover,\n",
       "div.sk-label-container:hover .sk-estimator-doc-link.fitted:hover,\n",
       ".sk-estimator-doc-link.fitted:hover {\n",
       "  /* fitted */\n",
       "  background-color: var(--sklearn-color-fitted-level-3);\n",
       "  color: var(--sklearn-color-background);\n",
       "  text-decoration: none;\n",
       "}\n",
       "\n",
       "/* Span, style for the box shown on hovering the info icon */\n",
       ".sk-estimator-doc-link span {\n",
       "  display: none;\n",
       "  z-index: 9999;\n",
       "  position: relative;\n",
       "  font-weight: normal;\n",
       "  right: .2ex;\n",
       "  padding: .5ex;\n",
       "  margin: .5ex;\n",
       "  width: min-content;\n",
       "  min-width: 20ex;\n",
       "  max-width: 50ex;\n",
       "  color: var(--sklearn-color-text);\n",
       "  box-shadow: 2pt 2pt 4pt #999;\n",
       "  /* unfitted */\n",
       "  background: var(--sklearn-color-unfitted-level-0);\n",
       "  border: .5pt solid var(--sklearn-color-unfitted-level-3);\n",
       "}\n",
       "\n",
       ".sk-estimator-doc-link.fitted span {\n",
       "  /* fitted */\n",
       "  background: var(--sklearn-color-fitted-level-0);\n",
       "  border: var(--sklearn-color-fitted-level-3);\n",
       "}\n",
       "\n",
       ".sk-estimator-doc-link:hover span {\n",
       "  display: block;\n",
       "}\n",
       "\n",
       "/* \"?\"-specific style due to the `<a>` HTML tag */\n",
       "\n",
       "#sk-container-id-3 a.estimator_doc_link {\n",
       "  float: right;\n",
       "  font-size: 1rem;\n",
       "  line-height: 1em;\n",
       "  font-family: monospace;\n",
       "  background-color: var(--sklearn-color-background);\n",
       "  border-radius: 1rem;\n",
       "  height: 1rem;\n",
       "  width: 1rem;\n",
       "  text-decoration: none;\n",
       "  /* unfitted */\n",
       "  color: var(--sklearn-color-unfitted-level-1);\n",
       "  border: var(--sklearn-color-unfitted-level-1) 1pt solid;\n",
       "}\n",
       "\n",
       "#sk-container-id-3 a.estimator_doc_link.fitted {\n",
       "  /* fitted */\n",
       "  border: var(--sklearn-color-fitted-level-1) 1pt solid;\n",
       "  color: var(--sklearn-color-fitted-level-1);\n",
       "}\n",
       "\n",
       "/* On hover */\n",
       "#sk-container-id-3 a.estimator_doc_link:hover {\n",
       "  /* unfitted */\n",
       "  background-color: var(--sklearn-color-unfitted-level-3);\n",
       "  color: var(--sklearn-color-background);\n",
       "  text-decoration: none;\n",
       "}\n",
       "\n",
       "#sk-container-id-3 a.estimator_doc_link.fitted:hover {\n",
       "  /* fitted */\n",
       "  background-color: var(--sklearn-color-fitted-level-3);\n",
       "}\n",
       "</style><div id=\"sk-container-id-3\" class=\"sk-top-container\"><div class=\"sk-text-repr-fallback\"><pre>GridSearchCV(cv=[(array([  0,   1,   3,   5,   6,   7,   8,   9,  10,  11,  12,  13,  14,\n",
       "        15,  16,  18,  20,  21,  22,  27,  28,  29,  30,  31,  32,  33,\n",
       "        34,  37,  38,  39,  41,  42,  43,  44,  45,  47,  49,  50,  51,\n",
       "        52,  53,  54,  55,  56,  57,  58,  59,  60,  61,  62,  63,  65,\n",
       "        66,  67,  68,  69,  71,  72,  74,  75,  76,  77,  78,  79,  80,\n",
       "        81,  82,  84,  85,  86,  87,  89,  90,  91,  92,  93,  94,  95,\n",
       "        96,  97,  98,  99, 100, 101, 102, 104, 105, 106, 107, 108, 109,\n",
       "       110, 111, 112, 114, 115, 116, 117, 118, 119, 120, 123, 124, 125...\n",
       "             estimator=GradientBoostingClassifier(random_state=42), n_jobs=50,\n",
       "             param_grid={&#x27;learning_rate&#x27;: [0.0001, 0.001, 0.1, 1],\n",
       "                         &#x27;max_depth&#x27;: [3, 5, 7, 9, 11],\n",
       "                         &#x27;max_features&#x27;: [&#x27;sqrt&#x27;, &#x27;log2&#x27;],\n",
       "                         &#x27;min_samples_leaf&#x27;: [1, 3, 5, 7, 9],\n",
       "                         &#x27;min_samples_split&#x27;: [2, 3, 4, 5, 6, 7],\n",
       "                         &#x27;n_estimators&#x27;: [10, 50, 100, 200, 500],\n",
       "                         &#x27;tol&#x27;: [0.0001, 1e-05, 1e-06]},\n",
       "             scoring=make_scorer(roc_auc_score, response_method=&#x27;predict_proba&#x27;),\n",
       "             verbose=1)</pre><b>In a Jupyter environment, please rerun this cell to show the HTML representation or trust the notebook. <br />On GitHub, the HTML representation is unable to render, please try loading this page with nbviewer.org.</b></div><div class=\"sk-container\" hidden><div class=\"sk-item sk-dashed-wrapped\"><div class=\"sk-label-container\"><div class=\"sk-label fitted sk-toggleable\"><input class=\"sk-toggleable__control sk-hidden--visually\" id=\"sk-estimator-id-5\" type=\"checkbox\" ><label for=\"sk-estimator-id-5\" class=\"sk-toggleable__label fitted sk-toggleable__label-arrow fitted\">&nbsp;&nbsp;GridSearchCV<a class=\"sk-estimator-doc-link fitted\" rel=\"noreferrer\" target=\"_blank\" href=\"https://scikit-learn.org/1.5/modules/generated/sklearn.model_selection.GridSearchCV.html\">?<span>Documentation for GridSearchCV</span></a><span class=\"sk-estimator-doc-link fitted\">i<span>Fitted</span></span></label><div class=\"sk-toggleable__content fitted\"><pre>GridSearchCV(cv=[(array([  0,   1,   3,   5,   6,   7,   8,   9,  10,  11,  12,  13,  14,\n",
       "        15,  16,  18,  20,  21,  22,  27,  28,  29,  30,  31,  32,  33,\n",
       "        34,  37,  38,  39,  41,  42,  43,  44,  45,  47,  49,  50,  51,\n",
       "        52,  53,  54,  55,  56,  57,  58,  59,  60,  61,  62,  63,  65,\n",
       "        66,  67,  68,  69,  71,  72,  74,  75,  76,  77,  78,  79,  80,\n",
       "        81,  82,  84,  85,  86,  87,  89,  90,  91,  92,  93,  94,  95,\n",
       "        96,  97,  98,  99, 100, 101, 102, 104, 105, 106, 107, 108, 109,\n",
       "       110, 111, 112, 114, 115, 116, 117, 118, 119, 120, 123, 124, 125...\n",
       "             estimator=GradientBoostingClassifier(random_state=42), n_jobs=50,\n",
       "             param_grid={&#x27;learning_rate&#x27;: [0.0001, 0.001, 0.1, 1],\n",
       "                         &#x27;max_depth&#x27;: [3, 5, 7, 9, 11],\n",
       "                         &#x27;max_features&#x27;: [&#x27;sqrt&#x27;, &#x27;log2&#x27;],\n",
       "                         &#x27;min_samples_leaf&#x27;: [1, 3, 5, 7, 9],\n",
       "                         &#x27;min_samples_split&#x27;: [2, 3, 4, 5, 6, 7],\n",
       "                         &#x27;n_estimators&#x27;: [10, 50, 100, 200, 500],\n",
       "                         &#x27;tol&#x27;: [0.0001, 1e-05, 1e-06]},\n",
       "             scoring=make_scorer(roc_auc_score, response_method=&#x27;predict_proba&#x27;),\n",
       "             verbose=1)</pre></div> </div></div><div class=\"sk-parallel\"><div class=\"sk-parallel-item\"><div class=\"sk-item\"><div class=\"sk-label-container\"><div class=\"sk-label fitted sk-toggleable\"><input class=\"sk-toggleable__control sk-hidden--visually\" id=\"sk-estimator-id-6\" type=\"checkbox\" ><label for=\"sk-estimator-id-6\" class=\"sk-toggleable__label fitted sk-toggleable__label-arrow fitted\">best_estimator_: GradientBoostingClassifier</label><div class=\"sk-toggleable__content fitted\"><pre>GradientBoostingClassifier(max_depth=9, max_features=&#x27;sqrt&#x27;, min_samples_leaf=5,\n",
       "                           n_estimators=200, random_state=42)</pre></div> </div></div><div class=\"sk-serial\"><div class=\"sk-item\"><div class=\"sk-estimator fitted sk-toggleable\"><input class=\"sk-toggleable__control sk-hidden--visually\" id=\"sk-estimator-id-7\" type=\"checkbox\" ><label for=\"sk-estimator-id-7\" class=\"sk-toggleable__label fitted sk-toggleable__label-arrow fitted\">&nbsp;GradientBoostingClassifier<a class=\"sk-estimator-doc-link fitted\" rel=\"noreferrer\" target=\"_blank\" href=\"https://scikit-learn.org/1.5/modules/generated/sklearn.ensemble.GradientBoostingClassifier.html\">?<span>Documentation for GradientBoostingClassifier</span></a></label><div class=\"sk-toggleable__content fitted\"><pre>GradientBoostingClassifier(max_depth=9, max_features=&#x27;sqrt&#x27;, min_samples_leaf=5,\n",
       "                           n_estimators=200, random_state=42)</pre></div> </div></div></div></div></div></div></div></div></div>"
      ],
      "text/plain": [
       "GridSearchCV(cv=[(array([  0,   1,   3,   5,   6,   7,   8,   9,  10,  11,  12,  13,  14,\n",
       "        15,  16,  18,  20,  21,  22,  27,  28,  29,  30,  31,  32,  33,\n",
       "        34,  37,  38,  39,  41,  42,  43,  44,  45,  47,  49,  50,  51,\n",
       "        52,  53,  54,  55,  56,  57,  58,  59,  60,  61,  62,  63,  65,\n",
       "        66,  67,  68,  69,  71,  72,  74,  75,  76,  77,  78,  79,  80,\n",
       "        81,  82,  84,  85,  86,  87,  89,  90,  91,  92,  93,  94,  95,\n",
       "        96,  97,  98,  99, 100, 101, 102, 104, 105, 106, 107, 108, 109,\n",
       "       110, 111, 112, 114, 115, 116, 117, 118, 119, 120, 123, 124, 125...\n",
       "             estimator=GradientBoostingClassifier(random_state=42), n_jobs=50,\n",
       "             param_grid={'learning_rate': [0.0001, 0.001, 0.1, 1],\n",
       "                         'max_depth': [3, 5, 7, 9, 11],\n",
       "                         'max_features': ['sqrt', 'log2'],\n",
       "                         'min_samples_leaf': [1, 3, 5, 7, 9],\n",
       "                         'min_samples_split': [2, 3, 4, 5, 6, 7],\n",
       "                         'n_estimators': [10, 50, 100, 200, 500],\n",
       "                         'tol': [0.0001, 1e-05, 1e-06]},\n",
       "             scoring=make_scorer(roc_auc_score, response_method='predict_proba'),\n",
       "             verbose=1)"
      ]
     },
     "execution_count": 12,
     "metadata": {},
     "output_type": "execute_result"
    }
   ],
   "source": [
    "from sklearn.ensemble import GradientBoostingClassifier\n",
    "\n",
    "\n",
    "gbm_params = {\"n_estimators\": [10,50,100,200,500],\n",
    "              \"min_samples_split\": [2,3,4,5,6,7],\n",
    "              \"min_samples_leaf\": [1,3,5,7,9],\n",
    "              \"max_depth\": [3,5,7,9,11],\n",
    "              \"max_features\": [\"sqrt\", \"log2\"], \n",
    "              \"tol\": [0.0001, 0.00001, 0.000001],\n",
    "              \"learning_rate\": [0.0001, 0.001, 0.1, 1]}\n",
    "from sklearn.model_selection import GridSearchCV\n",
    "\n",
    "\n",
    "precision_scorer = make_scorer(precision_score, zero_division=1)  # had to modify zero_division as it was giving problems\n",
    "f1_scorer = make_scorer(f1_score)\n",
    "accuracy_scorer = make_scorer(accuracy_score)\n",
    "recall_scorer = make_scorer(recall_score)\n",
    "\n",
    "# Define scoring dictionary for GridSearchCV\n",
    "gbm = GradientBoostingClassifier(random_state = 42) # ANN model object created\n",
    "\n",
    "# Model CV process \n",
    "gbm_cv_model = GridSearchCV(gbm, gbm_params, \n",
    "                         cv = cv_splits,\n",
    "                         n_jobs = 50,\n",
    "                         verbose = 1,\n",
    "                         scoring=roc_auc_scorer)\n",
    "\n",
    "gbm_cv_model.fit(train_data, train_labels.ravel()) "
   ]
  },
  {
   "cell_type": "code",
   "execution_count": 13,
   "metadata": {},
   "outputs": [
    {
     "name": "stdout",
     "output_type": "stream",
     "text": [
      "[0.         0.         0.         0.14285714 0.14285714 0.21428571\n",
      " 0.21428571 0.28571429 0.28571429 1.        ] [0.   0.05 0.75 0.75 0.85 0.85 0.95 0.95 1.   1.  ]\n",
      "[0.         0.         0.         0.11764706 0.11764706 0.17647059\n",
      " 0.17647059 1.        ] [0.         0.05263158 0.57894737 0.57894737 0.94736842 0.94736842\n",
      " 1.         1.        ]\n",
      "[0.     0.     0.     0.125  0.125  0.5    0.5    0.8125 0.8125 1.    ] [0.     0.0625 0.75   0.75   0.875  0.875  0.9375 0.9375 1.     1.    ]\n",
      "[0.  0.  0.  0.2 0.2 0.4 0.4 1. ] [0.         0.04166667 0.91666667 0.91666667 0.95833333 0.95833333\n",
      " 1.         1.        ]\n",
      "[0.         0.         0.         0.08333333 0.08333333 0.58333333\n",
      " 0.58333333 1.        ] [0.         0.07692308 0.76923077 0.76923077 0.92307692 0.92307692\n",
      " 1.         1.        ]\n"
     ]
    },
    {
     "data": {
      "image/png": "[encoded data removed]",
      "text/plain": [
       "<Figure size 640x480 with 1 Axes>"
      ]
     },
     "metadata": {},
     "output_type": "display_data"
    },
    {
     "name": "stdout",
     "output_type": "stream",
     "text": [
      "Best Parameters found:  {'learning_rate': 0.1, 'max_depth': 9, 'max_features': 'sqrt', 'min_samples_leaf': 5, 'min_samples_split': 2, 'n_estimators': 200, 'tol': 0.0001}\n"
     ]
    }
   ],
   "source": [
    "# Retrieve the best model from GridSearchCV\n",
    "gbm_best_model = gbm_cv_model.best_estimator_\n",
    "\n",
    "roc_data = []\n",
    "\n",
    "\n",
    "# Plot ROC curves for each fold using custom cv_splits\n",
    "for fold, (train_idx, test_idx) in enumerate(cv_splits):\n",
    "    X_train, X_test = train_data.iloc[train_idx], train_data.iloc[test_idx]\n",
    "    y_train, y_test = train_labels[train_idx], train_labels[test_idx]\n",
    "\n",
    "    # Fit the best model from GridSearchCV on the fold's training data\n",
    "    gbm_best_model.fit(X_train, y_train)\n",
    "    \n",
    "    # Get predicted probabilities for the test set\n",
    "    y_prob = gbm_best_model.predict_proba(X_test)[:, 1]\n",
    "    \n",
    "    # Compute ROC curve\n",
    "    fpr, tpr, _ = roc_curve(y_test, y_prob)\n",
    "    roc_auc = auc(fpr, tpr)\n",
    "    print(fpr,tpr)\n",
    "    # Plot ROC curve for this fold\n",
    "    plt.plot(fpr, tpr, label=f'Fold {fold+1} (AUC = {roc_auc:.2f})')\n",
    "        \n",
    "    for f, t in zip(fpr, tpr):\n",
    "        roc_data.append({'Fold': fold + 1, 'FPR': f, 'TPR': t})\n",
    "\n",
    "# Plot settings\n",
    "plt.plot([0, 1], [0, 1], 'k--')\n",
    "plt.xlim([0.0, 1.0])\n",
    "plt.ylim([0.0, 1.05])\n",
    "plt.xlabel('False Positive Rate')\n",
    "plt.ylabel('True Positive Rate')\n",
    "plt.title('ROC Curve for Each Fold')\n",
    "plt.legend(loc='lower right')\n",
    "\n",
    "# Show the plot\n",
    "plt.show()\n",
    "\n",
    "\n",
    "# Convert the list of dicts to a DataFrame\n",
    "roc_df = pd.DataFrame(roc_data)\n",
    "\n",
    "# Save to CSV for R use\n",
    "roc_df.to_csv(\"/home/workspace/jogrady/ML4TB/work/merged/Temp_files/GBM_CV_ROC_Results.txt\", sep = \"\\t\", index=False)\n",
    "\n",
    "# Optionally, print the best parameters found\n",
    "print(\"Best Parameters found: \", gbm_cv_model.best_params_)"
   ]
  },
  {
   "cell_type": "code",
   "execution_count": 14,
   "metadata": {},
   "outputs": [
    {
     "data": {
      "text/plain": [
       "<matplotlib.legend.Legend at 0x7f13c783a580>"
      ]
     },
     "execution_count": 14,
     "metadata": {},
     "output_type": "execute_result"
    },
    {
     "data": {
      "image/png": "[encoded data removed]",
      "text/plain": [
       "<Figure size 640x480 with 1 Axes>"
      ]
     },
     "metadata": {},
     "output_type": "display_data"
    }
   ],
   "source": [
    "# predict continuous value\n",
    "# For different decision thresholds\n",
    "y_score_gene = gbm_cv_model.predict_proba(test_data)\n",
    "fprG_gene, tprG_gene, t_gene = roc_curve(test_labels.ravel(), y_score_gene[:,1])\n",
    "roc_aucG_gene = auc(fprG_gene, tprG_gene)\n",
    "plt.figure()\n",
    "lw = 2\n",
    "plt.plot(fprG_gene, tprG_gene, color='red',\n",
    "         lw=lw, label='ROC Gene (area = %0.3f)' % roc_aucG_gene)\n",
    "plt.plot([0, 1], [0, 1], color='black', lw=lw, linestyle='--')\n",
    "plt.xlim([0.0, 1.0])\n",
    "plt.ylim([0.0, 1.0])\n",
    "plt.xlabel('False Positive Rate')\n",
    "plt.ylabel('True Positive Rate')\n",
    "plt.title('ROC Analysis Different models')\n",
    "plt.legend(loc=\"lower right\")"
   ]
  },
  {
   "cell_type": "markdown",
   "metadata": {},
   "source": [
    "# NN"
   ]
  },
  {
   "cell_type": "code",
   "execution_count": null,
   "metadata": {},
   "outputs": [
    {
     "name": "stdout",
     "output_type": "stream",
     "text": [
      "Fitting 5 folds for each of 840 candidates, totalling 4200 fits\n",
      "[CV 4/5] END activation=logistic, alpha=0.1, hidden_layer_sizes=(32, 16, 8), learning_rate_init=0.0001, max_iter=1000, n_iter_no_change=50, shuffle=False, solver=sgd, tol=0.0001;, score=0.292 total time=   0.3s\n",
      "[CV 4/5] END activation=logistic, alpha=0.1, hidden_layer_sizes=(64, 16, 8), learning_rate_init=0.0001, max_iter=1000, n_iter_no_change=50, shuffle=False, solver=sgd, tol=0.0001;, score=0.663 total time=   0.1s\n",
      "[CV 3/5] END activation=logistic, alpha=0.1, hidden_layer_sizes=(32, 16, 8), learning_rate_init=0.0001, max_iter=1000, n_iter_no_change=50, shuffle=False, solver=sgd, tol=0.0001;, score=0.375 total time=   0.1s\n",
      "[CV 1/5] END activation=logistic, alpha=0.1, hidden_layer_sizes=(64, 16, 8), learning_rate_init=0.0001, max_iter=1000, n_iter_no_change=50, shuffle=False, solver=sgd, tol=0.0001;, score=0.454 total time=   0.2s\n",
      "[CV 5/5] END activation=logistic, alpha=0.1, hidden_layer_sizes=(32, 16, 8), learning_rate_init=0.0001, max_iter=1000, n_iter_no_change=50, shuffle=False, solver=sgd, tol=0.0001;, score=0.615 total time=   0.1s\n",
      "[CV 5/5] END activation=logistic, alpha=0.1, hidden_layer_sizes=(32, 16, 8), learning_rate_init=0.0001, max_iter=1000, n_iter_no_change=50, shuffle=False, solver=adam, tol=0.0001;, score=0.872 total time=   0.4s\n",
      "[CV 4/5] END activation=logistic, alpha=0.1, hidden_layer_sizes=(64, 16, 8), learning_rate_init=0.0001, max_iter=1000, n_iter_no_change=50, shuffle=False, solver=adam, tol=0.0001;, score=0.946 total time=   0.3s\n",
      "[CV 2/5] END activation=logistic, alpha=0.1, hidden_layer_sizes=(64, 16, 8), learning_rate_init=0.0001, max_iter=1000, n_iter_no_change=50, shuffle=False, solver=adam, tol=0.0001;, score=0.833 total time=   0.5s\n",
      "[CV 2/5] END activation=logistic, alpha=0.1, hidden_layer_sizes=(32, 16, 8), learning_rate_init=0.0001, max_iter=1000, n_iter_no_change=50, shuffle=False, solver=sgd, tol=0.0001;, score=0.666 total time=   0.2s\n",
      "[CV 1/5] END activation=logistic, alpha=0.1, hidden_layer_sizes=(32, 16, 8), learning_rate_init=0.0001, max_iter=1000, n_iter_no_change=50, shuffle=False, solver=sgd, tol=0.0001;, score=0.432 total time=   0.2s\n",
      "[CV 1/5] END activation=logistic, alpha=0.1, hidden_layer_sizes=(64, 16, 8), learning_rate_init=0.0001, max_iter=1000, n_iter_no_change=50, shuffle=False, solver=adam, tol=0.0001;, score=0.857 total time=   0.5s\n",
      "[CV 1/5] END activation=logistic, alpha=0.1, hidden_layer_sizes=(128, 32, 8), learning_rate_init=0.0001, max_iter=1000, n_iter_no_change=50, shuffle=False, solver=sgd, tol=0.0001;, score=0.354 total time=   0.5s\n",
      "[CV 3/5] END activation=logistic, alpha=0.1, hidden_layer_sizes=(32, 16, 8), learning_rate_init=0.0001, max_iter=1000, n_iter_no_change=50, shuffle=False, solver=adam, tol=0.0001;, score=0.594 total time=   0.8s\n",
      "[CV 3/5] END activation=logistic, alpha=0.1, hidden_layer_sizes=(64, 16, 8), learning_rate_init=0.0001, max_iter=1000, n_iter_no_change=50, shuffle=False, solver=sgd, tol=0.0001;, score=0.617 total time=   0.3s\n",
      "[CV 2/5] END activation=logistic, alpha=0.1, hidden_layer_sizes=(128, 32, 8), learning_rate_init=0.0001, max_iter=1000, n_iter_no_change=50, shuffle=False, solver=sgd, tol=0.0001;, score=0.387 total time=   0.6s\n",
      "[CV 5/5] END activation=logistic, alpha=0.1, hidden_layer_sizes=(64, 16, 8), learning_rate_init=0.0001, max_iter=1000, n_iter_no_change=50, shuffle=False, solver=sgd, tol=0.0001;, score=0.474 total time=   0.5s\n",
      "[CV 2/5] END activation=logistic, alpha=0.1, hidden_layer_sizes=(64, 16, 8), learning_rate_init=0.0001, max_iter=1000, n_iter_no_change=50, shuffle=False, solver=sgd, tol=0.0001;, score=0.601 total time=   0.4s\n",
      "[CV 3/5] END activation=logistic, alpha=0.1, hidden_layer_sizes=(64, 16, 8), learning_rate_init=0.0001, max_iter=1000, n_iter_no_change=50, shuffle=False, solver=adam, tol=0.0001;, score=0.844 total time=   0.4s\n",
      "[CV 5/5] END activation=logistic, alpha=0.1, hidden_layer_sizes=(64, 16, 8), learning_rate_init=0.0001, max_iter=1000, n_iter_no_change=50, shuffle=False, solver=adam, tol=0.0001;, score=0.897 total time=   0.6s\n",
      "[CV 2/5] END activation=logistic, alpha=0.1, hidden_layer_sizes=(32, 16, 8), learning_rate_init=0.0001, max_iter=1000, n_iter_no_change=50, shuffle=False, solver=adam, tol=0.0001;, score=0.746 total time=   1.0s\n",
      "[CV 1/5] END activation=logistic, alpha=0.1, hidden_layer_sizes=(32, 16, 8), learning_rate_init=0.0001, max_iter=1000, n_iter_no_change=50, shuffle=False, solver=adam, tol=0.0001;, score=0.718 total time=   1.3s\n",
      "[CV 4/5] END activation=logistic, alpha=0.1, hidden_layer_sizes=(128, 32, 8), learning_rate_init=0.0001, max_iter=1000, n_iter_no_change=50, shuffle=False, solver=sgd, tol=0.0001;, score=0.258 total time=   0.8s\n",
      "[CV 5/5] END activation=logistic, alpha=0.1, hidden_layer_sizes=(128, 32, 8), learning_rate_init=0.0001, max_iter=1000, n_iter_no_change=50, shuffle=False, solver=sgd, tol=0.0001;, score=0.314 total time=   0.6s\n",
      "[CV 3/5] END activation=logistic, alpha=0.1, hidden_layer_sizes=(128, 32, 8), learning_rate_init=0.0001, max_iter=1000, n_iter_no_change=50, shuffle=False, solver=sgd, tol=0.0001;, score=0.402 total time=   0.9s\n",
      "[CV 1/5] END activation=logistic, alpha=0.1, hidden_layer_sizes=(64, 32, 8), learning_rate_init=0.0001, max_iter=1000, n_iter_no_change=50, shuffle=False, solver=sgd, tol=0.0001;, score=0.414 total time=   1.7s\n",
      "[CV 4/5] END activation=logistic, alpha=0.1, hidden_layer_sizes=(64, 32, 16), learning_rate_init=0.0001, max_iter=1000, n_iter_no_change=50, shuffle=False, solver=sgd, tol=0.0001;, score=0.608 total time=   1.9s\n",
      "[CV 2/5] END activation=logistic, alpha=0.1, hidden_layer_sizes=(128, 32, 16), learning_rate_init=0.0001, max_iter=1000, n_iter_no_change=50, shuffle=False, solver=sgd, tol=0.0001;, score=0.282 total time=   0.4s\n",
      "[CV 4/5] END activation=logistic, alpha=0.1, hidden_layer_sizes=(64, 32, 8), learning_rate_init=0.0001, max_iter=1000, n_iter_no_change=50, shuffle=False, solver=sgd, tol=0.0001;, score=0.821 total time=   1.1s\n",
      "[CV 4/5] END activation=logistic, alpha=0.1, hidden_layer_sizes=(64, 32, 16), learning_rate_init=0.0001, max_iter=1000, n_iter_no_change=50, shuffle=False, solver=adam, tol=0.0001;, score=0.538 total time=   2.0s\n",
      "[CV 4/5] END activation=logistic, alpha=0.1, hidden_layer_sizes=(64, 32, 8), learning_rate_init=0.0001, max_iter=1000, n_iter_no_change=50, shuffle=False, solver=adam, tol=0.0001;, score=0.417 total time=   1.8s\n",
      "[CV 4/5] END activation=logistic, alpha=0.1, hidden_layer_sizes=(32, 16, 8), learning_rate_init=0.0001, max_iter=1000, n_iter_no_change=50, shuffle=False, solver=adam, tol=0.0001;, score=0.567 total time=   1.3s\n",
      "[CV 1/5] END activation=logistic, alpha=0.1, hidden_layer_sizes=(128, 32, 16), learning_rate_init=0.0001, max_iter=1000, n_iter_no_change=50, shuffle=False, solver=sgd, tol=0.0001;, score=0.189 total time=   0.8s\n",
      "[CV 3/5] END activation=logistic, alpha=0.1, hidden_layer_sizes=(128, 32, 16), learning_rate_init=0.0001, max_iter=1000, n_iter_no_change=50, shuffle=False, solver=sgd, tol=0.0001;, score=0.242 total time=   0.8s\n",
      "[CV 4/5] END activation=logistic, alpha=0.1, hidden_layer_sizes=(128, 32, 16), learning_rate_init=0.0001, max_iter=1000, n_iter_no_change=50, shuffle=False, solver=sgd, tol=0.0001;, score=0.304 total time=   0.7s\n",
      "[CV 5/5] END activation=logistic, alpha=0.1, hidden_layer_sizes=(128, 32, 16), learning_rate_init=0.0001, max_iter=1000, n_iter_no_change=50, shuffle=False, solver=sgd, tol=0.0001;, score=0.212 total time=   0.6s\n",
      "[CV 2/5] END activation=logistic, alpha=0.1, hidden_layer_sizes=(128, 64, 8), learning_rate_init=0.0001, max_iter=1000, n_iter_no_change=50, shuffle=False, solver=sgd, tol=0.0001;, score=0.464 total time=   0.4s\n",
      "[CV 3/5] END activation=logistic, alpha=0.1, hidden_layer_sizes=(128, 64, 8), learning_rate_init=0.0001, max_iter=1000, n_iter_no_change=50, shuffle=False, solver=sgd, tol=0.0001;, score=0.652 total time=   0.4s\n",
      "[CV 1/5] END activation=logistic, alpha=0.1, hidden_layer_sizes=(128, 64, 8), learning_rate_init=0.0001, max_iter=1000, n_iter_no_change=50, shuffle=False, solver=sgd, tol=0.0001;, score=0.554 total time=   0.6s\n",
      "[CV 1/5] END activation=logistic, alpha=0.1, hidden_layer_sizes=(64, 32, 8), learning_rate_init=0.0001, max_iter=1000, n_iter_no_change=50, shuffle=False, solver=adam, tol=0.0001;, score=0.457 total time=   2.4s\n",
      "[CV 2/5] END activation=logistic, alpha=0.1, hidden_layer_sizes=(64, 32, 16), learning_rate_init=0.0001, max_iter=1000, n_iter_no_change=50, shuffle=False, solver=adam, tol=0.0001;, score=0.474 total time=   2.0s\n",
      "[CV 3/5] END activation=logistic, alpha=0.1, hidden_layer_sizes=(64, 32, 16), learning_rate_init=0.0001, max_iter=1000, n_iter_no_change=50, shuffle=False, solver=adam, tol=0.0001;, score=0.578 total time=   2.3s\n",
      "[CV 1/5] END activation=logistic, alpha=0.1, hidden_layer_sizes=(128, 64, 16), learning_rate_init=0.0001, max_iter=1000, n_iter_no_change=50, shuffle=False, solver=sgd, tol=0.0001;, score=0.782 total time=   0.4s\n",
      "[CV 5/5] END activation=logistic, alpha=0.1, hidden_layer_sizes=(128, 64, 8), learning_rate_init=0.0001, max_iter=1000, n_iter_no_change=50, shuffle=False, solver=sgd, tol=0.0001;, score=0.519 total time=   0.6s\n",
      "[CV 2/5] END activation=logistic, alpha=0.1, hidden_layer_sizes=(64, 32, 8), learning_rate_init=0.0001, max_iter=1000, n_iter_no_change=50, shuffle=False, solver=sgd, tol=0.0001;, score=0.697 total time=   2.2s\n",
      "[CV 5/5] END activation=logistic, alpha=0.1, hidden_layer_sizes=(64, 32, 8), learning_rate_init=0.0001, max_iter=1000, n_iter_no_change=50, shuffle=False, solver=sgd, tol=0.0001;, score=0.545 total time=   3.0s\n",
      "[CV 2/5] END activation=logistic, alpha=0.1, hidden_layer_sizes=(128, 64, 16), learning_rate_init=0.0001, max_iter=1000, n_iter_no_change=50, shuffle=False, solver=sgd, tol=0.0001;, score=0.619 total time=   0.5s\n",
      "[CV 4/5] END activation=logistic, alpha=0.1, hidden_layer_sizes=(128, 16, 8), learning_rate_init=0.0001, max_iter=1000, n_iter_no_change=50, shuffle=False, solver=adam, tol=0.0001;, score=0.367 total time=   2.7s\n",
      "[CV 2/5] END activation=logistic, alpha=0.1, hidden_layer_sizes=(64, 32, 16), learning_rate_init=0.0001, max_iter=1000, n_iter_no_change=50, shuffle=False, solver=sgd, tol=0.0001;, score=0.523 total time=   3.3s\n",
      "[CV 4/5] END activation=logistic, alpha=0.1, hidden_layer_sizes=(128, 64, 16), learning_rate_init=0.0001, max_iter=1000, n_iter_no_change=50, shuffle=False, solver=sgd, tol=0.0001;, score=0.600 total time=   0.4s\n",
      "[CV 4/5] END activation=logistic, alpha=0.1, hidden_layer_sizes=(128, 64, 8), learning_rate_init=0.0001, max_iter=1000, n_iter_no_change=50, shuffle=False, solver=sgd, tol=0.0001;, score=0.588 total time=   1.0s\n",
      "[CV 5/5] END activation=logistic, alpha=0.1, hidden_layer_sizes=(128, 64, 16), learning_rate_init=0.0001, max_iter=1000, n_iter_no_change=50, shuffle=False, solver=sgd, tol=0.0001;, score=0.782 total time=   0.4s\n",
      "[CV 1/5] END activation=logistic, alpha=0.1, hidden_layer_sizes=(64, 32, 16), learning_rate_init=0.0001, max_iter=1000, n_iter_no_change=50, shuffle=False, solver=adam, tol=0.0001;, score=0.604 total time=   3.2s\n",
      "[CV 5/5] END activation=logistic, alpha=0.1, hidden_layer_sizes=(64, 32, 16), learning_rate_init=0.0001, max_iter=1000, n_iter_no_change=50, shuffle=False, solver=sgd, tol=0.0001;, score=0.558 total time=   3.6s\n",
      "[CV 1/5] END activation=logistic, alpha=0.1, hidden_layer_sizes=(64, 32, 16), learning_rate_init=0.0001, max_iter=1000, n_iter_no_change=50, shuffle=False, solver=sgd, tol=0.0001;, score=0.754 total time=   3.8s\n",
      "[CV 4/5] END activation=logistic, alpha=0.1, hidden_layer_sizes=(128, 32, 8), learning_rate_init=0.0001, max_iter=1000, n_iter_no_change=50, shuffle=False, solver=adam, tol=0.0001;, score=0.962 total time=   3.5s\n",
      "[CV 3/5] END activation=logistic, alpha=0.1, hidden_layer_sizes=(128, 64, 16), learning_rate_init=0.0001, max_iter=1000, n_iter_no_change=50, shuffle=False, solver=sgd, tol=0.0001;, score=0.508 total time=   1.4s\n",
      "[CV 3/5] END activation=logistic, alpha=0.1, hidden_layer_sizes=(128, 16, 8), learning_rate_init=0.0001, max_iter=1000, n_iter_no_change=50, shuffle=False, solver=sgd, tol=0.0001;, score=0.848 total time=   3.7s\n",
      "[CV 3/5] END activation=logistic, alpha=0.1, hidden_layer_sizes=(64, 32, 8), learning_rate_init=0.0001, max_iter=1000, n_iter_no_change=50, shuffle=False, solver=sgd, tol=0.0001;, score=0.715 total time=   3.3s\n",
      "[CV 2/5] END activation=logistic, alpha=0.1, hidden_layer_sizes=(64, 32, 8), learning_rate_init=0.0001, max_iter=1000, n_iter_no_change=50, shuffle=False, solver=adam, tol=0.0001;, score=0.415 total time=   4.2s\n",
      "[CV 3/5] END activation=logistic, alpha=0.1, hidden_layer_sizes=(64, 32, 16), learning_rate_init=0.0001, max_iter=1000, n_iter_no_change=50, shuffle=False, solver=sgd, tol=0.0001;, score=0.457 total time=   4.3s\n",
      "[CV 2/5] END activation=logistic, alpha=0.1, hidden_layer_sizes=(128, 16, 8), learning_rate_init=0.0001, max_iter=1000, n_iter_no_change=50, shuffle=False, solver=sgd, tol=0.0001;, score=0.811 total time=   3.6s\n",
      "[CV 5/5] END activation=logistic, alpha=0.1, hidden_layer_sizes=(64, 32, 16), learning_rate_init=0.0001, max_iter=1000, n_iter_no_change=50, shuffle=False, solver=adam, tol=0.0001;, score=0.436 total time=   4.4s\n",
      "[CV 5/5] END activation=logistic, alpha=0.1, hidden_layer_sizes=(64, 32, 8), learning_rate_init=0.0001, max_iter=1000, n_iter_no_change=50, shuffle=False, solver=adam, tol=0.0001;, score=0.372 total time=   4.0s\n",
      "[CV 1/5] END activation=logistic, alpha=0.1, hidden_layer_sizes=(128, 16, 8), learning_rate_init=0.0001, max_iter=1000, n_iter_no_change=50, shuffle=False, solver=sgd, tol=0.0001;, score=0.836 total time=   4.7s\n",
      "[CV 2/5] END activation=logistic, alpha=0.1, hidden_layer_sizes=(256, 16, 8), learning_rate_init=0.0001, max_iter=1000, n_iter_no_change=50, shuffle=False, solver=sgd, tol=0.0001;, score=0.690 total time=   0.9s\n",
      "[CV 1/5] END activation=logistic, alpha=0.1, hidden_layer_sizes=(128, 64, 32), learning_rate_init=0.0001, max_iter=1000, n_iter_no_change=50, shuffle=False, solver=sgd, tol=0.0001;, score=0.361 total time=   2.3s\n",
      "[CV 4/5] END activation=logistic, alpha=0.1, hidden_layer_sizes=(128, 64, 32), learning_rate_init=0.0001, max_iter=1000, n_iter_no_change=50, shuffle=False, solver=sgd, tol=0.0001;, score=0.258 total time=   2.2s\n",
      "[CV 4/5] END activation=logistic, alpha=0.1, hidden_layer_sizes=(128, 16, 8), learning_rate_init=0.0001, max_iter=1000, n_iter_no_change=50, shuffle=False, solver=sgd, tol=0.0001;, score=0.837 total time=   4.9s\n",
      "[CV 5/5] END activation=logistic, alpha=0.1, hidden_layer_sizes=(128, 16, 8), learning_rate_init=0.0001, max_iter=1000, n_iter_no_change=50, shuffle=False, solver=adam, tol=0.0001;, score=0.391 total time=   5.5s\n",
      "[CV 2/5] END activation=logistic, alpha=0.1, hidden_layer_sizes=(128, 64, 32), learning_rate_init=0.0001, max_iter=1000, n_iter_no_change=50, shuffle=False, solver=sgd, tol=0.0001;, score=0.300 total time=   2.7s\n",
      "[CV 3/5] END activation=logistic, alpha=0.1, hidden_layer_sizes=(256, 16, 8), learning_rate_init=0.0001, max_iter=1000, n_iter_no_change=50, shuffle=False, solver=sgd, tol=0.0001;, score=0.660 total time=   1.6s\n",
      "[CV 1/5] END activation=logistic, alpha=0.1, hidden_layer_sizes=(128, 16, 8), learning_rate_init=0.0001, max_iter=1000, n_iter_no_change=50, shuffle=False, solver=adam, tol=0.0001;, score=0.439 total time=   5.7s\n",
      "[CV 4/5] END activation=logistic, alpha=0.1, hidden_layer_sizes=(256, 16, 8), learning_rate_init=0.0001, max_iter=1000, n_iter_no_change=50, shuffle=False, solver=sgd, tol=0.0001;, score=0.775 total time=   1.6s\n",
      "[CV 3/5] END activation=logistic, alpha=0.1, hidden_layer_sizes=(64, 32, 8), learning_rate_init=0.0001, max_iter=1000, n_iter_no_change=50, shuffle=False, solver=adam, tol=0.0001;, score=0.652 total time=   5.4s\n",
      "[CV 1/5] END activation=logistic, alpha=0.1, hidden_layer_sizes=(256, 16, 8), learning_rate_init=0.0001, max_iter=1000, n_iter_no_change=50, shuffle=False, solver=sgd, tol=0.0001;, score=0.743 total time=   2.2s\n",
      "[CV 5/5] END activation=logistic, alpha=0.1, hidden_layer_sizes=(256, 16, 8), learning_rate_init=0.0001, max_iter=1000, n_iter_no_change=50, shuffle=False, solver=sgd, tol=0.0001;, score=0.865 total time=   1.6s\n",
      "[CV 1/5] END activation=logistic, alpha=0.1, hidden_layer_sizes=(256, 32, 8), learning_rate_init=0.0001, max_iter=1000, n_iter_no_change=50, shuffle=False, solver=sgd, tol=0.0001;, score=0.307 total time=   1.0s\n",
      "[CV 2/5] END activation=logistic, alpha=0.1, hidden_layer_sizes=(256, 32, 8), learning_rate_init=0.0001, max_iter=1000, n_iter_no_change=50, shuffle=False, solver=sgd, tol=0.0001;, score=0.325 total time=   1.0s\n",
      "[CV 3/5] END activation=logistic, alpha=0.1, hidden_layer_sizes=(256, 32, 8), learning_rate_init=0.0001, max_iter=1000, n_iter_no_change=50, shuffle=False, solver=sgd, tol=0.0001;, score=0.328 total time=   1.1s\n",
      "[CV 2/5] END activation=logistic, alpha=0.1, hidden_layer_sizes=(128, 16, 8), learning_rate_init=0.0001, max_iter=1000, n_iter_no_change=50, shuffle=False, solver=adam, tol=0.0001;, score=0.412 total time=   6.8s\n",
      "[CV 5/5] END activation=logistic, alpha=0.1, hidden_layer_sizes=(256, 32, 8), learning_rate_init=0.0001, max_iter=1000, n_iter_no_change=50, shuffle=False, solver=sgd, tol=0.0001;, score=0.500 total time=   1.8s\n",
      "[CV 3/5] END activation=logistic, alpha=0.1, hidden_layer_sizes=(128, 16, 8), learning_rate_init=0.0001, max_iter=1000, n_iter_no_change=50, shuffle=False, solver=adam, tol=0.0001;, score=0.637 total time=   8.0s\n",
      "[CV 4/5] END activation=logistic, alpha=0.1, hidden_layer_sizes=(256, 32, 16), learning_rate_init=0.0001, max_iter=1000, n_iter_no_change=50, shuffle=False, solver=sgd, tol=0.0001;, score=0.771 total time=   1.1s\n",
      "[CV 4/5] END activation=logistic, alpha=0.1, hidden_layer_sizes=(256, 32, 8), learning_rate_init=0.0001, max_iter=1000, n_iter_no_change=50, shuffle=False, solver=sgd, tol=0.0001;, score=0.458 total time=   2.4s\n",
      "[CV 3/5] END activation=logistic, alpha=0.1, hidden_layer_sizes=(128, 64, 32), learning_rate_init=0.0001, max_iter=1000, n_iter_no_change=50, shuffle=False, solver=sgd, tol=0.0001;, score=0.457 total time=   5.3s\n",
      "[CV 1/5] END activation=logistic, alpha=0.1, hidden_layer_sizes=(256, 32, 16), learning_rate_init=0.0001, max_iter=1000, n_iter_no_change=50, shuffle=False, solver=sgd, tol=0.0001;, score=0.432 total time=   2.5s\n",
      "[CV 5/5] END activation=logistic, alpha=0.1, hidden_layer_sizes=(128, 16, 8), learning_rate_init=0.0001, max_iter=1000, n_iter_no_change=50, shuffle=False, solver=sgd, tol=0.0001;, score=0.872 total time=   8.8s\n"
     ]
    },
    {
     "name": "stderr",
     "output_type": "stream",
     "text": [
      "/home/workspace/jogrady/env/lib/python3.9/site-packages/sklearn/neural_network/_multilayer_perceptron.py:690: ConvergenceWarning: Stochastic Optimizer: Maximum iterations (1000) reached and the optimization hasn't converged yet.\n",
      "  warnings.warn(\n"
     ]
    },
    {
     "name": "stdout",
     "output_type": "stream",
     "text": [
      "[CV 3/5] END activation=logistic, alpha=0.1, hidden_layer_sizes=(128, 32, 8), learning_rate_init=0.0001, max_iter=1000, n_iter_no_change=50, shuffle=False, solver=adam, tol=0.0001;, score=0.875 total time=   9.4s\n",
      "[CV 1/5] END activation=logistic, alpha=0.1, hidden_layer_sizes=(256, 64, 8), learning_rate_init=0.0001, max_iter=1000, n_iter_no_change=50, shuffle=False, solver=sgd, tol=0.0001;, score=0.171 total time=   1.2s\n",
      "[CV 5/5] END activation=logistic, alpha=0.1, hidden_layer_sizes=(128, 64, 32), learning_rate_init=0.0001, max_iter=1000, n_iter_no_change=50, shuffle=False, solver=sgd, tol=0.0001;, score=0.141 total time=   7.5s\n",
      "[CV 4/5] END activation=logistic, alpha=0.1, hidden_layer_sizes=(256, 64, 8), learning_rate_init=0.0001, max_iter=1000, n_iter_no_change=50, shuffle=False, solver=sgd, tol=0.0001;, score=0.483 total time=   1.2s\n",
      "[CV 3/5] END activation=logistic, alpha=0.1, hidden_layer_sizes=(256, 64, 8), learning_rate_init=0.0001, max_iter=1000, n_iter_no_change=50, shuffle=False, solver=sgd, tol=0.0001;, score=0.410 total time=   3.1s\n",
      "[CV 5/5] END activation=logistic, alpha=0.1, hidden_layer_sizes=(256, 32, 16), learning_rate_init=0.0001, max_iter=1000, n_iter_no_change=50, shuffle=False, solver=sgd, tol=0.0001;, score=0.763 total time=   5.9s\n",
      "[CV 5/5] END activation=logistic, alpha=0.1, hidden_layer_sizes=(256, 64, 8), learning_rate_init=0.0001, max_iter=1000, n_iter_no_change=50, shuffle=False, solver=sgd, tol=0.0001;, score=0.179 total time=   2.5s\n",
      "[CV 1/5] END activation=logistic, alpha=0.1, hidden_layer_sizes=(128, 64, 32), learning_rate_init=0.0001, max_iter=1000, n_iter_no_change=50, shuffle=False, solver=adam, tol=0.0001;, score=0.925 total time=  10.6s\n",
      "[CV 2/5] END activation=logistic, alpha=0.1, hidden_layer_sizes=(256, 32, 16), learning_rate_init=0.0001, max_iter=1000, n_iter_no_change=50, shuffle=False, solver=sgd, tol=0.0001;, score=0.653 total time=   7.0s\n"
     ]
    },
    {
     "name": "stderr",
     "output_type": "stream",
     "text": [
      "/home/workspace/jogrady/env/lib/python3.9/site-packages/sklearn/neural_network/_multilayer_perceptron.py:690: ConvergenceWarning: Stochastic Optimizer: Maximum iterations (1000) reached and the optimization hasn't converged yet.\n",
      "  warnings.warn(\n",
      "/home/workspace/jogrady/env/lib/python3.9/site-packages/sklearn/neural_network/_multilayer_perceptron.py:690: ConvergenceWarning: Stochastic Optimizer: Maximum iterations (1000) reached and the optimization hasn't converged yet.\n",
      "  warnings.warn(\n",
      "/home/workspace/jogrady/env/lib/python3.9/site-packages/sklearn/neural_network/_multilayer_perceptron.py:690: ConvergenceWarning: Stochastic Optimizer: Maximum iterations (1000) reached and the optimization hasn't converged yet.\n",
      "  warnings.warn(\n"
     ]
    },
    {
     "name": "stdout",
     "output_type": "stream",
     "text": [
      "[CV 1/5] END activation=logistic, alpha=0.1, hidden_layer_sizes=(128, 64, 16), learning_rate_init=0.0001, max_iter=1000, n_iter_no_change=50, shuffle=False, solver=adam, tol=0.0001;, score=0.929 total time=  11.6s\n",
      "[CV 2/5] END activation=logistic, alpha=0.1, hidden_layer_sizes=(128, 64, 32), learning_rate_init=0.0001, max_iter=1000, n_iter_no_change=50, shuffle=False, solver=adam, tol=0.0001;, score=0.910 total time=  11.0s\n",
      "[CV 3/5] END activation=logistic, alpha=0.1, hidden_layer_sizes=(256, 32, 16), learning_rate_init=0.0001, max_iter=1000, n_iter_no_change=50, shuffle=False, solver=sgd, tol=0.0001;, score=0.645 total time=   7.8s\n",
      "[CV 5/5] END activation=logistic, alpha=0.1, hidden_layer_sizes=(128, 64, 32), learning_rate_init=0.0001, max_iter=1000, n_iter_no_change=50, shuffle=False, solver=adam, tol=0.0001;, score=0.917 total time=  11.2s\n",
      "[CV 2/5] END activation=logistic, alpha=0.1, hidden_layer_sizes=(256, 64, 8), learning_rate_init=0.0001, max_iter=1000, n_iter_no_change=50, shuffle=False, solver=sgd, tol=0.0001;, score=0.254 total time=   4.7s\n"
     ]
    },
    {
     "name": "stderr",
     "output_type": "stream",
     "text": [
      "/home/workspace/jogrady/env/lib/python3.9/site-packages/sklearn/neural_network/_multilayer_perceptron.py:690: ConvergenceWarning: Stochastic Optimizer: Maximum iterations (1000) reached and the optimization hasn't converged yet.\n",
      "  warnings.warn(\n",
      "/home/workspace/jogrady/env/lib/python3.9/site-packages/sklearn/neural_network/_multilayer_perceptron.py:690: ConvergenceWarning: Stochastic Optimizer: Maximum iterations (1000) reached and the optimization hasn't converged yet.\n",
      "  warnings.warn(\n"
     ]
    },
    {
     "name": "stdout",
     "output_type": "stream",
     "text": [
      "[CV 1/5] END activation=logistic, alpha=0.1, hidden_layer_sizes=(128, 32, 8), learning_rate_init=0.0001, max_iter=1000, n_iter_no_change=50, shuffle=False, solver=adam, tol=0.0001;, score=0.925 total time=  14.9s\n"
     ]
    },
    {
     "name": "stderr",
     "output_type": "stream",
     "text": [
      "/home/workspace/jogrady/env/lib/python3.9/site-packages/sklearn/neural_network/_multilayer_perceptron.py:690: ConvergenceWarning: Stochastic Optimizer: Maximum iterations (1000) reached and the optimization hasn't converged yet.\n",
      "  warnings.warn(\n"
     ]
    },
    {
     "name": "stdout",
     "output_type": "stream",
     "text": [
      "[CV 5/5] END activation=logistic, alpha=0.1, hidden_layer_sizes=(128, 32, 16), learning_rate_init=0.0001, max_iter=1000, n_iter_no_change=50, shuffle=False, solver=adam, tol=0.0001;, score=0.923 total time=  14.1s\n"
     ]
    },
    {
     "name": "stderr",
     "output_type": "stream",
     "text": [
      "/home/workspace/jogrady/env/lib/python3.9/site-packages/sklearn/neural_network/_multilayer_perceptron.py:690: ConvergenceWarning: Stochastic Optimizer: Maximum iterations (1000) reached and the optimization hasn't converged yet.\n",
      "  warnings.warn(\n"
     ]
    },
    {
     "name": "stdout",
     "output_type": "stream",
     "text": [
      "[CV 2/5] END activation=logistic, alpha=0.1, hidden_layer_sizes=(128, 32, 8), learning_rate_init=0.0001, max_iter=1000, n_iter_no_change=50, shuffle=False, solver=adam, tol=0.0001;, score=0.907 total time=  15.5s\n"
     ]
    },
    {
     "name": "stderr",
     "output_type": "stream",
     "text": [
      "/home/workspace/jogrady/env/lib/python3.9/site-packages/sklearn/neural_network/_multilayer_perceptron.py:690: ConvergenceWarning: Stochastic Optimizer: Maximum iterations (1000) reached and the optimization hasn't converged yet.\n",
      "  warnings.warn(\n"
     ]
    },
    {
     "name": "stdout",
     "output_type": "stream",
     "text": [
      "[CV 5/5] END activation=logistic, alpha=0.1, hidden_layer_sizes=(128, 32, 8), learning_rate_init=0.0001, max_iter=1000, n_iter_no_change=50, shuffle=False, solver=adam, tol=0.0001;, score=0.923 total time=  16.0s\n"
     ]
    },
    {
     "name": "stderr",
     "output_type": "stream",
     "text": [
      "/home/workspace/jogrady/env/lib/python3.9/site-packages/sklearn/neural_network/_multilayer_perceptron.py:690: ConvergenceWarning: Stochastic Optimizer: Maximum iterations (1000) reached and the optimization hasn't converged yet.\n",
      "  warnings.warn(\n"
     ]
    },
    {
     "name": "stdout",
     "output_type": "stream",
     "text": [
      "[CV 1/5] END activation=logistic, alpha=0.1, hidden_layer_sizes=(128, 32, 16), learning_rate_init=0.0001, max_iter=1000, n_iter_no_change=50, shuffle=False, solver=adam, tol=0.0001;, score=0.925 total time=  15.8s\n",
      "[CV 2/5] END activation=logistic, alpha=0.1, hidden_layer_sizes=(256, 64, 8), learning_rate_init=0.0001, max_iter=1000, n_iter_no_change=50, shuffle=False, solver=adam, tol=0.0001;, score=0.830 total time=   9.1s\n",
      "[CV 5/5] END activation=logistic, alpha=0.1, hidden_layer_sizes=(256, 32, 16), learning_rate_init=0.0001, max_iter=1000, n_iter_no_change=50, shuffle=False, solver=adam, tol=0.0001;, score=0.929 total time=  11.0s\n"
     ]
    },
    {
     "name": "stderr",
     "output_type": "stream",
     "text": [
      "/home/workspace/jogrady/env/lib/python3.9/site-packages/sklearn/neural_network/_multilayer_perceptron.py:690: ConvergenceWarning: Stochastic Optimizer: Maximum iterations (1000) reached and the optimization hasn't converged yet.\n",
      "  warnings.warn(\n"
     ]
    },
    {
     "name": "stdout",
     "output_type": "stream",
     "text": [
      "[CV 2/5] END activation=logistic, alpha=0.1, hidden_layer_sizes=(128, 32, 16), learning_rate_init=0.0001, max_iter=1000, n_iter_no_change=50, shuffle=False, solver=adam, tol=0.0001;, score=0.910 total time=  16.7s\n"
     ]
    },
    {
     "name": "stderr",
     "output_type": "stream",
     "text": [
      "/home/workspace/jogrady/env/lib/python3.9/site-packages/sklearn/neural_network/_multilayer_perceptron.py:690: ConvergenceWarning: Stochastic Optimizer: Maximum iterations (1000) reached and the optimization hasn't converged yet.\n",
      "  warnings.warn(\n"
     ]
    },
    {
     "name": "stdout",
     "output_type": "stream",
     "text": [
      "[CV 4/5] END activation=logistic, alpha=0.1, hidden_layer_sizes=(128, 64, 16), learning_rate_init=0.0001, max_iter=1000, n_iter_no_change=50, shuffle=False, solver=adam, tol=0.0001;, score=0.950 total time=  16.4s\n"
     ]
    },
    {
     "name": "stderr",
     "output_type": "stream",
     "text": [
      "/home/workspace/jogrady/env/lib/python3.9/site-packages/sklearn/neural_network/_multilayer_perceptron.py:690: ConvergenceWarning: Stochastic Optimizer: Maximum iterations (1000) reached and the optimization hasn't converged yet.\n",
      "  warnings.warn(\n"
     ]
    },
    {
     "name": "stdout",
     "output_type": "stream",
     "text": [
      "[CV 3/5] END activation=logistic, alpha=0.1, hidden_layer_sizes=(128, 64, 8), learning_rate_init=0.0001, max_iter=1000, n_iter_no_change=50, shuffle=False, solver=adam, tol=0.0001;, score=0.871 total time=  17.4s\n"
     ]
    },
    {
     "name": "stderr",
     "output_type": "stream",
     "text": [
      "/home/workspace/jogrady/env/lib/python3.9/site-packages/sklearn/neural_network/_multilayer_perceptron.py:690: ConvergenceWarning: Stochastic Optimizer: Maximum iterations (1000) reached and the optimization hasn't converged yet.\n",
      "  warnings.warn(\n"
     ]
    },
    {
     "name": "stdout",
     "output_type": "stream",
     "text": [
      "[CV 2/5] END activation=logistic, alpha=0.1, hidden_layer_sizes=(128, 64, 16), learning_rate_init=0.0001, max_iter=1000, n_iter_no_change=50, shuffle=False, solver=adam, tol=0.0001;, score=0.913 total time=  18.1s\n",
      "[CV 5/5] END activation=logistic, alpha=0.1, hidden_layer_sizes=(256, 64, 8), learning_rate_init=0.0001, max_iter=1000, n_iter_no_change=50, shuffle=False, solver=adam, tol=0.0001;, score=0.917 total time=  12.3s\n"
     ]
    },
    {
     "name": "stderr",
     "output_type": "stream",
     "text": [
      "/home/workspace/jogrady/env/lib/python3.9/site-packages/sklearn/neural_network/_multilayer_perceptron.py:690: ConvergenceWarning: Stochastic Optimizer: Maximum iterations (1000) reached and the optimization hasn't converged yet.\n",
      "  warnings.warn(\n"
     ]
    },
    {
     "name": "stdout",
     "output_type": "stream",
     "text": [
      "[CV 4/5] END activation=logistic, alpha=0.1, hidden_layer_sizes=(128, 32, 16), learning_rate_init=0.0001, max_iter=1000, n_iter_no_change=50, shuffle=False, solver=adam, tol=0.0001;, score=0.950 total time=  19.9s\n",
      "[CV 1/5] END activation=logistic, alpha=0.1, hidden_layer_sizes=(256, 64, 16), learning_rate_init=0.0001, max_iter=1000, n_iter_no_change=50, shuffle=False, solver=adam, tol=0.0001;, score=0.882 total time=  10.2s\n"
     ]
    },
    {
     "name": "stderr",
     "output_type": "stream",
     "text": [
      "/home/workspace/jogrady/env/lib/python3.9/site-packages/sklearn/neural_network/_multilayer_perceptron.py:690: ConvergenceWarning: Stochastic Optimizer: Maximum iterations (1000) reached and the optimization hasn't converged yet.\n",
      "  warnings.warn(\n",
      "/home/workspace/jogrady/env/lib/python3.9/site-packages/sklearn/neural_network/_multilayer_perceptron.py:690: ConvergenceWarning: Stochastic Optimizer: Maximum iterations (1000) reached and the optimization hasn't converged yet.\n",
      "  warnings.warn(\n"
     ]
    },
    {
     "name": "stdout",
     "output_type": "stream",
     "text": [
      "[CV 3/5] END activation=logistic, alpha=0.1, hidden_layer_sizes=(128, 64, 32), learning_rate_init=0.0001, max_iter=1000, n_iter_no_change=50, shuffle=False, solver=adam, tol=0.0001;, score=0.875 total time=  18.8s\n",
      "[CV 3/5] END activation=logistic, alpha=0.1, hidden_layer_sizes=(128, 64, 16), learning_rate_init=0.0001, max_iter=1000, n_iter_no_change=50, shuffle=False, solver=adam, tol=0.0001;, score=0.875 total time=  19.5s\n",
      "[CV 1/5] END activation=logistic, alpha=0.1, hidden_layer_sizes=(256, 64, 8), learning_rate_init=0.0001, max_iter=1000, n_iter_no_change=50, shuffle=False, solver=adam, tol=0.0001;, score=0.861 total time=  14.1s\n"
     ]
    },
    {
     "name": "stderr",
     "output_type": "stream",
     "text": [
      "/home/workspace/jogrady/env/lib/python3.9/site-packages/sklearn/neural_network/_multilayer_perceptron.py:690: ConvergenceWarning: Stochastic Optimizer: Maximum iterations (1000) reached and the optimization hasn't converged yet.\n",
      "  warnings.warn(\n"
     ]
    },
    {
     "name": "stdout",
     "output_type": "stream",
     "text": [
      "[CV 4/5] END activation=logistic, alpha=0.1, hidden_layer_sizes=(128, 64, 32), learning_rate_init=0.0001, max_iter=1000, n_iter_no_change=50, shuffle=False, solver=adam, tol=0.0001;, score=0.954 total time=  19.1s\n",
      "[CV 3/5] END activation=logistic, alpha=0.1, hidden_layer_sizes=(256, 32, 16), learning_rate_init=0.0001, max_iter=1000, n_iter_no_change=50, shuffle=False, solver=adam, tol=0.0001;, score=0.785 total time=  17.2s\n",
      "[CV 2/5] END activation=logistic, alpha=0.1, hidden_layer_sizes=(256, 64, 16), learning_rate_init=0.0001, max_iter=1000, n_iter_no_change=50, shuffle=False, solver=adam, tol=0.0001;, score=0.771 total time=  10.9s\n",
      "[CV 1/5] END activation=logistic, alpha=0.1, hidden_layer_sizes=(256, 128, 8), learning_rate_init=0.0001, max_iter=1000, n_iter_no_change=50, shuffle=False, solver=sgd, tol=0.0001;, score=0.579 total time=   2.2s\n",
      "[CV 2/5] END activation=logistic, alpha=0.1, hidden_layer_sizes=(256, 128, 8), learning_rate_init=0.0001, max_iter=1000, n_iter_no_change=50, shuffle=False, solver=sgd, tol=0.0001;, score=0.545 total time=   2.1s\n",
      "[CV 4/5] END activation=logistic, alpha=0.1, hidden_layer_sizes=(256, 128, 8), learning_rate_init=0.0001, max_iter=1000, n_iter_no_change=50, shuffle=False, solver=sgd, tol=0.0001;, score=0.262 total time=   2.1s\n",
      "[CV 5/5] END activation=logistic, alpha=0.1, hidden_layer_sizes=(256, 64, 16), learning_rate_init=0.0001, max_iter=1000, n_iter_no_change=50, shuffle=False, solver=adam, tol=0.0001;, score=0.808 total time=  10.9s\n"
     ]
    },
    {
     "name": "stderr",
     "output_type": "stream",
     "text": [
      "/home/workspace/jogrady/env/lib/python3.9/site-packages/sklearn/neural_network/_multilayer_perceptron.py:690: ConvergenceWarning: Stochastic Optimizer: Maximum iterations (1000) reached and the optimization hasn't converged yet.\n",
      "  warnings.warn(\n"
     ]
    },
    {
     "name": "stdout",
     "output_type": "stream",
     "text": [
      "[CV 3/5] END activation=logistic, alpha=0.1, hidden_layer_sizes=(128, 32, 16), learning_rate_init=0.0001, max_iter=1000, n_iter_no_change=50, shuffle=False, solver=adam, tol=0.0001;, score=0.883 total time=  24.1s\n",
      "[CV 3/5] END activation=logistic, alpha=0.1, hidden_layer_sizes=(256, 128, 8), learning_rate_init=0.0001, max_iter=1000, n_iter_no_change=50, shuffle=False, solver=sgd, tol=0.0001;, score=0.336 total time=   4.1s\n",
      "[CV 2/5] END activation=logistic, alpha=0.1, hidden_layer_sizes=(128, 64, 8), learning_rate_init=0.0001, max_iter=1000, n_iter_no_change=50, shuffle=False, solver=adam, tol=0.0001;, score=0.910 total time=  24.4s\n"
     ]
    },
    {
     "name": "stderr",
     "output_type": "stream",
     "text": [
      "/home/workspace/jogrady/env/lib/python3.9/site-packages/sklearn/neural_network/_multilayer_perceptron.py:690: ConvergenceWarning: Stochastic Optimizer: Maximum iterations (1000) reached and the optimization hasn't converged yet.\n",
      "  warnings.warn(\n",
      "/home/workspace/jogrady/env/lib/python3.9/site-packages/sklearn/neural_network/_multilayer_perceptron.py:690: ConvergenceWarning: Stochastic Optimizer: Maximum iterations (1000) reached and the optimization hasn't converged yet.\n",
      "  warnings.warn(\n"
     ]
    },
    {
     "name": "stdout",
     "output_type": "stream",
     "text": [
      "[CV 5/5] END activation=logistic, alpha=0.1, hidden_layer_sizes=(256, 128, 8), learning_rate_init=0.0001, max_iter=1000, n_iter_no_change=50, shuffle=False, solver=sgd, tol=0.0001;, score=0.295 total time=   2.7s\n",
      "[CV 4/5] END activation=logistic, alpha=0.1, hidden_layer_sizes=(128, 64, 8), learning_rate_init=0.0001, max_iter=1000, n_iter_no_change=50, shuffle=False, solver=adam, tol=0.0001;, score=0.954 total time=  24.4s\n"
     ]
    },
    {
     "name": "stderr",
     "output_type": "stream",
     "text": [
      "/home/workspace/jogrady/env/lib/python3.9/site-packages/sklearn/neural_network/_multilayer_perceptron.py:690: ConvergenceWarning: Stochastic Optimizer: Maximum iterations (1000) reached and the optimization hasn't converged yet.\n",
      "  warnings.warn(\n",
      "/home/workspace/jogrady/env/lib/python3.9/site-packages/sklearn/neural_network/_multilayer_perceptron.py:690: ConvergenceWarning: Stochastic Optimizer: Maximum iterations (1000) reached and the optimization hasn't converged yet.\n",
      "  warnings.warn(\n"
     ]
    },
    {
     "name": "stdout",
     "output_type": "stream",
     "text": [
      "[CV 2/5] END activation=logistic, alpha=0.1, hidden_layer_sizes=(256, 64, 16), learning_rate_init=0.0001, max_iter=1000, n_iter_no_change=50, shuffle=False, solver=sgd, tol=0.0001;, score=0.731 total time=  13.2s\n",
      "[CV 1/5] END activation=logistic, alpha=0.1, hidden_layer_sizes=(128, 64, 8), learning_rate_init=0.0001, max_iter=1000, n_iter_no_change=50, shuffle=False, solver=adam, tol=0.0001;, score=0.925 total time=  25.4s\n",
      "[CV 5/5] END activation=logistic, alpha=0.1, hidden_layer_sizes=(128, 64, 8), learning_rate_init=0.0001, max_iter=1000, n_iter_no_change=50, shuffle=False, solver=adam, tol=0.0001;, score=0.917 total time=  25.4s\n",
      "[CV 5/5] END activation=logistic, alpha=0.1, hidden_layer_sizes=(256, 64, 16), learning_rate_init=0.0001, max_iter=1000, n_iter_no_change=50, shuffle=False, solver=sgd, tol=0.0001;, score=0.917 total time=  13.3s\n",
      "[CV 3/5] END activation=logistic, alpha=0.1, hidden_layer_sizes=(256, 64, 8), learning_rate_init=0.0001, max_iter=1000, n_iter_no_change=50, shuffle=False, solver=adam, tol=0.0001;, score=0.820 total time=  19.6s\n",
      "[CV 2/5] END activation=logistic, alpha=0.1, hidden_layer_sizes=(256, 64, 32), learning_rate_init=0.0001, max_iter=1000, n_iter_no_change=50, shuffle=False, solver=adam, tol=0.0001;, score=0.820 total time=  12.9s\n",
      "[CV 1/5] END activation=logistic, alpha=0.1, hidden_layer_sizes=(256, 128, 16), learning_rate_init=0.0001, max_iter=1000, n_iter_no_change=50, shuffle=False, solver=sgd, tol=0.0001;, score=0.404 total time=   2.7s\n",
      "[CV 3/5] END activation=logistic, alpha=0.1, hidden_layer_sizes=(256, 64, 16), learning_rate_init=0.0001, max_iter=1000, n_iter_no_change=50, shuffle=False, solver=sgd, tol=0.0001;, score=0.652 total time=  14.1s\n",
      "[CV 5/5] END activation=logistic, alpha=0.1, hidden_layer_sizes=(128, 64, 16), learning_rate_init=0.0001, max_iter=1000, n_iter_no_change=50, shuffle=False, solver=adam, tol=0.0001;, score=0.917 total time=  25.7s\n",
      "[CV 2/5] END activation=logistic, alpha=0.1, hidden_layer_sizes=(256, 128, 16), learning_rate_init=0.0001, max_iter=1000, n_iter_no_change=50, shuffle=False, solver=sgd, tol=0.0001;, score=0.517 total time=   2.2s\n"
     ]
    },
    {
     "name": "stderr",
     "output_type": "stream",
     "text": [
      "/home/workspace/jogrady/env/lib/python3.9/site-packages/sklearn/neural_network/_multilayer_perceptron.py:690: ConvergenceWarning: Stochastic Optimizer: Maximum iterations (1000) reached and the optimization hasn't converged yet.\n",
      "  warnings.warn(\n"
     ]
    },
    {
     "name": "stdout",
     "output_type": "stream",
     "text": [
      "[CV 3/5] END activation=logistic, alpha=0.1, hidden_layer_sizes=(256, 64, 16), learning_rate_init=0.0001, max_iter=1000, n_iter_no_change=50, shuffle=False, solver=adam, tol=0.0001;, score=0.836 total time=  14.9s\n",
      "[CV 3/5] END activation=logistic, alpha=0.1, hidden_layer_sizes=(256, 128, 16), learning_rate_init=0.0001, max_iter=1000, n_iter_no_change=50, shuffle=False, solver=sgd, tol=0.0001;, score=0.160 total time=   2.6s\n",
      "[CV 4/5] END activation=logistic, alpha=0.1, hidden_layer_sizes=(256, 128, 16), learning_rate_init=0.0001, max_iter=1000, n_iter_no_change=50, shuffle=False, solver=sgd, tol=0.0001;, score=0.342 total time=   2.6s\n",
      "[CV 5/5] END activation=logistic, alpha=0.1, hidden_layer_sizes=(256, 128, 16), learning_rate_init=0.0001, max_iter=1000, n_iter_no_change=50, shuffle=False, solver=sgd, tol=0.0001;, score=0.378 total time=   2.7s\n",
      "[CV 3/5] END activation=logistic, alpha=0.1, hidden_layer_sizes=(256, 128, 32), learning_rate_init=0.0001, max_iter=1000, n_iter_no_change=50, shuffle=False, solver=sgd, tol=0.0001;, score=0.637 total time=   1.4s\n",
      "[CV 1/5] END activation=logistic, alpha=0.1, hidden_layer_sizes=(256, 128, 32), learning_rate_init=0.0001, max_iter=1000, n_iter_no_change=50, shuffle=False, solver=sgd, tol=0.0001;, score=0.571 total time=   1.8s\n",
      "[CV 1/5] END activation=logistic, alpha=0.1, hidden_layer_sizes=(256, 32, 8), learning_rate_init=0.0001, max_iter=1000, n_iter_no_change=50, shuffle=False, solver=adam, tol=0.0001;, score=0.925 total time=  25.2s\n",
      "[CV 4/5] END activation=logistic, alpha=0.1, hidden_layer_sizes=(256, 64, 16), learning_rate_init=0.0001, max_iter=1000, n_iter_no_change=50, shuffle=False, solver=sgd, tol=0.0001;, score=0.562 total time=  15.6s\n"
     ]
    },
    {
     "name": "stderr",
     "output_type": "stream",
     "text": [
      "/home/workspace/jogrady/env/lib/python3.9/site-packages/sklearn/neural_network/_multilayer_perceptron.py:690: ConvergenceWarning: Stochastic Optimizer: Maximum iterations (1000) reached and the optimization hasn't converged yet.\n",
      "  warnings.warn(\n"
     ]
    },
    {
     "name": "stdout",
     "output_type": "stream",
     "text": [
      "[CV 5/5] END activation=logistic, alpha=0.1, hidden_layer_sizes=(256, 128, 32), learning_rate_init=0.0001, max_iter=1000, n_iter_no_change=50, shuffle=False, solver=sgd, tol=0.0001;, score=0.667 total time=   2.3s\n",
      "[CV 2/5] END activation=logistic, alpha=0.1, hidden_layer_sizes=(256, 128, 32), learning_rate_init=0.0001, max_iter=1000, n_iter_no_change=50, shuffle=False, solver=sgd, tol=0.0001;, score=0.715 total time=   2.7s\n",
      "[CV 2/5] END activation=logistic, alpha=0.1, hidden_layer_sizes=(256, 64, 32), learning_rate_init=0.0001, max_iter=1000, n_iter_no_change=50, shuffle=False, solver=sgd, tol=0.0001;, score=0.238 total time=  13.5s\n",
      "[CV 4/5] END activation=logistic, alpha=0.1, hidden_layer_sizes=(256, 128, 32), learning_rate_init=0.0001, max_iter=1000, n_iter_no_change=50, shuffle=False, solver=sgd, tol=0.0001;, score=0.604 total time=   2.7s\n",
      "[CV 4/5] END activation=logistic, alpha=0.1, hidden_layer_sizes=(256, 32, 8), learning_rate_init=0.0001, max_iter=1000, n_iter_no_change=50, shuffle=False, solver=adam, tol=0.0001;, score=0.954 total time=  25.7s\n"
     ]
    },
    {
     "name": "stderr",
     "output_type": "stream",
     "text": [
      "/home/workspace/jogrady/env/lib/python3.9/site-packages/sklearn/neural_network/_multilayer_perceptron.py:690: ConvergenceWarning: Stochastic Optimizer: Maximum iterations (1000) reached and the optimization hasn't converged yet.\n",
      "  warnings.warn(\n"
     ]
    },
    {
     "name": "stdout",
     "output_type": "stream",
     "text": [
      "[CV 3/5] END activation=logistic, alpha=0.1, hidden_layer_sizes=(256, 64, 32), learning_rate_init=0.0001, max_iter=1000, n_iter_no_change=50, shuffle=False, solver=adam, tol=0.0001;, score=0.812 total time=  15.5s\n",
      "[CV 1/5] END activation=logistic, alpha=0.1, hidden_layer_sizes=(256, 128, 64), learning_rate_init=0.0001, max_iter=1000, n_iter_no_change=50, shuffle=False, solver=sgd, tol=0.0001;, score=0.364 total time=   1.8s\n"
     ]
    },
    {
     "name": "stderr",
     "output_type": "stream",
     "text": [
      "/home/workspace/jogrady/env/lib/python3.9/site-packages/sklearn/neural_network/_multilayer_perceptron.py:690: ConvergenceWarning: Stochastic Optimizer: Maximum iterations (1000) reached and the optimization hasn't converged yet.\n",
      "  warnings.warn(\n"
     ]
    },
    {
     "name": "stdout",
     "output_type": "stream",
     "text": [
      "[CV 5/5] END activation=logistic, alpha=0.1, hidden_layer_sizes=(256, 32, 8), learning_rate_init=0.0001, max_iter=1000, n_iter_no_change=50, shuffle=False, solver=adam, tol=0.0001;, score=0.917 total time=  26.6s\n",
      "[CV 5/5] END activation=logistic, alpha=0.1, hidden_layer_sizes=(256, 64, 32), learning_rate_init=0.0001, max_iter=1000, n_iter_no_change=50, shuffle=False, solver=adam, tol=0.0001;, score=0.923 total time=  15.3s\n",
      "[CV 1/5] END activation=logistic, alpha=0.1, hidden_layer_sizes=(256, 64, 16), learning_rate_init=0.0001, max_iter=1000, n_iter_no_change=50, shuffle=False, solver=sgd, tol=0.0001;, score=0.736 total time=  18.9s\n",
      "[CV 4/5] END activation=logistic, alpha=0.1, hidden_layer_sizes=(256, 64, 16), learning_rate_init=0.0001, max_iter=1000, n_iter_no_change=50, shuffle=False, solver=adam, tol=0.0001;, score=0.963 total time=  19.2s\n",
      "[CV 4/5] END activation=logistic, alpha=0.1, hidden_layer_sizes=(256, 128, 64), learning_rate_init=0.0001, max_iter=1000, n_iter_no_change=50, shuffle=False, solver=sgd, tol=0.0001;, score=0.292 total time=   2.2s\n",
      "[CV 2/5] END activation=logistic, alpha=0.1, hidden_layer_sizes=(256, 128, 64), learning_rate_init=0.0001, max_iter=1000, n_iter_no_change=50, shuffle=False, solver=sgd, tol=0.0001;, score=0.406 total time=   3.2s\n",
      "[CV 1/5] END activation=logistic, alpha=0.1, hidden_layer_sizes=(256, 64, 32), learning_rate_init=0.0001, max_iter=1000, n_iter_no_change=50, shuffle=False, solver=adam, tol=0.0001;, score=0.857 total time=  18.8s\n",
      "[CV 1/5] END activation=logistic, alpha=0.1, hidden_layer_sizes=(256, 64, 32), learning_rate_init=0.0001, max_iter=1000, n_iter_no_change=50, shuffle=False, solver=sgd, tol=0.0001;, score=0.332 total time=  16.7s\n",
      "[CV 3/5] END activation=logistic, alpha=0.1, hidden_layer_sizes=(256, 64, 32), learning_rate_init=0.0001, max_iter=1000, n_iter_no_change=50, shuffle=False, solver=sgd, tol=0.0001;, score=0.449 total time=  18.1s\n",
      "[CV 3/5] END activation=logistic, alpha=0.1, hidden_layer_sizes=(256, 128, 64), learning_rate_init=0.0001, max_iter=1000, n_iter_no_change=50, shuffle=False, solver=sgd, tol=0.0001;, score=0.285 total time=   5.6s\n",
      "[CV 5/5] END activation=logistic, alpha=0.1, hidden_layer_sizes=(256, 64, 32), learning_rate_init=0.0001, max_iter=1000, n_iter_no_change=50, shuffle=False, solver=sgd, tol=0.0001;, score=0.571 total time=  17.9s\n",
      "[CV 5/5] END activation=logistic, alpha=0.1, hidden_layer_sizes=(256, 128, 64), learning_rate_init=0.0001, max_iter=1000, n_iter_no_change=50, shuffle=False, solver=sgd, tol=0.0001;, score=0.404 total time=   6.2s\n",
      "[CV 4/5] END activation=logistic, alpha=0.1, hidden_layer_sizes=(256, 64, 32), learning_rate_init=0.0001, max_iter=1000, n_iter_no_change=50, shuffle=False, solver=sgd, tol=0.0001;, score=0.442 total time=  19.2s\n"
     ]
    },
    {
     "name": "stderr",
     "output_type": "stream",
     "text": [
      "/home/workspace/jogrady/env/lib/python3.9/site-packages/sklearn/neural_network/_multilayer_perceptron.py:690: ConvergenceWarning: Stochastic Optimizer: Maximum iterations (1000) reached and the optimization hasn't converged yet.\n",
      "  warnings.warn(\n"
     ]
    },
    {
     "name": "stdout",
     "output_type": "stream",
     "text": [
      "[CV 5/5] END activation=logistic, alpha=0.1, hidden_layer_sizes=(256, 16, 8), learning_rate_init=0.0001, max_iter=1000, n_iter_no_change=50, shuffle=False, solver=adam, tol=0.0001;, score=0.929 total time=  35.7s\n"
     ]
    },
    {
     "name": "stderr",
     "output_type": "stream",
     "text": [
      "/home/workspace/jogrady/env/lib/python3.9/site-packages/sklearn/neural_network/_multilayer_perceptron.py:690: ConvergenceWarning: Stochastic Optimizer: Maximum iterations (1000) reached and the optimization hasn't converged yet.\n",
      "  warnings.warn(\n"
     ]
    },
    {
     "name": "stdout",
     "output_type": "stream",
     "text": [
      "[CV 3/5] END activation=logistic, alpha=0.1, hidden_layer_sizes=(256, 32, 8), learning_rate_init=0.0001, max_iter=1000, n_iter_no_change=50, shuffle=False, solver=adam, tol=0.0001;, score=0.871 total time=  35.8s\n"
     ]
    },
    {
     "name": "stderr",
     "output_type": "stream",
     "text": [
      "/home/workspace/jogrady/env/lib/python3.9/site-packages/sklearn/neural_network/_multilayer_perceptron.py:690: ConvergenceWarning: Stochastic Optimizer: Maximum iterations (1000) reached and the optimization hasn't converged yet.\n",
      "  warnings.warn(\n"
     ]
    },
    {
     "name": "stdout",
     "output_type": "stream",
     "text": [
      "[CV 2/5] END activation=logistic, alpha=0.1, hidden_layer_sizes=(256, 32, 8), learning_rate_init=0.0001, max_iter=1000, n_iter_no_change=50, shuffle=False, solver=adam, tol=0.0001;, score=0.910 total time=  36.3s\n"
     ]
    },
    {
     "name": "stderr",
     "output_type": "stream",
     "text": [
      "/home/workspace/jogrady/env/lib/python3.9/site-packages/sklearn/neural_network/_multilayer_perceptron.py:690: ConvergenceWarning: Stochastic Optimizer: Maximum iterations (1000) reached and the optimization hasn't converged yet.\n",
      "  warnings.warn(\n"
     ]
    },
    {
     "name": "stdout",
     "output_type": "stream",
     "text": [
      "[CV 4/5] END activation=logistic, alpha=0.1, hidden_layer_sizes=(256, 32, 16), learning_rate_init=0.0001, max_iter=1000, n_iter_no_change=50, shuffle=False, solver=adam, tol=0.0001;, score=0.954 total time=  36.4s\n",
      "[CV 4/5] END activation=logistic, alpha=0.1, hidden_layer_sizes=(512, 32, 8), learning_rate_init=0.0001, max_iter=1000, n_iter_no_change=50, shuffle=False, solver=sgd, tol=0.0001;, score=0.683 total time=   3.3s\n"
     ]
    },
    {
     "name": "stderr",
     "output_type": "stream",
     "text": [
      "/home/workspace/jogrady/env/lib/python3.9/site-packages/sklearn/neural_network/_multilayer_perceptron.py:690: ConvergenceWarning: Stochastic Optimizer: Maximum iterations (1000) reached and the optimization hasn't converged yet.\n",
      "  warnings.warn(\n"
     ]
    },
    {
     "name": "stdout",
     "output_type": "stream",
     "text": [
      "[CV 2/5] END activation=logistic, alpha=0.1, hidden_layer_sizes=(256, 32, 16), learning_rate_init=0.0001, max_iter=1000, n_iter_no_change=50, shuffle=False, solver=adam, tol=0.0001;, score=0.889 total time=  42.9s\n",
      "[CV 1/5] END activation=logistic, alpha=0.1, hidden_layer_sizes=(512, 32, 8), learning_rate_init=0.0001, max_iter=1000, n_iter_no_change=50, shuffle=False, solver=sgd, tol=0.0001;, score=0.707 total time=  14.8s\n"
     ]
    },
    {
     "name": "stderr",
     "output_type": "stream",
     "text": [
      "/home/workspace/jogrady/env/lib/python3.9/site-packages/sklearn/neural_network/_multilayer_perceptron.py:690: ConvergenceWarning: Stochastic Optimizer: Maximum iterations (1000) reached and the optimization hasn't converged yet.\n",
      "  warnings.warn(\n"
     ]
    },
    {
     "name": "stdout",
     "output_type": "stream",
     "text": [
      "[CV 5/5] END activation=logistic, alpha=0.1, hidden_layer_sizes=(256, 128, 8), learning_rate_init=0.0001, max_iter=1000, n_iter_no_change=50, shuffle=False, solver=adam, tol=0.0001;, score=0.917 total time=  32.0s\n"
     ]
    },
    {
     "name": "stderr",
     "output_type": "stream",
     "text": [
      "/home/workspace/jogrady/env/lib/python3.9/site-packages/sklearn/neural_network/_multilayer_perceptron.py:690: ConvergenceWarning: Stochastic Optimizer: Maximum iterations (1000) reached and the optimization hasn't converged yet.\n",
      "  warnings.warn(\n"
     ]
    },
    {
     "name": "stdout",
     "output_type": "stream",
     "text": [
      "[CV 1/5] END activation=logistic, alpha=0.1, hidden_layer_sizes=(256, 128, 16), learning_rate_init=0.0001, max_iter=1000, n_iter_no_change=50, shuffle=False, solver=adam, tol=0.0001;, score=0.929 total time=  31.4s\n"
     ]
    },
    {
     "name": "stderr",
     "output_type": "stream",
     "text": [
      "/home/workspace/jogrady/env/lib/python3.9/site-packages/sklearn/neural_network/_multilayer_perceptron.py:690: ConvergenceWarning: Stochastic Optimizer: Maximum iterations (1000) reached and the optimization hasn't converged yet.\n",
      "  warnings.warn(\n"
     ]
    },
    {
     "name": "stdout",
     "output_type": "stream",
     "text": [
      "[CV 5/5] END activation=logistic, alpha=0.1, hidden_layer_sizes=(256, 128, 16), learning_rate_init=0.0001, max_iter=1000, n_iter_no_change=50, shuffle=False, solver=adam, tol=0.0001;, score=0.929 total time=  31.7s\n",
      "[CV 1/5] END activation=logistic, alpha=0.1, hidden_layer_sizes=(512, 32, 16), learning_rate_init=0.0001, max_iter=1000, n_iter_no_change=50, shuffle=False, solver=sgd, tol=0.0001;, score=0.586 total time=   2.7s\n"
     ]
    },
    {
     "name": "stderr",
     "output_type": "stream",
     "text": [
      "/home/workspace/jogrady/env/lib/python3.9/site-packages/sklearn/neural_network/_multilayer_perceptron.py:690: ConvergenceWarning: Stochastic Optimizer: Maximum iterations (1000) reached and the optimization hasn't converged yet.\n",
      "  warnings.warn(\n"
     ]
    },
    {
     "name": "stdout",
     "output_type": "stream",
     "text": [
      "[CV 2/5] END activation=logistic, alpha=0.1, hidden_layer_sizes=(256, 16, 8), learning_rate_init=0.0001, max_iter=1000, n_iter_no_change=50, shuffle=False, solver=adam, tol=0.0001;, score=0.916 total time=  53.1s\n"
     ]
    },
    {
     "name": "stderr",
     "output_type": "stream",
     "text": [
      "/home/workspace/jogrady/env/lib/python3.9/site-packages/sklearn/neural_network/_multilayer_perceptron.py:690: ConvergenceWarning: Stochastic Optimizer: Maximum iterations (1000) reached and the optimization hasn't converged yet.\n",
      "  warnings.warn(\n"
     ]
    },
    {
     "name": "stdout",
     "output_type": "stream",
     "text": [
      "[CV 1/5] END activation=logistic, alpha=0.1, hidden_layer_sizes=(256, 16, 8), learning_rate_init=0.0001, max_iter=1000, n_iter_no_change=50, shuffle=False, solver=adam, tol=0.0001;, score=0.925 total time=  54.0s\n",
      "[CV 2/5] END activation=logistic, alpha=0.1, hidden_layer_sizes=(512, 32, 16), learning_rate_init=0.0001, max_iter=1000, n_iter_no_change=50, shuffle=False, solver=sgd, tol=0.0001;, score=0.288 total time=   2.6s\n",
      "[CV 4/5] END activation=logistic, alpha=0.1, hidden_layer_sizes=(256, 16, 8), learning_rate_init=0.0001, max_iter=1000, n_iter_no_change=50, shuffle=False, solver=adam, tol=0.0001;, score=0.954 total time=  54.2s\n"
     ]
    },
    {
     "name": "stderr",
     "output_type": "stream",
     "text": [
      "/home/workspace/jogrady/env/lib/python3.9/site-packages/sklearn/neural_network/_multilayer_perceptron.py:690: ConvergenceWarning: Stochastic Optimizer: Maximum iterations (1000) reached and the optimization hasn't converged yet.\n",
      "  warnings.warn(\n",
      "/home/workspace/jogrady/env/lib/python3.9/site-packages/sklearn/neural_network/_multilayer_perceptron.py:690: ConvergenceWarning: Stochastic Optimizer: Maximum iterations (1000) reached and the optimization hasn't converged yet.\n",
      "  warnings.warn(\n"
     ]
    },
    {
     "name": "stdout",
     "output_type": "stream",
     "text": [
      "[CV 3/5] END activation=logistic, alpha=0.1, hidden_layer_sizes=(256, 16, 8), learning_rate_init=0.0001, max_iter=1000, n_iter_no_change=50, shuffle=False, solver=adam, tol=0.0001;, score=0.883 total time=  54.7s\n"
     ]
    },
    {
     "name": "stderr",
     "output_type": "stream",
     "text": [
      "/home/workspace/jogrady/env/lib/python3.9/site-packages/sklearn/neural_network/_multilayer_perceptron.py:690: ConvergenceWarning: Stochastic Optimizer: Maximum iterations (1000) reached and the optimization hasn't converged yet.\n",
      "  warnings.warn(\n",
      "/home/workspace/jogrady/env/lib/python3.9/site-packages/sklearn/neural_network/_multilayer_perceptron.py:690: ConvergenceWarning: Stochastic Optimizer: Maximum iterations (1000) reached and the optimization hasn't converged yet.\n",
      "  warnings.warn(\n"
     ]
    },
    {
     "name": "stdout",
     "output_type": "stream",
     "text": [
      "[CV 4/5] END activation=logistic, alpha=0.1, hidden_layer_sizes=(256, 128, 32), learning_rate_init=0.0001, max_iter=1000, n_iter_no_change=50, shuffle=False, solver=adam, tol=0.0001;, score=0.933 total time=  31.1s\n",
      "[CV 1/5] END activation=logistic, alpha=0.1, hidden_layer_sizes=(256, 128, 32), learning_rate_init=0.0001, max_iter=1000, n_iter_no_change=50, shuffle=False, solver=adam, tol=0.0001;, score=0.939 total time=  31.7s\n",
      "[CV 3/5] END activation=logistic, alpha=0.1, hidden_layer_sizes=(512, 32, 16), learning_rate_init=0.0001, max_iter=1000, n_iter_no_change=50, shuffle=False, solver=sgd, tol=0.0001;, score=0.371 total time=   2.7s\n",
      "[CV 4/5] END activation=logistic, alpha=0.1, hidden_layer_sizes=(512, 32, 16), learning_rate_init=0.0001, max_iter=1000, n_iter_no_change=50, shuffle=False, solver=sgd, tol=0.0001;, score=0.458 total time=   2.7s\n"
     ]
    },
    {
     "name": "stderr",
     "output_type": "stream",
     "text": [
      "/home/workspace/jogrady/env/lib/python3.9/site-packages/sklearn/neural_network/_multilayer_perceptron.py:690: ConvergenceWarning: Stochastic Optimizer: Maximum iterations (1000) reached and the optimization hasn't converged yet.\n",
      "  warnings.warn(\n"
     ]
    },
    {
     "name": "stdout",
     "output_type": "stream",
     "text": [
      "[CV 4/5] END activation=logistic, alpha=0.1, hidden_layer_sizes=(256, 64, 32), learning_rate_init=0.0001, max_iter=1000, n_iter_no_change=50, shuffle=False, solver=adam, tol=0.0001;, score=0.954 total time=  44.4s\n"
     ]
    },
    {
     "name": "stderr",
     "output_type": "stream",
     "text": [
      "/home/workspace/jogrady/env/lib/python3.9/site-packages/sklearn/neural_network/_multilayer_perceptron.py:690: ConvergenceWarning: Stochastic Optimizer: Maximum iterations (1000) reached and the optimization hasn't converged yet.\n",
      "  warnings.warn(\n"
     ]
    },
    {
     "name": "stdout",
     "output_type": "stream",
     "text": [
      "[CV 3/5] END activation=logistic, alpha=0.1, hidden_layer_sizes=(256, 128, 8), learning_rate_init=0.0001, max_iter=1000, n_iter_no_change=50, shuffle=False, solver=adam, tol=0.0001;, score=0.863 total time=  39.8s\n",
      "[CV 1/5] END activation=logistic, alpha=0.1, hidden_layer_sizes=(512, 64, 8), learning_rate_init=0.0001, max_iter=1000, n_iter_no_change=50, shuffle=False, solver=sgd, tol=0.0001;, score=0.614 total time=   2.8s\n",
      "[CV 2/5] END activation=logistic, alpha=0.1, hidden_layer_sizes=(512, 64, 8), learning_rate_init=0.0001, max_iter=1000, n_iter_no_change=50, shuffle=False, solver=sgd, tol=0.0001;, score=0.635 total time=   2.7s\n",
      "[CV 3/5] END activation=logistic, alpha=0.1, hidden_layer_sizes=(512, 64, 8), learning_rate_init=0.0001, max_iter=1000, n_iter_no_change=50, shuffle=False, solver=sgd, tol=0.0001;, score=0.566 total time=   2.8s\n",
      "[CV 5/5] END activation=logistic, alpha=0.1, hidden_layer_sizes=(512, 32, 16), learning_rate_init=0.0001, max_iter=1000, n_iter_no_change=50, shuffle=False, solver=sgd, tol=0.0001;, score=0.429 total time=   5.1s\n",
      "[CV 1/5] END activation=logistic, alpha=0.1, hidden_layer_sizes=(512, 32, 8), learning_rate_init=0.0001, max_iter=1000, n_iter_no_change=50, shuffle=False, solver=adam, tol=0.0001;, score=0.450 total time=  29.0s\n",
      "[CV 1/5] END activation=logistic, alpha=0.1, hidden_layer_sizes=(256, 32, 16), learning_rate_init=0.0001, max_iter=1000, n_iter_no_change=50, shuffle=False, solver=adam, tol=0.0001;, score=0.925 total time=  56.1s\n"
     ]
    },
    {
     "name": "stderr",
     "output_type": "stream",
     "text": [
      "/home/workspace/jogrady/env/lib/python3.9/site-packages/sklearn/neural_network/_multilayer_perceptron.py:690: ConvergenceWarning: Stochastic Optimizer: Maximum iterations (1000) reached and the optimization hasn't converged yet.\n",
      "  warnings.warn(\n",
      "/home/workspace/jogrady/env/lib/python3.9/site-packages/sklearn/neural_network/_multilayer_perceptron.py:690: ConvergenceWarning: Stochastic Optimizer: Maximum iterations (1000) reached and the optimization hasn't converged yet.\n",
      "  warnings.warn(\n"
     ]
    },
    {
     "name": "stdout",
     "output_type": "stream",
     "text": [
      "[CV 5/5] END activation=logistic, alpha=0.1, hidden_layer_sizes=(256, 128, 64), learning_rate_init=0.0001, max_iter=1000, n_iter_no_change=50, shuffle=False, solver=adam, tol=0.0001;, score=0.949 total time=  32.9s\n"
     ]
    },
    {
     "name": "stderr",
     "output_type": "stream",
     "text": [
      "/home/workspace/jogrady/env/lib/python3.9/site-packages/sklearn/neural_network/_multilayer_perceptron.py:690: ConvergenceWarning: Stochastic Optimizer: Maximum iterations (1000) reached and the optimization hasn't converged yet.\n",
      "  warnings.warn(\n"
     ]
    },
    {
     "name": "stdout",
     "output_type": "stream",
     "text": [
      "[CV 4/5] END activation=logistic, alpha=0.1, hidden_layer_sizes=(256, 64, 8), learning_rate_init=0.0001, max_iter=1000, n_iter_no_change=50, shuffle=False, solver=adam, tol=0.0001;, score=0.958 total time=  55.3s\n",
      "[CV 5/5] END activation=logistic, alpha=0.1, hidden_layer_sizes=(512, 64, 8), learning_rate_init=0.0001, max_iter=1000, n_iter_no_change=50, shuffle=False, solver=sgd, tol=0.0001;, score=0.571 total time=   3.5s\n",
      "[CV 4/5] END activation=logistic, alpha=0.1, hidden_layer_sizes=(512, 64, 8), learning_rate_init=0.0001, max_iter=1000, n_iter_no_change=50, shuffle=False, solver=sgd, tol=0.0001;, score=0.450 total time=   4.3s\n",
      "[CV 3/5] END activation=logistic, alpha=0.1, hidden_layer_sizes=(512, 32, 8), learning_rate_init=0.0001, max_iter=1000, n_iter_no_change=50, shuffle=False, solver=sgd, tol=0.0001;, score=0.680 total time=  30.1s\n",
      "[CV 1/5] END activation=logistic, alpha=0.1, hidden_layer_sizes=(512, 64, 16), learning_rate_init=0.0001, max_iter=1000, n_iter_no_change=50, shuffle=False, solver=sgd, tol=0.0001;, score=0.346 total time=   5.3s\n",
      "[CV 4/5] END activation=logistic, alpha=0.1, hidden_layer_sizes=(512, 64, 16), learning_rate_init=0.0001, max_iter=1000, n_iter_no_change=50, shuffle=False, solver=sgd, tol=0.0001;, score=0.479 total time=   3.4s\n"
     ]
    },
    {
     "name": "stderr",
     "output_type": "stream",
     "text": [
      "/home/workspace/jogrady/env/lib/python3.9/site-packages/sklearn/neural_network/_multilayer_perceptron.py:690: ConvergenceWarning: Stochastic Optimizer: Maximum iterations (1000) reached and the optimization hasn't converged yet.\n",
      "  warnings.warn(\n"
     ]
    },
    {
     "name": "stdout",
     "output_type": "stream",
     "text": [
      "[CV 1/5] END activation=logistic, alpha=0.1, hidden_layer_sizes=(256, 128, 8), learning_rate_init=0.0001, max_iter=1000, n_iter_no_change=50, shuffle=False, solver=adam, tol=0.0001;, score=0.925 total time=  48.9s\n",
      "[CV 1/5] END activation=logistic, alpha=0.1, hidden_layer_sizes=(512, 16, 8), learning_rate_init=0.0001, max_iter=1000, n_iter_no_change=50, shuffle=False, solver=sgd, tol=0.0001;, score=0.339 total time=  36.4s\n",
      "[CV 4/5] END activation=logistic, alpha=0.1, hidden_layer_sizes=(512, 32, 8), learning_rate_init=0.0001, max_iter=1000, n_iter_no_change=50, shuffle=False, solver=adam, tol=0.0001;, score=0.429 total time=  33.3s\n"
     ]
    },
    {
     "name": "stderr",
     "output_type": "stream",
     "text": [
      "/home/workspace/jogrady/env/lib/python3.9/site-packages/sklearn/neural_network/_multilayer_perceptron.py:690: ConvergenceWarning: Stochastic Optimizer: Maximum iterations (1000) reached and the optimization hasn't converged yet.\n",
      "  warnings.warn(\n"
     ]
    },
    {
     "name": "stdout",
     "output_type": "stream",
     "text": [
      "[CV 2/5] END activation=logistic, alpha=0.1, hidden_layer_sizes=(256, 128, 8), learning_rate_init=0.0001, max_iter=1000, n_iter_no_change=50, shuffle=False, solver=adam, tol=0.0001;, score=0.910 total time=  48.6s\n",
      "[CV 2/5] END activation=logistic, alpha=0.1, hidden_layer_sizes=(512, 32, 8), learning_rate_init=0.0001, max_iter=1000, n_iter_no_change=50, shuffle=False, solver=sgd, tol=0.0001;, score=0.396 total time=  32.2s\n",
      "[CV 5/5] END activation=logistic, alpha=0.1, hidden_layer_sizes=(512, 32, 8), learning_rate_init=0.0001, max_iter=1000, n_iter_no_change=50, shuffle=False, solver=sgd, tol=0.0001;, score=0.583 total time=  28.4s\n"
     ]
    },
    {
     "name": "stderr",
     "output_type": "stream",
     "text": [
      "/home/workspace/jogrady/env/lib/python3.9/site-packages/sklearn/neural_network/_multilayer_perceptron.py:690: ConvergenceWarning: Stochastic Optimizer: Maximum iterations (1000) reached and the optimization hasn't converged yet.\n",
      "  warnings.warn(\n",
      "/home/workspace/jogrady/env/lib/python3.9/site-packages/sklearn/neural_network/_multilayer_perceptron.py:690: ConvergenceWarning: Stochastic Optimizer: Maximum iterations (1000) reached and the optimization hasn't converged yet.\n",
      "  warnings.warn(\n"
     ]
    },
    {
     "name": "stdout",
     "output_type": "stream",
     "text": [
      "[CV 1/5] END activation=logistic, alpha=0.1, hidden_layer_sizes=(256, 128, 64), learning_rate_init=0.0001, max_iter=1000, n_iter_no_change=50, shuffle=False, solver=adam, tol=0.0001;, score=0.939 total time=  41.8s\n",
      "[CV 4/5] END activation=logistic, alpha=0.1, hidden_layer_sizes=(256, 128, 8), learning_rate_init=0.0001, max_iter=1000, n_iter_no_change=50, shuffle=False, solver=adam, tol=0.0001;, score=0.954 total time=  48.9s\n",
      "[CV 2/5] END activation=logistic, alpha=0.1, hidden_layer_sizes=(512, 64, 16), learning_rate_init=0.0001, max_iter=1000, n_iter_no_change=50, shuffle=False, solver=sgd, tol=0.0001;, score=0.526 total time=   8.1s\n",
      "[CV 3/5] END activation=logistic, alpha=0.1, hidden_layer_sizes=(512, 64, 32), learning_rate_init=0.0001, max_iter=1000, n_iter_no_change=50, shuffle=False, solver=sgd, tol=0.0001;, score=0.340 total time=   3.5s\n",
      "[CV 3/5] END activation=logistic, alpha=0.1, hidden_layer_sizes=(512, 32, 8), learning_rate_init=0.0001, max_iter=1000, n_iter_no_change=50, shuffle=False, solver=adam, tol=0.0001;, score=0.621 total time=  39.7s\n",
      "[CV 2/5] END activation=logistic, alpha=0.1, hidden_layer_sizes=(512, 64, 32), learning_rate_init=0.0001, max_iter=1000, n_iter_no_change=50, shuffle=False, solver=sgd, tol=0.0001;, score=0.214 total time=   4.4s\n",
      "[CV 5/5] END activation=logistic, alpha=0.1, hidden_layer_sizes=(512, 64, 32), learning_rate_init=0.0001, max_iter=1000, n_iter_no_change=50, shuffle=False, solver=sgd, tol=0.0001;, score=0.096 total time=   3.6s\n"
     ]
    },
    {
     "name": "stderr",
     "output_type": "stream",
     "text": [
      "/home/workspace/jogrady/env/lib/python3.9/site-packages/sklearn/neural_network/_multilayer_perceptron.py:690: ConvergenceWarning: Stochastic Optimizer: Maximum iterations (1000) reached and the optimization hasn't converged yet.\n",
      "  warnings.warn(\n",
      "/home/workspace/jogrady/env/lib/python3.9/site-packages/sklearn/neural_network/_multilayer_perceptron.py:690: ConvergenceWarning: Stochastic Optimizer: Maximum iterations (1000) reached and the optimization hasn't converged yet.\n",
      "  warnings.warn(\n"
     ]
    },
    {
     "name": "stdout",
     "output_type": "stream",
     "text": [
      "[CV 4/5] END activation=logistic, alpha=0.1, hidden_layer_sizes=(256, 128, 16), learning_rate_init=0.0001, max_iter=1000, n_iter_no_change=50, shuffle=False, solver=adam, tol=0.0001;, score=0.933 total time=  49.6s\n",
      "[CV 2/5] END activation=logistic, alpha=0.1, hidden_layer_sizes=(256, 128, 16), learning_rate_init=0.0001, max_iter=1000, n_iter_no_change=50, shuffle=False, solver=adam, tol=0.0001;, score=0.916 total time=  50.2s\n"
     ]
    },
    {
     "name": "stderr",
     "output_type": "stream",
     "text": [
      "/home/workspace/jogrady/env/lib/python3.9/site-packages/sklearn/neural_network/_multilayer_perceptron.py:690: ConvergenceWarning: Stochastic Optimizer: Maximum iterations (1000) reached and the optimization hasn't converged yet.\n",
      "  warnings.warn(\n"
     ]
    },
    {
     "name": "stdout",
     "output_type": "stream",
     "text": [
      "[CV 3/5] END activation=logistic, alpha=0.1, hidden_layer_sizes=(256, 128, 16), learning_rate_init=0.0001, max_iter=1000, n_iter_no_change=50, shuffle=False, solver=adam, tol=0.0001;, score=0.875 total time=  51.3s\n",
      "[CV 1/5] END activation=logistic, alpha=0.1, hidden_layer_sizes=(512, 16, 8), learning_rate_init=0.0001, max_iter=1000, n_iter_no_change=50, shuffle=False, solver=adam, tol=0.0001;, score=0.389 total time=  45.1s\n"
     ]
    },
    {
     "name": "stderr",
     "output_type": "stream",
     "text": [
      "/home/workspace/jogrady/env/lib/python3.9/site-packages/sklearn/neural_network/_multilayer_perceptron.py:690: ConvergenceWarning: Stochastic Optimizer: Maximum iterations (1000) reached and the optimization hasn't converged yet.\n",
      "  warnings.warn(\n"
     ]
    },
    {
     "name": "stdout",
     "output_type": "stream",
     "text": [
      "[CV 3/5] END activation=logistic, alpha=0.1, hidden_layer_sizes=(256, 128, 32), learning_rate_init=0.0001, max_iter=1000, n_iter_no_change=50, shuffle=False, solver=adam, tol=0.0001;, score=0.867 total time=  48.7s\n",
      "[CV 5/5] END activation=logistic, alpha=0.1, hidden_layer_sizes=(512, 64, 16), learning_rate_init=0.0001, max_iter=1000, n_iter_no_change=50, shuffle=False, solver=sgd, tol=0.0001;, score=0.365 total time=  11.8s\n",
      "[CV 1/5] END activation=logistic, alpha=0.1, hidden_layer_sizes=(512, 64, 32), learning_rate_init=0.0001, max_iter=1000, n_iter_no_change=50, shuffle=False, solver=sgd, tol=0.0001;, score=0.368 total time=   8.3s\n",
      "[CV 1/5] END activation=logistic, alpha=0.1, hidden_layer_sizes=(512, 128, 8), learning_rate_init=0.0001, max_iter=1000, n_iter_no_change=50, shuffle=False, solver=sgd, tol=0.0001;, score=0.264 total time=   3.7s\n",
      "[CV 2/5] END activation=logistic, alpha=0.1, hidden_layer_sizes=(512, 32, 8), learning_rate_init=0.0001, max_iter=1000, n_iter_no_change=50, shuffle=False, solver=adam, tol=0.0001;, score=0.387 total time=  44.3s\n",
      "[CV 2/5] END activation=logistic, alpha=0.1, hidden_layer_sizes=(512, 128, 8), learning_rate_init=0.0001, max_iter=1000, n_iter_no_change=50, shuffle=False, solver=sgd, tol=0.0001;, score=0.415 total time=   4.7s\n",
      "[CV 5/5] END activation=logistic, alpha=0.1, hidden_layer_sizes=(512, 128, 8), learning_rate_init=0.0001, max_iter=1000, n_iter_no_change=50, shuffle=False, solver=sgd, tol=0.0001;, score=0.462 total time=   3.1s\n",
      "[CV 3/5] END activation=logistic, alpha=0.1, hidden_layer_sizes=(512, 128, 8), learning_rate_init=0.0001, max_iter=1000, n_iter_no_change=50, shuffle=False, solver=sgd, tol=0.0001;, score=0.590 total time=   4.8s\n",
      "[CV 4/5] END activation=logistic, alpha=0.1, hidden_layer_sizes=(512, 128, 8), learning_rate_init=0.0001, max_iter=1000, n_iter_no_change=50, shuffle=False, solver=sgd, tol=0.0001;, score=0.483 total time=   4.7s\n",
      "[CV 3/5] END activation=logistic, alpha=0.1, hidden_layer_sizes=(512, 64, 16), learning_rate_init=0.0001, max_iter=1000, n_iter_no_change=50, shuffle=False, solver=sgd, tol=0.0001;, score=0.324 total time=  17.4s\n",
      "[CV 3/5] END activation=logistic, alpha=0.1, hidden_layer_sizes=(512, 16, 8), learning_rate_init=0.0001, max_iter=1000, n_iter_no_change=50, shuffle=False, solver=adam, tol=0.0001;, score=0.574 total time=  51.0s\n",
      "[CV 2/5] END activation=logistic, alpha=0.1, hidden_layer_sizes=(512, 128, 16), learning_rate_init=0.0001, max_iter=1000, n_iter_no_change=50, shuffle=False, solver=sgd, tol=0.0001;, score=0.585 total time=   3.1s\n",
      "[CV 5/5] END activation=logistic, alpha=0.1, hidden_layer_sizes=(512, 32, 8), learning_rate_init=0.0001, max_iter=1000, n_iter_no_change=50, shuffle=False, solver=adam, tol=0.0001;, score=0.404 total time=  46.8s\n",
      "[CV 1/5] END activation=logistic, alpha=0.1, hidden_layer_sizes=(512, 128, 16), learning_rate_init=0.0001, max_iter=1000, n_iter_no_change=50, shuffle=False, solver=sgd, tol=0.0001;, score=0.525 total time=   4.7s\n",
      "[CV 3/5] END activation=logistic, alpha=0.1, hidden_layer_sizes=(512, 128, 16), learning_rate_init=0.0001, max_iter=1000, n_iter_no_change=50, shuffle=False, solver=sgd, tol=0.0001;, score=0.605 total time=   4.7s\n",
      "[CV 4/5] END activation=logistic, alpha=0.1, hidden_layer_sizes=(512, 128, 16), learning_rate_init=0.0001, max_iter=1000, n_iter_no_change=50, shuffle=False, solver=sgd, tol=0.0001;, score=0.508 total time=   4.7s\n",
      "[CV 5/5] END activation=logistic, alpha=0.1, hidden_layer_sizes=(512, 128, 16), learning_rate_init=0.0001, max_iter=1000, n_iter_no_change=50, shuffle=False, solver=sgd, tol=0.0001;, score=0.385 total time=   5.8s\n",
      "[CV 4/5] END activation=logistic, alpha=0.1, hidden_layer_sizes=(512, 16, 8), learning_rate_init=0.0001, max_iter=1000, n_iter_no_change=50, shuffle=False, solver=sgd, tol=0.0001;, score=0.400 total time=  56.5s\n"
     ]
    },
    {
     "name": "stderr",
     "output_type": "stream",
     "text": [
      "/home/workspace/jogrady/env/lib/python3.9/site-packages/sklearn/neural_network/_multilayer_perceptron.py:690: ConvergenceWarning: Stochastic Optimizer: Maximum iterations (1000) reached and the optimization hasn't converged yet.\n",
      "  warnings.warn(\n"
     ]
    },
    {
     "name": "stdout",
     "output_type": "stream",
     "text": [
      "[CV 2/5] END activation=logistic, alpha=0.1, hidden_layer_sizes=(256, 128, 32), learning_rate_init=0.0001, max_iter=1000, n_iter_no_change=50, shuffle=False, solver=adam, tol=0.0001;, score=0.923 total time= 1.0min\n",
      "[CV 4/5] END activation=logistic, alpha=0.1, hidden_layer_sizes=(512, 64, 32), learning_rate_init=0.0001, max_iter=1000, n_iter_no_change=50, shuffle=False, solver=sgd, tol=0.0001;, score=0.233 total time=  20.5s\n",
      "[CV 5/5] END activation=logistic, alpha=0.1, hidden_layer_sizes=(256, 128, 32), learning_rate_init=0.0001, max_iter=1000, n_iter_no_change=50, shuffle=False, solver=adam, tol=0.0001;, score=0.949 total time= 1.0min\n",
      "[CV 4/5] END activation=logistic, alpha=0.1, hidden_layer_sizes=(512, 16, 8), learning_rate_init=0.0001, max_iter=1000, n_iter_no_change=50, shuffle=False, solver=adam, tol=0.0001;, score=0.337 total time=  59.0s\n"
     ]
    },
    {
     "name": "stderr",
     "output_type": "stream",
     "text": [
      "/home/workspace/jogrady/env/lib/python3.9/site-packages/sklearn/neural_network/_multilayer_perceptron.py:690: ConvergenceWarning: Stochastic Optimizer: Maximum iterations (1000) reached and the optimization hasn't converged yet.\n",
      "  warnings.warn(\n",
      "/home/workspace/jogrady/env/lib/python3.9/site-packages/sklearn/neural_network/_multilayer_perceptron.py:690: ConvergenceWarning: Stochastic Optimizer: Maximum iterations (1000) reached and the optimization hasn't converged yet.\n",
      "  warnings.warn(\n",
      "/home/workspace/jogrady/env/lib/python3.9/site-packages/sklearn/neural_network/_multilayer_perceptron.py:690: ConvergenceWarning: Stochastic Optimizer: Maximum iterations (1000) reached and the optimization hasn't converged yet.\n",
      "  warnings.warn(\n"
     ]
    },
    {
     "name": "stdout",
     "output_type": "stream",
     "text": [
      "[CV 2/5] END activation=logistic, alpha=0.1, hidden_layer_sizes=(256, 128, 64), learning_rate_init=0.0001, max_iter=1000, n_iter_no_change=50, shuffle=False, solver=adam, tol=0.0001;, score=0.938 total time= 1.1min\n",
      "[CV 4/5] END activation=logistic, alpha=0.1, hidden_layer_sizes=(256, 128, 64), learning_rate_init=0.0001, max_iter=1000, n_iter_no_change=50, shuffle=False, solver=adam, tol=0.0001;, score=0.933 total time= 1.1min\n"
     ]
    },
    {
     "name": "stderr",
     "output_type": "stream",
     "text": [
      "/home/workspace/jogrady/env/lib/python3.9/site-packages/sklearn/neural_network/_multilayer_perceptron.py:690: ConvergenceWarning: Stochastic Optimizer: Maximum iterations (1000) reached and the optimization hasn't converged yet.\n",
      "  warnings.warn(\n"
     ]
    },
    {
     "name": "stdout",
     "output_type": "stream",
     "text": [
      "[CV 3/5] END activation=logistic, alpha=0.1, hidden_layer_sizes=(256, 128, 64), learning_rate_init=0.0001, max_iter=1000, n_iter_no_change=50, shuffle=False, solver=adam, tol=0.0001;, score=0.871 total time= 1.1min\n",
      "[CV 2/5] END activation=logistic, alpha=0.1, hidden_layer_sizes=(512, 16, 8), learning_rate_init=0.0001, max_iter=1000, n_iter_no_change=50, shuffle=False, solver=sgd, tol=0.0001;, score=0.455 total time= 1.0min\n",
      "[CV 5/5] END activation=logistic, alpha=0.1, hidden_layer_sizes=(512, 16, 8), learning_rate_init=0.0001, max_iter=1000, n_iter_no_change=50, shuffle=False, solver=sgd, tol=0.0001;, score=0.321 total time= 1.0min\n",
      "[CV 3/5] END activation=logistic, alpha=0.1, hidden_layer_sizes=(512, 16, 8), learning_rate_init=0.0001, max_iter=1000, n_iter_no_change=50, shuffle=False, solver=sgd, tol=0.0001;, score=0.484 total time= 1.1min\n",
      "[CV 1/5] END activation=logistic, alpha=0.1, hidden_layer_sizes=(512, 128, 64), learning_rate_init=0.0001, max_iter=1000, n_iter_no_change=50, shuffle=False, solver=sgd, tol=0.0001;, score=0.400 total time=   4.8s\n",
      "[CV 2/5] END activation=logistic, alpha=0.1, hidden_layer_sizes=(512, 128, 64), learning_rate_init=0.0001, max_iter=1000, n_iter_no_change=50, shuffle=False, solver=sgd, tol=0.0001;, score=0.632 total time=   4.9s\n",
      "[CV 3/5] END activation=logistic, alpha=0.1, hidden_layer_sizes=(512, 128, 64), learning_rate_init=0.0001, max_iter=1000, n_iter_no_change=50, shuffle=False, solver=sgd, tol=0.0001;, score=0.484 total time=   4.9s\n",
      "[CV 4/5] END activation=logistic, alpha=0.1, hidden_layer_sizes=(512, 128, 64), learning_rate_init=0.0001, max_iter=1000, n_iter_no_change=50, shuffle=False, solver=sgd, tol=0.0001;, score=0.417 total time=   4.8s\n",
      "[CV 5/5] END activation=logistic, alpha=0.1, hidden_layer_sizes=(512, 128, 64), learning_rate_init=0.0001, max_iter=1000, n_iter_no_change=50, shuffle=False, solver=sgd, tol=0.0001;, score=0.212 total time=   5.1s\n",
      "[CV 5/5] END activation=logistic, alpha=0.1, hidden_layer_sizes=(512, 16, 8), learning_rate_init=0.0001, max_iter=1000, n_iter_no_change=50, shuffle=False, solver=adam, tol=0.0001;, score=0.378 total time= 1.3min\n"
     ]
    }
   ],
   "source": [
    "\n",
    "nn_params = {\"alpha\": [0.1, 0.01, 0.0001,0.00001],\n",
    "              \"hidden_layer_sizes\": hidden_layer_combinations,\n",
    "              \"solver\" : [\"adam\",\"sgd\"],\n",
    "              \"activation\": [\"logistic\", \"tanh\", \"relu\"],\n",
    "              \"max_iter\": [(1000)],\n",
    "              \"n_iter_no_change\": [(50)],\n",
    "              \"tol\": [(0.0001)],\n",
    "              \"shuffle\": [False],\n",
    "              \"learning_rate_init\": [(0.0001)]}\n",
    "from sklearn.model_selection import GridSearchCV\n",
    "\n",
    "\n",
    "precision_scorer = make_scorer(precision_score, zero_division=1)  # had to modify zero_division as it was giving problems\n",
    "f1_scorer = make_scorer(f1_score)\n",
    "accuracy_scorer = make_scorer(accuracy_score)\n",
    "recall_scorer = make_scorer(recall_score)\n",
    "\n",
    "from sklearn.metrics import make_scorer\n",
    "from sklearn.metrics import roc_auc_score\n",
    "roc_auc_scorer = make_scorer(roc_auc_score, greater_is_better=True, response_method=\"predict_proba\")\n",
    "\n",
    "# Define scoring dictionary for GridSearchCV\n",
    "nn = MLPClassifier(random_state = 42) # ANN model object created\n",
    "\n",
    "# Model CV process \n",
    "nn_cv_model = GridSearchCV(nn, nn_params, \n",
    "                         cv = cv_splits, # To make a 5-fold CV\n",
    "                         n_jobs = 50, # Number of jobs to be run in parallel (-1: means to use all processors)\n",
    "                         verbose = 2,\n",
    "                         scoring=roc_auc_scorer) # Controls the level of detail: higher means more messages gets value as integer.\n",
    "\n",
    "nn_cv_model.fit(train_data, train_labels.ravel()) "
   ]
  },
  {
   "cell_type": "code",
   "execution_count": null,
   "metadata": {},
   "outputs": [],
   "source": []
  }
 ],
 "metadata": {
  "kernelspec": {
   "display_name": "env",
   "language": "python",
   "name": "python3"
  },
  "language_info": {
   "codemirror_mode": {
    "name": "ipython",
    "version": 3
   },
   "file_extension": ".py",
   "mimetype": "text/x-python",
   "name": "python",
   "nbconvert_exporter": "python",
   "pygments_lexer": "ipython3",
   "version": "3.9.12"
  }
 },
 "nbformat": 4,
 "nbformat_minor": 2
}
